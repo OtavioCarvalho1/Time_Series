{
  "nbformat": 4,
  "nbformat_minor": 0,
  "metadata": {
    "colab": {
      "name": "time_series_SHM.ipynb",
      "provenance": [],
      "collapsed_sections": [],
      "include_colab_link": true
    },
    "kernelspec": {
      "name": "python3",
      "display_name": "Python 3"
    },
    "language_info": {
      "name": "python"
    }
  },
  "cells": [
    {
      "cell_type": "markdown",
      "metadata": {
        "id": "view-in-github",
        "colab_type": "text"
      },
      "source": [
        "<a href=\"https://colab.research.google.com/github/OtavioCarvalho1/Time_Series/blob/main/time_series_SHM.ipynb\" target=\"_parent\"><img src=\"https://colab.research.google.com/assets/colab-badge.svg\" alt=\"Open In Colab\"/></a>"
      ]
    },
    {
      "cell_type": "code",
      "metadata": {
        "id": "Es399AshoNmM",
        "colab": {
          "base_uri": "https://localhost:8080/"
        },
        "outputId": "922a4b4e-14d6-497f-ea1d-e835d2189f50"
      },
      "source": [
        "!git clone https://github.com/OtavioCarvalho1/Time_Series.git"
      ],
      "execution_count": 2,
      "outputs": [
        {
          "output_type": "stream",
          "text": [
            "Cloning into 'Time_Series'...\n",
            "remote: Enumerating objects: 1247, done.\u001b[K\n",
            "remote: Counting objects: 100% (3/3), done.\u001b[K\n",
            "remote: Compressing objects: 100% (3/3), done.\u001b[K\n",
            "remote: Total 1247 (delta 0), reused 0 (delta 0), pack-reused 1244\u001b[K\n",
            "Receiving objects: 100% (1247/1247), 169.32 MiB | 19.31 MiB/s, done.\n",
            "Resolving deltas: 100% (16/16), done.\n",
            "Checking out files: 100% (1208/1208), done.\n"
          ],
          "name": "stdout"
        }
      ]
    },
    {
      "cell_type": "code",
      "metadata": {
        "id": "77ROL7Kn1WPY",
        "colab": {
          "base_uri": "https://localhost:8080/"
        },
        "outputId": "eeafe5cf-28ff-4537-b24a-a00b9e36084c"
      },
      "source": [
        "!pip install statsmodels --upgrade"
      ],
      "execution_count": 3,
      "outputs": [
        {
          "output_type": "stream",
          "text": [
            "Collecting statsmodels\n",
            "\u001b[?25l  Downloading https://files.pythonhosted.org/packages/da/69/8eef30a6237c54f3c0b524140e2975f4b1eea3489b45eb3339574fc8acee/statsmodels-0.12.2-cp37-cp37m-manylinux1_x86_64.whl (9.5MB)\n",
            "\u001b[K     |████████████████████████████████| 9.5MB 449kB/s \n",
            "\u001b[?25hRequirement already satisfied, skipping upgrade: numpy>=1.15 in /usr/local/lib/python3.7/dist-packages (from statsmodels) (1.19.5)\n",
            "Requirement already satisfied, skipping upgrade: patsy>=0.5 in /usr/local/lib/python3.7/dist-packages (from statsmodels) (0.5.1)\n",
            "Requirement already satisfied, skipping upgrade: pandas>=0.21 in /usr/local/lib/python3.7/dist-packages (from statsmodels) (1.1.5)\n",
            "Requirement already satisfied, skipping upgrade: scipy>=1.1 in /usr/local/lib/python3.7/dist-packages (from statsmodels) (1.4.1)\n",
            "Requirement already satisfied, skipping upgrade: six in /usr/local/lib/python3.7/dist-packages (from patsy>=0.5->statsmodels) (1.15.0)\n",
            "Requirement already satisfied, skipping upgrade: python-dateutil>=2.7.3 in /usr/local/lib/python3.7/dist-packages (from pandas>=0.21->statsmodels) (2.8.1)\n",
            "Requirement already satisfied, skipping upgrade: pytz>=2017.2 in /usr/local/lib/python3.7/dist-packages (from pandas>=0.21->statsmodels) (2018.9)\n",
            "Installing collected packages: statsmodels\n",
            "  Found existing installation: statsmodels 0.10.2\n",
            "    Uninstalling statsmodels-0.10.2:\n",
            "      Successfully uninstalled statsmodels-0.10.2\n",
            "Successfully installed statsmodels-0.12.2\n"
          ],
          "name": "stdout"
        }
      ]
    },
    {
      "cell_type": "markdown",
      "metadata": {
        "id": "ZeR-SaUfpsHN"
      },
      "source": [
        "# Aplicação do algoritmo ao estado de referência"
      ]
    },
    {
      "cell_type": "code",
      "metadata": {
        "id": "VoMdqM7SYDmm"
      },
      "source": [
        "import pandas as pd\n",
        "\n",
        "import matplotlib.pyplot as plt\n",
        "\n",
        "from sklearn.preprocessing import StandardScaler\n",
        "\n",
        "from math import sqrt\n",
        "\n",
        "from statsmodels.tsa.ar_model import AutoReg\n",
        "\n",
        "from statistics import stdev"
      ],
      "execution_count": 4,
      "outputs": []
    },
    {
      "cell_type": "markdown",
      "metadata": {
        "id": "uix9xaolUz3s"
      },
      "source": [
        "**1.1** Importação do sinal utilizado no TREINAMENTO"
      ]
    },
    {
      "cell_type": "code",
      "metadata": {
        "id": "9jxrcNZRdpdy",
        "colab": {
          "base_uri": "https://localhost:8080/",
          "height": 204
        },
        "outputId": "5fbbc2b5-4e99-48dc-8622-bdf5649391f4"
      },
      "source": [
        "Names = ['Tempo [s]', 'Amplitude PZT Atuador', 'Amplitude PZT Sensor']\n",
        "\n",
        "df_train = pd.read_csv(\"/content/Time_Series/Dataset-LambWave-Wagner/PL0402_Ref/PL0402_Ref2_1_150KHz__5ciclos_B3_A3.csv\", names=Names)\n",
        "\n",
        "df_train.head()"
      ],
      "execution_count": 5,
      "outputs": [
        {
          "output_type": "execute_result",
          "data": {
            "text/html": [
              "<div>\n",
              "<style scoped>\n",
              "    .dataframe tbody tr th:only-of-type {\n",
              "        vertical-align: middle;\n",
              "    }\n",
              "\n",
              "    .dataframe tbody tr th {\n",
              "        vertical-align: top;\n",
              "    }\n",
              "\n",
              "    .dataframe thead th {\n",
              "        text-align: right;\n",
              "    }\n",
              "</style>\n",
              "<table border=\"1\" class=\"dataframe\">\n",
              "  <thead>\n",
              "    <tr style=\"text-align: right;\">\n",
              "      <th></th>\n",
              "      <th>Tempo [s]</th>\n",
              "      <th>Amplitude PZT Atuador</th>\n",
              "      <th>Amplitude PZT Sensor</th>\n",
              "    </tr>\n",
              "  </thead>\n",
              "  <tbody>\n",
              "    <tr>\n",
              "      <th>0</th>\n",
              "      <td>0.000000e+00</td>\n",
              "      <td>-0.000182</td>\n",
              "      <td>0.000000e+00</td>\n",
              "    </tr>\n",
              "    <tr>\n",
              "      <th>1</th>\n",
              "      <td>1.000000e-07</td>\n",
              "      <td>-0.000067</td>\n",
              "      <td>0.000000e+00</td>\n",
              "    </tr>\n",
              "    <tr>\n",
              "      <th>2</th>\n",
              "      <td>2.000000e-07</td>\n",
              "      <td>0.000169</td>\n",
              "      <td>0.000000e+00</td>\n",
              "    </tr>\n",
              "    <tr>\n",
              "      <th>3</th>\n",
              "      <td>3.000000e-07</td>\n",
              "      <td>-0.000112</td>\n",
              "      <td>0.000000e+00</td>\n",
              "    </tr>\n",
              "    <tr>\n",
              "      <th>4</th>\n",
              "      <td>4.000000e-07</td>\n",
              "      <td>-0.000063</td>\n",
              "      <td>1.000000e-08</td>\n",
              "    </tr>\n",
              "  </tbody>\n",
              "</table>\n",
              "</div>"
            ],
            "text/plain": [
              "      Tempo [s]  Amplitude PZT Atuador  Amplitude PZT Sensor\n",
              "0  0.000000e+00              -0.000182          0.000000e+00\n",
              "1  1.000000e-07              -0.000067          0.000000e+00\n",
              "2  2.000000e-07               0.000169          0.000000e+00\n",
              "3  3.000000e-07              -0.000112          0.000000e+00\n",
              "4  4.000000e-07              -0.000063          1.000000e-08"
            ]
          },
          "metadata": {
            "tags": []
          },
          "execution_count": 5
        }
      ]
    },
    {
      "cell_type": "markdown",
      "metadata": {
        "id": "tlClKxuuU8HG"
      },
      "source": [
        "**1.2** Importação do sinal utilizado no TESTE"
      ]
    },
    {
      "cell_type": "code",
      "metadata": {
        "id": "7bHbrKBW6zmF"
      },
      "source": [
        "df_test = pd.read_csv(\"/content/Time_Series/Dataset-LambWave-Wagner/PL0402_Ref/PL0402_Ref2_2_150KHz__5ciclos_B3_A3.csv\", names=Names)"
      ],
      "execution_count": 6,
      "outputs": []
    },
    {
      "cell_type": "code",
      "metadata": {
        "id": "TR271hyvpqoF",
        "colab": {
          "base_uri": "https://localhost:8080/",
          "height": 336
        },
        "outputId": "b3c6c0e2-bd31-45a4-edde-730fae7fa64c"
      },
      "source": [
        "# plot do sinal (sinal do PZT sensor vs tempo)\n",
        "plt.figure(figsize=(14,5))\n",
        "plt.plot(df_train['Tempo [s]'], df_train['Amplitude PZT Sensor'])\n",
        "plt.title('Sinal VS Tempo - Sinal Ref2_1_150KHz')\n",
        "plt.show()"
      ],
      "execution_count": 7,
      "outputs": [
        {
          "output_type": "display_data",
          "data": {
            "image/png": "[encoded data removed]",
            "text/plain": [
              "<Figure size 1008x360 with 1 Axes>"
            ]
          },
          "metadata": {
            "tags": [],
            "needs_background": "light"
          }
        }
      ]
    },
    {
      "cell_type": "markdown",
      "metadata": {
        "id": "Ccre14XkxwOc"
      },
      "source": [
        "**2** \"Normalização\"\n",
        "\n",
        "OBS: Como discutido, a operação vista no trabalho do autor Wagner Cano parece ser mais um standardization do que normalização. Portanto, nesse caso, faço aqui a \"standardização do sinal\", a seguir."
      ]
    },
    {
      "cell_type": "code",
      "metadata": {
        "id": "gbuLa4HCyKRE",
        "colab": {
          "base_uri": "https://localhost:8080/",
          "height": 298
        },
        "outputId": "43dd9d28-a0ee-4985-bfeb-ec54067dbe79"
      },
      "source": [
        "# Plot do histograma de valores do sinal df_train['Amplitude PZT Sensor']\n",
        "df_train [['Amplitude PZT Sensor']].hist()\n",
        "plt.title('Histograma df_train')\n",
        "plt.show"
      ],
      "execution_count": 8,
      "outputs": [
        {
          "output_type": "execute_result",
          "data": {
            "text/plain": [
              "<function matplotlib.pyplot.show>"
            ]
          },
          "metadata": {
            "tags": []
          },
          "execution_count": 8
        },
        {
          "output_type": "display_data",
          "data": {
            "image/png": "[encoded data removed]",
            "text/plain": [
              "<Figure size 432x288 with 1 Axes>"
            ]
          },
          "metadata": {
            "tags": [],
            "needs_background": "light"
          }
        }
      ]
    },
    {
      "cell_type": "code",
      "metadata": {
        "id": "bUh6LybBzF2c",
        "colab": {
          "base_uri": "https://localhost:8080/",
          "height": 376
        },
        "outputId": "cb0d0ea4-3b52-4639-c606-f7b92f5dfa39"
      },
      "source": [
        "# Standardization do dado de treinamento (df_train)\n",
        "scaler = StandardScaler()\n",
        "\n",
        "scaler = scaler.fit(df_train[['Amplitude PZT Sensor']])\n",
        "print('Média: %f, Desvio Padrão: %f' % (scaler.mean_, sqrt(scaler.var_)))\n",
        "\n",
        "headers = ['Amplitude PZT Sensor']\n",
        "\n",
        "df_train_std = pd.DataFrame(scaler.transform(df_train[['Amplitude PZT Sensor']]), columns=headers)\n",
        "coluna_tempo = df_train['Tempo [s]']\n",
        "df_train_std = df_train_std.join(coluna_tempo)\n",
        "df_train_std = df_train_std[['Tempo [s]', 'Amplitude PZT Sensor']] # organiza a ordem das colunas\n",
        "\n",
        "# df_train após standardization\n",
        "df_train_std.head(10)\n"
      ],
      "execution_count": 9,
      "outputs": [
        {
          "output_type": "stream",
          "text": [
            "Média: -0.000000, Desvio Padrão: 0.001791\n"
          ],
          "name": "stdout"
        },
        {
          "output_type": "execute_result",
          "data": {
            "text/html": [
              "<div>\n",
              "<style scoped>\n",
              "    .dataframe tbody tr th:only-of-type {\n",
              "        vertical-align: middle;\n",
              "    }\n",
              "\n",
              "    .dataframe tbody tr th {\n",
              "        vertical-align: top;\n",
              "    }\n",
              "\n",
              "    .dataframe thead th {\n",
              "        text-align: right;\n",
              "    }\n",
              "</style>\n",
              "<table border=\"1\" class=\"dataframe\">\n",
              "  <thead>\n",
              "    <tr style=\"text-align: right;\">\n",
              "      <th></th>\n",
              "      <th>Tempo [s]</th>\n",
              "      <th>Amplitude PZT Sensor</th>\n",
              "    </tr>\n",
              "  </thead>\n",
              "  <tbody>\n",
              "    <tr>\n",
              "      <th>0</th>\n",
              "      <td>0.000000e+00</td>\n",
              "      <td>0.000064</td>\n",
              "    </tr>\n",
              "    <tr>\n",
              "      <th>1</th>\n",
              "      <td>1.000000e-07</td>\n",
              "      <td>0.000064</td>\n",
              "    </tr>\n",
              "    <tr>\n",
              "      <th>2</th>\n",
              "      <td>2.000000e-07</td>\n",
              "      <td>0.000064</td>\n",
              "    </tr>\n",
              "    <tr>\n",
              "      <th>3</th>\n",
              "      <td>3.000000e-07</td>\n",
              "      <td>0.000064</td>\n",
              "    </tr>\n",
              "    <tr>\n",
              "      <th>4</th>\n",
              "      <td>4.000000e-07</td>\n",
              "      <td>0.000070</td>\n",
              "    </tr>\n",
              "    <tr>\n",
              "      <th>5</th>\n",
              "      <td>5.000000e-07</td>\n",
              "      <td>0.000087</td>\n",
              "    </tr>\n",
              "    <tr>\n",
              "      <th>6</th>\n",
              "      <td>6.000000e-07</td>\n",
              "      <td>0.000120</td>\n",
              "    </tr>\n",
              "    <tr>\n",
              "      <th>7</th>\n",
              "      <td>7.000000e-07</td>\n",
              "      <td>0.000182</td>\n",
              "    </tr>\n",
              "    <tr>\n",
              "      <th>8</th>\n",
              "      <td>8.000000e-07</td>\n",
              "      <td>0.000282</td>\n",
              "    </tr>\n",
              "    <tr>\n",
              "      <th>9</th>\n",
              "      <td>9.000000e-07</td>\n",
              "      <td>0.000450</td>\n",
              "    </tr>\n",
              "  </tbody>\n",
              "</table>\n",
              "</div>"
            ],
            "text/plain": [
              "      Tempo [s]  Amplitude PZT Sensor\n",
              "0  0.000000e+00              0.000064\n",
              "1  1.000000e-07              0.000064\n",
              "2  2.000000e-07              0.000064\n",
              "3  3.000000e-07              0.000064\n",
              "4  4.000000e-07              0.000070\n",
              "5  5.000000e-07              0.000087\n",
              "6  6.000000e-07              0.000120\n",
              "7  7.000000e-07              0.000182\n",
              "8  8.000000e-07              0.000282\n",
              "9  9.000000e-07              0.000450"
            ]
          },
          "metadata": {
            "tags": []
          },
          "execution_count": 9
        }
      ]
    },
    {
      "cell_type": "code",
      "metadata": {
        "id": "kphW__jpFFVH",
        "colab": {
          "base_uri": "https://localhost:8080/",
          "height": 376
        },
        "outputId": "f4710289-80ca-4b1e-808a-8a5ff451dd50"
      },
      "source": [
        "# Standardization do dado de teste (df_test)\n",
        "scaler = StandardScaler()\n",
        "\n",
        "scaler = scaler.fit(df_test[['Amplitude PZT Sensor']])\n",
        "print('Média: %f, Desvio Padrão: %f' % (scaler.mean_, sqrt(scaler.var_)))\n",
        "\n",
        "headers = ['Amplitude PZT Sensor']\n",
        "\n",
        "df_test_std = pd.DataFrame(scaler.transform(df_test[['Amplitude PZT Sensor']]), columns=headers)\n",
        "coluna_tempo = df_test['Tempo [s]']\n",
        "df_test_std = df_test_std.join(coluna_tempo)\n",
        "df_test_std = df_test_std[['Tempo [s]', 'Amplitude PZT Sensor']] # organiza a ordem das colunas\n",
        "\n",
        "# df_test após standardization\n",
        "df_test_std.head(10)"
      ],
      "execution_count": 10,
      "outputs": [
        {
          "output_type": "stream",
          "text": [
            "Média: -0.000000, Desvio Padrão: 0.001789\n"
          ],
          "name": "stdout"
        },
        {
          "output_type": "execute_result",
          "data": {
            "text/html": [
              "<div>\n",
              "<style scoped>\n",
              "    .dataframe tbody tr th:only-of-type {\n",
              "        vertical-align: middle;\n",
              "    }\n",
              "\n",
              "    .dataframe tbody tr th {\n",
              "        vertical-align: top;\n",
              "    }\n",
              "\n",
              "    .dataframe thead th {\n",
              "        text-align: right;\n",
              "    }\n",
              "</style>\n",
              "<table border=\"1\" class=\"dataframe\">\n",
              "  <thead>\n",
              "    <tr style=\"text-align: right;\">\n",
              "      <th></th>\n",
              "      <th>Tempo [s]</th>\n",
              "      <th>Amplitude PZT Sensor</th>\n",
              "    </tr>\n",
              "  </thead>\n",
              "  <tbody>\n",
              "    <tr>\n",
              "      <th>0</th>\n",
              "      <td>0.000000e+00</td>\n",
              "      <td>0.000055</td>\n",
              "    </tr>\n",
              "    <tr>\n",
              "      <th>1</th>\n",
              "      <td>1.000000e-07</td>\n",
              "      <td>0.000055</td>\n",
              "    </tr>\n",
              "    <tr>\n",
              "      <th>2</th>\n",
              "      <td>2.000000e-07</td>\n",
              "      <td>0.000055</td>\n",
              "    </tr>\n",
              "    <tr>\n",
              "      <th>3</th>\n",
              "      <td>3.000000e-07</td>\n",
              "      <td>0.000055</td>\n",
              "    </tr>\n",
              "    <tr>\n",
              "      <th>4</th>\n",
              "      <td>4.000000e-07</td>\n",
              "      <td>0.000066</td>\n",
              "    </tr>\n",
              "    <tr>\n",
              "      <th>5</th>\n",
              "      <td>5.000000e-07</td>\n",
              "      <td>0.000083</td>\n",
              "    </tr>\n",
              "    <tr>\n",
              "      <th>6</th>\n",
              "      <td>6.000000e-07</td>\n",
              "      <td>0.000122</td>\n",
              "    </tr>\n",
              "    <tr>\n",
              "      <th>7</th>\n",
              "      <td>7.000000e-07</td>\n",
              "      <td>0.000200</td>\n",
              "    </tr>\n",
              "    <tr>\n",
              "      <th>8</th>\n",
              "      <td>8.000000e-07</td>\n",
              "      <td>0.000340</td>\n",
              "    </tr>\n",
              "    <tr>\n",
              "      <th>9</th>\n",
              "      <td>9.000000e-07</td>\n",
              "      <td>0.000564</td>\n",
              "    </tr>\n",
              "  </tbody>\n",
              "</table>\n",
              "</div>"
            ],
            "text/plain": [
              "      Tempo [s]  Amplitude PZT Sensor\n",
              "0  0.000000e+00              0.000055\n",
              "1  1.000000e-07              0.000055\n",
              "2  2.000000e-07              0.000055\n",
              "3  3.000000e-07              0.000055\n",
              "4  4.000000e-07              0.000066\n",
              "5  5.000000e-07              0.000083\n",
              "6  6.000000e-07              0.000122\n",
              "7  7.000000e-07              0.000200\n",
              "8  8.000000e-07              0.000340\n",
              "9  9.000000e-07              0.000564"
            ]
          },
          "metadata": {
            "tags": []
          },
          "execution_count": 10
        }
      ]
    },
    {
      "cell_type": "markdown",
      "metadata": {
        "id": "FXBO1QzGF4CQ"
      },
      "source": [
        "**3** Isolamento do subframe de análise, entre 200 e 230 microssegundos. \n",
        "\n",
        "OBS: Segundo o autor, este é o melhor trecho para se observar as ondas A0, que interagem melhor com o tipo de \"dano\" na placa do experimento."
      ]
    },
    {
      "cell_type": "code",
      "metadata": {
        "id": "bFCojofTF3YZ",
        "colab": {
          "base_uri": "https://localhost:8080/",
          "height": 204
        },
        "outputId": "a8f65f1c-aa1b-4708-f7f7-ed944e1e646b"
      },
      "source": [
        "df_train_std_A0 = df_train_std.iloc[2000:2300]\n",
        "\n",
        "df_train_std_A0.head()"
      ],
      "execution_count": 11,
      "outputs": [
        {
          "output_type": "execute_result",
          "data": {
            "text/html": [
              "<div>\n",
              "<style scoped>\n",
              "    .dataframe tbody tr th:only-of-type {\n",
              "        vertical-align: middle;\n",
              "    }\n",
              "\n",
              "    .dataframe tbody tr th {\n",
              "        vertical-align: top;\n",
              "    }\n",
              "\n",
              "    .dataframe thead th {\n",
              "        text-align: right;\n",
              "    }\n",
              "</style>\n",
              "<table border=\"1\" class=\"dataframe\">\n",
              "  <thead>\n",
              "    <tr style=\"text-align: right;\">\n",
              "      <th></th>\n",
              "      <th>Tempo [s]</th>\n",
              "      <th>Amplitude PZT Sensor</th>\n",
              "    </tr>\n",
              "  </thead>\n",
              "  <tbody>\n",
              "    <tr>\n",
              "      <th>2000</th>\n",
              "      <td>0.0002</td>\n",
              "      <td>2.293469</td>\n",
              "    </tr>\n",
              "    <tr>\n",
              "      <th>2001</th>\n",
              "      <td>0.0002</td>\n",
              "      <td>2.269810</td>\n",
              "    </tr>\n",
              "    <tr>\n",
              "      <th>2002</th>\n",
              "      <td>0.0002</td>\n",
              "      <td>2.223110</td>\n",
              "    </tr>\n",
              "    <tr>\n",
              "      <th>2003</th>\n",
              "      <td>0.0002</td>\n",
              "      <td>2.153578</td>\n",
              "    </tr>\n",
              "    <tr>\n",
              "      <th>2004</th>\n",
              "      <td>0.0002</td>\n",
              "      <td>2.061643</td>\n",
              "    </tr>\n",
              "  </tbody>\n",
              "</table>\n",
              "</div>"
            ],
            "text/plain": [
              "      Tempo [s]  Amplitude PZT Sensor\n",
              "2000     0.0002              2.293469\n",
              "2001     0.0002              2.269810\n",
              "2002     0.0002              2.223110\n",
              "2003     0.0002              2.153578\n",
              "2004     0.0002              2.061643"
            ]
          },
          "metadata": {
            "tags": []
          },
          "execution_count": 11
        }
      ]
    },
    {
      "cell_type": "markdown",
      "metadata": {
        "id": "KeG-DdZ8IufN"
      },
      "source": [
        "Alterando o índice do subset para começar em 0, envitando assim problemas ao aplicar os algoritmos AR e ARX"
      ]
    },
    {
      "cell_type": "code",
      "metadata": {
        "id": "VYL1jfqepRfW",
        "colab": {
          "base_uri": "https://localhost:8080/",
          "height": 204
        },
        "outputId": "769a158e-cb7b-4982-e335-a4ee2f3a5ab8"
      },
      "source": [
        "df_train_std_A0 = df_train_std_A0.reset_index(drop=True)\n",
        "\n",
        "df_train_std_A0.head()"
      ],
      "execution_count": 12,
      "outputs": [
        {
          "output_type": "execute_result",
          "data": {
            "text/html": [
              "<div>\n",
              "<style scoped>\n",
              "    .dataframe tbody tr th:only-of-type {\n",
              "        vertical-align: middle;\n",
              "    }\n",
              "\n",
              "    .dataframe tbody tr th {\n",
              "        vertical-align: top;\n",
              "    }\n",
              "\n",
              "    .dataframe thead th {\n",
              "        text-align: right;\n",
              "    }\n",
              "</style>\n",
              "<table border=\"1\" class=\"dataframe\">\n",
              "  <thead>\n",
              "    <tr style=\"text-align: right;\">\n",
              "      <th></th>\n",
              "      <th>Tempo [s]</th>\n",
              "      <th>Amplitude PZT Sensor</th>\n",
              "    </tr>\n",
              "  </thead>\n",
              "  <tbody>\n",
              "    <tr>\n",
              "      <th>0</th>\n",
              "      <td>0.0002</td>\n",
              "      <td>2.293469</td>\n",
              "    </tr>\n",
              "    <tr>\n",
              "      <th>1</th>\n",
              "      <td>0.0002</td>\n",
              "      <td>2.269810</td>\n",
              "    </tr>\n",
              "    <tr>\n",
              "      <th>2</th>\n",
              "      <td>0.0002</td>\n",
              "      <td>2.223110</td>\n",
              "    </tr>\n",
              "    <tr>\n",
              "      <th>3</th>\n",
              "      <td>0.0002</td>\n",
              "      <td>2.153578</td>\n",
              "    </tr>\n",
              "    <tr>\n",
              "      <th>4</th>\n",
              "      <td>0.0002</td>\n",
              "      <td>2.061643</td>\n",
              "    </tr>\n",
              "  </tbody>\n",
              "</table>\n",
              "</div>"
            ],
            "text/plain": [
              "   Tempo [s]  Amplitude PZT Sensor\n",
              "0     0.0002              2.293469\n",
              "1     0.0002              2.269810\n",
              "2     0.0002              2.223110\n",
              "3     0.0002              2.153578\n",
              "4     0.0002              2.061643"
            ]
          },
          "metadata": {
            "tags": []
          },
          "execution_count": 12
        }
      ]
    },
    {
      "cell_type": "code",
      "metadata": {
        "id": "6ZciSer4JSYQ",
        "colab": {
          "base_uri": "https://localhost:8080/",
          "height": 336
        },
        "outputId": "2ebcb897-4777-456f-a3d5-9e828f226c49"
      },
      "source": [
        "# Plot do subframe do sinal para treinamento\n",
        "plt.figure(figsize=(10,5))\n",
        "plt.plot(df_train_std_A0['Amplitude PZT Sensor'])\n",
        "plt.title('Sinal Ref2_1_150KHz - Standardized - 200-230 us')\n",
        "plt.show()"
      ],
      "execution_count": 13,
      "outputs": [
        {
          "output_type": "display_data",
          "data": {
            "image/png": "[encoded data removed]",
            "text/plain": [
              "<Figure size 720x360 with 1 Axes>"
            ]
          },
          "metadata": {
            "tags": [],
            "needs_background": "light"
          }
        }
      ]
    },
    {
      "cell_type": "code",
      "metadata": {
        "id": "uoazo7SOyKR1"
      },
      "source": [
        "df_test_std_A0 = df_test_std.iloc[2000:2300]\n",
        "\n",
        "df_test_std_A0 = df_test_std_A0.reset_index(drop=True)"
      ],
      "execution_count": 14,
      "outputs": []
    },
    {
      "cell_type": "markdown",
      "metadata": {
        "id": "UZnG9SNlyggV"
      },
      "source": [
        "**4** Escolha da ordem do AR utilizando o AIC e validação do modelo AR de referência\n",
        "\n"
      ]
    },
    {
      "cell_type": "code",
      "metadata": {
        "id": "J5Ugbg0B0jbb",
        "colab": {
          "base_uri": "https://localhost:8080/"
        },
        "outputId": "03f770f5-9502-4acb-feab-5f595a6b4b4c"
      },
      "source": [
        "AIC = []\n",
        "for i in range(0, 11):\n",
        "  model = AutoReg(df_train_std_A0['Amplitude PZT Sensor'], \n",
        "                  lags=i, \n",
        "                  old_names=False).fit()\n",
        "  AIC.append(model.aic)\n",
        "print(AIC)"
      ],
      "execution_count": 15,
      "outputs": [
        {
          "output_type": "stream",
          "text": [
            "[2.359027648790406, -2.356481871372275, -11.82078291832983, -16.04257722228672, -22.240251284790386, -22.470489931175933, -22.580774976926755, -22.94918508600906, -23.154827155596045, -23.158761137227927, -23.212988936790683]\n"
          ],
          "name": "stdout"
        }
      ]
    },
    {
      "cell_type": "code",
      "metadata": {
        "id": "7n92pOBoFr1r",
        "colab": {
          "base_uri": "https://localhost:8080/",
          "height": 424
        },
        "outputId": "6ad1a7a8-7b55-4553-c09c-5823ba0fa9f9"
      },
      "source": [
        "# plot do gráfico para escolha da ordem do modelo AR\n",
        "plt.figure(figsize=(8,6))\n",
        "plt.plot(range(0,11), AIC)\n",
        "plt.title('Variação do AIC pelo número de lags')\n",
        "plt.xlabel('N° lags', fontsize=12)\n",
        "plt.ylabel('Índice AIC', fontsize=12)\n",
        "plt.show"
      ],
      "execution_count": 16,
      "outputs": [
        {
          "output_type": "execute_result",
          "data": {
            "text/plain": [
              "<function matplotlib.pyplot.show>"
            ]
          },
          "metadata": {
            "tags": []
          },
          "execution_count": 16
        },
        {
          "output_type": "display_data",
          "data": {
            "image/png": "[encoded data removed]",
            "text/plain": [
              "<Figure size 576x432 with 1 Axes>"
            ]
          },
          "metadata": {
            "tags": [],
            "needs_background": "light"
          }
        }
      ]
    },
    {
      "cell_type": "markdown",
      "metadata": {
        "id": "wrSprG9OAAfa"
      },
      "source": [
        "**5** Aplicação do índice de falha de Lu e Gao"
      ]
    },
    {
      "cell_type": "markdown",
      "metadata": {
        "id": "dBY0QNpqAUjJ"
      },
      "source": [
        "OBS: abaixo segue apenas uma tentativa de entender o processo de obtenção do índice de falha apresentado no trabalho."
      ]
    },
    {
      "cell_type": "markdown",
      "metadata": {
        "id": "XW42BAKPZ0zO"
      },
      "source": [
        "Obtendo os índices de falha para a condição sem dano:"
      ]
    },
    {
      "cell_type": "code",
      "metadata": {
        "id": "9jwwJzcGicyg"
      },
      "source": [
        "# Definindo função para simplificar o trabalho de importar, padronizar, isolar o subframe, resetar o índice, fazer o AR(2) e criar o residual do teste avaliado e tirar seu desvio padrão.\n",
        "\n",
        "def get_residual_std(arquivo):\n",
        "  names = ['Tempo [s]', 'Amplitude PZT Atuador', 'Amplitude PZT Sensor']\n",
        "  df = pd.read_csv(arquivo, names=names)\n",
        "  scaler = StandardScaler()\n",
        "  #transformando para DataFrame para poder aplicar o iloc\n",
        "  df_std = pd.DataFrame( scaler.fit_transform(df[['Amplitude PZT Sensor']]))\n",
        "  subframe = df_std.iloc[2000:2300]\n",
        "  subframe = subframe.reset_index(drop=True)\n",
        "  model = AutoReg(subframe[0], \n",
        "                  lags=2, \n",
        "                  old_names=False).fit()\n",
        "  return stdev(model.resid)"
      ],
      "execution_count": 17,
      "outputs": []
    },
    {
      "cell_type": "code",
      "metadata": {
        "id": "5Y18ANdH2zq5",
        "colab": {
          "base_uri": "https://localhost:8080/"
        },
        "outputId": "39f93d66-3f61-4e38-f25e-2b0917620ee9"
      },
      "source": [
        "# Exemplo de utilização do get_residual_std\n",
        "get_residual_std(\"/content/Time_Series/Dataset-LambWave-Wagner/PL0402_Ref/PL0402_Ref2_2_150KHz__5ciclos_B3_A3.csv\")"
      ],
      "execution_count": 18,
      "outputs": [
        {
          "output_type": "execute_result",
          "data": {
            "text/plain": [
              "0.0026914852540684884"
            ]
          },
          "metadata": {
            "tags": []
          },
          "execution_count": 18
        }
      ]
    },
    {
      "cell_type": "code",
      "metadata": {
        "id": "ckxSO-wMWIyM"
      },
      "source": [
        "# teste_semdano1 = get_residual_std(\"/content/Time_Series/Dataset-LambWave-Wagner/PL0402_Ref/PL0402_Ref2_1_150KHz__5ciclos_B3_A3.csv\") \n",
        "# teste_semdano2 = get_residual_std(\"/content/Time_Series/Dataset-LambWave-Wagner/PL0402_Ref/PL0402_Ref2_2_150KHz__5ciclos_B3_A3.csv\")\n",
        "# teste_semdano3 = get_residual_std(\"/content/Time_Series/Dataset-LambWave-Wagner/PL0402_Ref/PL0402_Ref2_3_150KHz__5ciclos_B3_A3.csv\")\n",
        "# teste_semdano4 = get_residual_std(\"/content/Time_Series/Dataset-LambWave-Wagner/PL0402_Ref/PL0402_Ref2_4_150KHz__5ciclos_B3_A3.csv\")\n",
        "# teste_semdano5 = get_residual_std(\"/content/Time_Series/Dataset-LambWave-Wagner/PL0402_Ref/PL0402_Ref2_5_150KHz__5ciclos_B3_A3.csv\")\n",
        "# teste_semdano6 = get_residual_std(\"/content/Time_Series/Dataset-LambWave-Wagner/PL0402_Ref/PL0402_Ref2_6_150KHz__5ciclos_B3_A3.csv\")\n",
        "# teste_semdano7 = get_residual_std(\"/content/Time_Series/Dataset-LambWave-Wagner/PL0402_Ref/PL0402_Ref2_7_150KHz__5ciclos_B3_A3.csv\")\n",
        "# teste_semdano8 = get_residual_std(\"/content/Time_Series/Dataset-LambWave-Wagner/PL0402_Ref/PL0402_Ref2_8_150KHz__5ciclos_B3_A3.csv\")\n",
        "# teste_semdano9 = get_residual_std(\"/content/Time_Series/Dataset-LambWave-Wagner/PL0402_Ref/PL0402_Ref2_9_150KHz__5ciclos_B3_A3.csv\")\n",
        "# teste_semdano10 = get_residual_std(\"/content/Time_Series/Dataset-LambWave-Wagner/PL0402_Ref/PL0402_Ref2_10_150KHz__5ciclos_B3_A3.csv\")\n",
        "# teste_semdano11 = get_residual_std(\"/content/Time_Series/Dataset-LambWave-Wagner/PL0402_Ref/PL0402_Ref3_1_150KHz__5ciclos_B3_A3.csv\")\n",
        "# teste_semdano12 = get_residual_std(\"/content/Time_Series/Dataset-LambWave-Wagner/PL0402_Ref/PL0402_Ref3_2_150KHz__5ciclos_B3_A3.csv\")\n",
        "# teste_semdano13 = get_residual_std(\"/content/Time_Series/Dataset-LambWave-Wagner/PL0402_Ref/PL0402_Ref3_3_150KHz__5ciclos_B3_A3.csv\")\n",
        "# teste_semdano14 = get_residual_std(\"/content/Time_Series/Dataset-LambWave-Wagner/PL0402_Ref/PL0402_Ref3_4_150KHz__5ciclos_B3_A3.csv\")\n",
        "# teste_semdano15 = get_residual_std(\"/content/Time_Series/Dataset-LambWave-Wagner/PL0402_Ref/PL0402_Ref3_5_150KHz__5ciclos_B3_A3.csv\")\n",
        "# teste_semdano16 = get_residual_std(\"/content/Time_Series/Dataset-LambWave-Wagner/PL0402_Ref/PL0402_Ref3_6_150KHz__5ciclos_B3_A3.csv\")\n",
        "# teste_semdano17 = get_residual_std(\"/content/Time_Series/Dataset-LambWave-Wagner/PL0402_Ref/PL0402_Ref3_7_150KHz__5ciclos_B3_A3.csv\")\n",
        "# teste_semdano18 = get_residual_std(\"/content/Time_Series/Dataset-LambWave-Wagner/PL0402_Ref/PL0402_Ref3_8_150KHz__5ciclos_B3_A3.csv\")\n",
        "# teste_semdano19 = get_residual_std(\"/content/Time_Series/Dataset-LambWave-Wagner/PL0402_Ref/PL0402_Ref3_9_150KHz__5ciclos_B3_A3.csv\")\n",
        "# teste_semdano20 = get_residual_std(\"/content/Time_Series/Dataset-LambWave-Wagner/PL0402_Ref/PL0402_Ref3_10_150KHz__5ciclos_B3_A3.csv\")"
      ],
      "execution_count": 19,
      "outputs": []
    },
    {
      "cell_type": "code",
      "metadata": {
        "colab": {
          "base_uri": "https://localhost:8080/"
        },
        "id": "Agg9i72OeenE",
        "outputId": "84286df1-13ac-4ebb-984f-a34ef52b1eb8"
      },
      "source": [
        "resid_semdano = [get_residual_std(\"/content/Time_Series/Dataset-LambWave-Wagner/PL0402_Ref/PL0402_Ref2_1_150KHz__5ciclos_B3_A3.csv\"), \n",
        "get_residual_std(\"/content/Time_Series/Dataset-LambWave-Wagner/PL0402_Ref/PL0402_Ref2_2_150KHz__5ciclos_B3_A3.csv\"),\n",
        "get_residual_std(\"/content/Time_Series/Dataset-LambWave-Wagner/PL0402_Ref/PL0402_Ref2_3_150KHz__5ciclos_B3_A3.csv\"),\n",
        "get_residual_std(\"/content/Time_Series/Dataset-LambWave-Wagner/PL0402_Ref/PL0402_Ref2_4_150KHz__5ciclos_B3_A3.csv\"),\n",
        "get_residual_std(\"/content/Time_Series/Dataset-LambWave-Wagner/PL0402_Ref/PL0402_Ref2_5_150KHz__5ciclos_B3_A3.csv\"),\n",
        "get_residual_std(\"/content/Time_Series/Dataset-LambWave-Wagner/PL0402_Ref/PL0402_Ref2_6_150KHz__5ciclos_B3_A3.csv\"),\n",
        "get_residual_std(\"/content/Time_Series/Dataset-LambWave-Wagner/PL0402_Ref/PL0402_Ref2_7_150KHz__5ciclos_B3_A3.csv\"),\n",
        "get_residual_std(\"/content/Time_Series/Dataset-LambWave-Wagner/PL0402_Ref/PL0402_Ref2_8_150KHz__5ciclos_B3_A3.csv\"),\n",
        "get_residual_std(\"/content/Time_Series/Dataset-LambWave-Wagner/PL0402_Ref/PL0402_Ref2_9_150KHz__5ciclos_B3_A3.csv\"),\n",
        "get_residual_std(\"/content/Time_Series/Dataset-LambWave-Wagner/PL0402_Ref/PL0402_Ref2_10_150KHz__5ciclos_B3_A3.csv\"),\n",
        "get_residual_std(\"/content/Time_Series/Dataset-LambWave-Wagner/PL0402_Ref/PL0402_Ref3_1_150KHz__5ciclos_B3_A3.csv\"),\n",
        "get_residual_std(\"/content/Time_Series/Dataset-LambWave-Wagner/PL0402_Ref/PL0402_Ref3_2_150KHz__5ciclos_B3_A3.csv\"),\n",
        "get_residual_std(\"/content/Time_Series/Dataset-LambWave-Wagner/PL0402_Ref/PL0402_Ref3_3_150KHz__5ciclos_B3_A3.csv\"),\n",
        "get_residual_std(\"/content/Time_Series/Dataset-LambWave-Wagner/PL0402_Ref/PL0402_Ref3_4_150KHz__5ciclos_B3_A3.csv\"),\n",
        "get_residual_std(\"/content/Time_Series/Dataset-LambWave-Wagner/PL0402_Ref/PL0402_Ref3_5_150KHz__5ciclos_B3_A3.csv\"),\n",
        "get_residual_std(\"/content/Time_Series/Dataset-LambWave-Wagner/PL0402_Ref/PL0402_Ref3_6_150KHz__5ciclos_B3_A3.csv\"),\n",
        "get_residual_std(\"/content/Time_Series/Dataset-LambWave-Wagner/PL0402_Ref/PL0402_Ref3_7_150KHz__5ciclos_B3_A3.csv\"),\n",
        "get_residual_std(\"/content/Time_Series/Dataset-LambWave-Wagner/PL0402_Ref/PL0402_Ref3_8_150KHz__5ciclos_B3_A3.csv\"),\n",
        "get_residual_std(\"/content/Time_Series/Dataset-LambWave-Wagner/PL0402_Ref/PL0402_Ref3_9_150KHz__5ciclos_B3_A3.csv\"),\n",
        "get_residual_std(\"/content/Time_Series/Dataset-LambWave-Wagner/PL0402_Ref/PL0402_Ref3_10_150KHz__5ciclos_B3_A3.csv\")]\n",
        "print(resid_semdano)"
      ],
      "execution_count": 20,
      "outputs": [
        {
          "output_type": "stream",
          "text": [
            "[0.002679477130361082, 0.0026914852540684884, 0.002679737570817021, 0.002665280956919896, 0.0026786456239361175, 0.0026852482002553127, 0.002687373863321104, 0.002700443595699377, 0.002667174147989302, 0.002670128116386271, 0.002621337971792978, 0.002610307245969718, 0.0026427282715710404, 0.002598500586469599, 0.002626545884596724, 0.0026140825258538945, 0.002632595090804718, 0.0026410645966687125, 0.002634517875340639, 0.0026308670773244375]\n"
          ],
          "name": "stdout"
        }
      ]
    },
    {
      "cell_type": "code",
      "metadata": {
        "id": "WaHkuR8NYwl3",
        "colab": {
          "base_uri": "https://localhost:8080/"
        },
        "outputId": "5ac77ed4-656c-4d35-de79-47b22eb85b23"
      },
      "source": [
        "gama = {}\n",
        "\n",
        "for i in range(len(resid_semdano)):\n",
        "\n",
        "    temp = []\n",
        "    \n",
        "    gama[i] = temp\n",
        "\n",
        "    for j in range(0,10):\n",
        "        \n",
        "        temp.append(resid_semdano[i]/resid_semdano[j])\n",
        "\n",
        "gama"
      ],
      "execution_count": 28,
      "outputs": [
        {
          "output_type": "execute_result",
          "data": {
            "text/plain": [
              "{0: [1.0,\n",
              "  0.9955384768728512,\n",
              "  0.9999028112085395,\n",
              "  1.0053263328221846,\n",
              "  1.0003104204667965,\n",
              "  0.9978508244065923,\n",
              "  0.9970615428438144,\n",
              "  0.9922359180648376,\n",
              "  1.0046127405595375,\n",
              "  1.0035013353544489],\n",
              " 1: [1.0044815175212143,\n",
              "  1.0,\n",
              "  1.0043838931764821,\n",
              "  1.0098317203972653,\n",
              "  1.0047933291427718,\n",
              "  1.0023227103597288,\n",
              "  1.001529891617798,\n",
              "  0.9966826407168233,\n",
              "  1.0091149301583904,\n",
              "  1.0079985441714017],\n",
              " 2: [1.0000971982380398,\n",
              "  0.9956352414587041,\n",
              "  1.0,\n",
              "  1.0054240487703898,\n",
              "  1.0004076488771587,\n",
              "  0.9979478137485511,\n",
              "  0.9971584554689961,\n",
              "  0.9923323616477931,\n",
              "  1.0047103871478322,\n",
              "  1.0035988739161157],\n",
              " 3: [0.9947018866926202,\n",
              "  0.9902640012205226,\n",
              "  0.9946052128183891,\n",
              "  1.0,\n",
              "  0.9950106625166106,\n",
              "  0.9925640976750238,\n",
              "  0.9917789978153969,\n",
              "  0.986978939743278,\n",
              "  0.9992901884300157,\n",
              "  0.998184671575634],\n",
              " 4: [0.9996896758641666,\n",
              "  0.9952295372553268,\n",
              "  0.9995925172327339,\n",
              "  1.005014355796721,\n",
              "  1.0,\n",
              "  0.9975411672118177,\n",
              "  0.9967521305821587,\n",
              "  0.9919280033110213,\n",
              "  1.0043009849789761,\n",
              "  1.0031899246697473],\n",
              " 5: [1.0021538044974665,\n",
              "  0.997682672121741,\n",
              "  1.0020564063803499,\n",
              "  1.0074916091992385,\n",
              "  1.0024648935492606,\n",
              "  1.0,\n",
              "  0.9992090184790424,\n",
              "  0.9943730002477135,\n",
              "  1.006776479998367,\n",
              "  1.0056626810437488],\n",
              " 6: [1.002947117133617,\n",
              "  0.9984724453752182,\n",
              "  1.002849641915404,\n",
              "  1.0082891472825213,\n",
              "  1.0032584524458898,\n",
              "  1.0007916076679948,\n",
              "  1.0,\n",
              "  0.9951601535395566,\n",
              "  1.0075734519798905,\n",
              "  1.0064587713334794],\n",
              " 7: [1.0078248345920644,\n",
              "  1.003328400784417,\n",
              "  1.0077268853143866,\n",
              "  1.013192845087565,\n",
              "  1.0081376840476675,\n",
              "  1.005658842055129,\n",
              "  1.0048633844946757,\n",
              "  1.0,\n",
              "  1.0124736690834963,\n",
              "  1.011353567316513],\n",
              " 8: [0.9954084391195672,\n",
              "  0.9909674013474762,\n",
              "  0.9953116965763597,\n",
              "  1.0007103157603292,\n",
              "  0.9957174342718919,\n",
              "  0.9932691315967395,\n",
              "  0.9924834740683087,\n",
              "  0.9876800064392907,\n",
              "  1.0,\n",
              "  0.9988936978795732],\n",
              " 9: [0.9965108812204898,\n",
              "  0.9920649248774692,\n",
              "  0.9964140315322668,\n",
              "  1.0018186298347986,\n",
              "  0.9968202185934061,\n",
              "  0.9943692043560056,\n",
              "  0.9935826766903506,\n",
              "  0.988773889089413,\n",
              "  1.001107527380316,\n",
              "  1.0],\n",
              " 10: [0.9783020508332276,\n",
              "  0.9739373336080981,\n",
              "  0.9782069708392238,\n",
              "  0.9835128131565911,\n",
              "  0.9786057358125152,\n",
              "  0.9761995079425961,\n",
              "  0.9754273521710457,\n",
              "  0.970706433553221,\n",
              "  0.9828147043825848,\n",
              "  0.9817274143911398],\n",
              " 11: [0.9741853051822679,\n",
              "  0.9698389549130688,\n",
              "  0.9740906252897987,\n",
              "  0.9793741403481502,\n",
              "  0.9744877122394489,\n",
              "  0.9720916099009138,\n",
              "  0.9713227034008042,\n",
              "  0.9666216506528015,\n",
              "  0.9786789692519876,\n",
              "  0.977596254633087],\n",
              " 12: [0.9862850634649419,\n",
              "  0.9818847298443317,\n",
              "  0.9861892076115882,\n",
              "  0.9915383459705057,\n",
              "  0.9865912265347371,\n",
              "  0.9841653636784006,\n",
              "  0.9833869070621645,\n",
              "  0.9786274654207732,\n",
              "  0.9908345405804527,\n",
              "  0.9897383782272164],\n",
              " 13: [0.9697789755419294,\n",
              "  0.9654522842143265,\n",
              "  0.9696847238953128,\n",
              "  0.974944341129623,\n",
              "  0.9700800147842066,\n",
              "  0.9676947502366948,\n",
              "  0.9669293215713299,\n",
              "  0.962249532116824,\n",
              "  0.9742523143561985,\n",
              "  0.9731744969549955],\n",
              " 14: [0.9802456810828517,\n",
              "  0.9758722923064129,\n",
              "  0.980150412189773,\n",
              "  0.985466795827808,\n",
              "  0.9805499694047487,\n",
              "  0.9781389609895252,\n",
              "  0.9773652711464539,\n",
              "  0.9726349732983354,\n",
              "  0.9847673000942941,\n",
              "  0.9836778499420729],\n",
              " 15: [0.9755942665954476,\n",
              "  0.9712416302123184,\n",
              "  0.9754994497677214,\n",
              "  0.98079060635875,\n",
              "  0.9758971110230882,\n",
              "  0.9734975432086123,\n",
              "  0.9727275246412366,\n",
              "  0.9680196727741258,\n",
              "  0.9800944298386247,\n",
              "  0.9790101492926757],\n",
              " 16: [0.9825032880388697,\n",
              "  0.9781198268967846,\n",
              "  0.9824077997316992,\n",
              "  0.9877364275498554,\n",
              "  0.9828082771681718,\n",
              "  0.9803917159517738,\n",
              "  0.9796162442211559,\n",
              "  0.9748750520089693,\n",
              "  0.9870353208054855,\n",
              "  0.9859433615371422],\n",
              " 17: [0.9856641681105921,\n",
              "  0.9812666046289649,\n",
              "  0.9855683726013076,\n",
              "  0.9909141435208508,\n",
              "  0.9859701384417615,\n",
              "  0.9835458027371924,\n",
              "  0.9827678361822119,\n",
              "  0.9780113907488277,\n",
              "  0.9902107811969186,\n",
              "  0.989115308910011],\n",
              " 18: [0.9832208849588558,\n",
              "  0.9788342222415163,\n",
              "  0.9831253269093081,\n",
              "  0.9884578466298696,\n",
              "  0.9835260968449289,\n",
              "  0.9811077706299737,\n",
              "  0.9803317325133374,\n",
              "  0.9755870774476724,\n",
              "  0.98775622781389,\n",
              "  0.9866634710045947],\n",
              " 19: [0.9818583810677667,\n",
              "  0.9774777971930481,\n",
              "  0.9817629554383255,\n",
              "  0.987088085589585,\n",
              "  0.9821631700047458,\n",
              "  0.9797481949989931,\n",
              "  0.9789732322815574,\n",
              "  0.9742351521484306,\n",
              "  0.9863874390458399,\n",
              "  0.9852961965304612]}"
            ]
          },
          "metadata": {
            "tags": []
          },
          "execution_count": 28
        }
      ]
    },
    {
      "cell_type": "code",
      "metadata": {
        "colab": {
          "base_uri": "https://localhost:8080/",
          "height": 592
        },
        "id": "c0KDzgcPzPeh",
        "outputId": "e14f8e9d-0ba9-4486-d42b-0b22999e9db5"
      },
      "source": [
        "values = list(gama.values())\n",
        "\n",
        "plt.figure(figsize=(14,10))\n",
        "plt.plot(values, 'x')\n",
        "plt.show()"
      ],
      "execution_count": 30,
      "outputs": [
        {
          "output_type": "display_data",
          "data": {
            "image/png": "[encoded data removed]",
            "text/plain": [
              "<Figure size 1008x720 with 1 Axes>"
            ]
          },
          "metadata": {
            "tags": [],
            "needs_background": "light"
          }
        }
      ]
    }
  ]
}