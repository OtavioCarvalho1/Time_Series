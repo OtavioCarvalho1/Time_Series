{
  "nbformat": 4,
  "nbformat_minor": 0,
  "metadata": {
    "colab": {
      "name": "time_series_SHM.ipynb",
      "provenance": [],
      "mount_file_id": "19ow7tPSSJ1dTJab3cpYisEvQWC_Wsimr",
      "authorship_tag": "ABX9TyMftXTgcdPs4j3dUGG98fLk",
      "include_colab_link": true
    },
    "kernelspec": {
      "name": "python3",
      "display_name": "Python 3"
    },
    "language_info": {
      "name": "python"
    }
  },
  "cells": [
    {
      "cell_type": "markdown",
      "metadata": {
        "id": "view-in-github",
        "colab_type": "text"
      },
      "source": [
        "<a href=\"https://colab.research.google.com/github/OtavioCarvalho1/Time_Series/blob/main/time_series_SHM.ipynb\" target=\"_parent\"><img src=\"https://colab.research.google.com/assets/colab-badge.svg\" alt=\"Open In Colab\"/></a>"
      ]
    },
    {
      "cell_type": "markdown",
      "metadata": {
        "id": "ZeR-SaUfpsHN"
      },
      "source": [
        "# Aplicação do altoritmo ao estado de referência"
      ]
    },
    {
      "cell_type": "code",
      "metadata": {
        "id": "VoMdqM7SYDmm"
      },
      "source": [
        "import pandas as pd\n",
        "import matplotlib.pyplot as plt\n",
        "from sklearn.preprocessing import StandardScaler\n",
        "from math import sqrt"
      ],
      "execution_count": 12,
      "outputs": []
    },
    {
      "cell_type": "markdown",
      "metadata": {
        "id": "uix9xaolUz3s"
      },
      "source": [
        "**1.1** Importação do sinal utilizado no TREINAMENTO"
      ]
    },
    {
      "cell_type": "code",
      "metadata": {
        "id": "9jxrcNZRdpdy",
        "colab": {
          "base_uri": "https://localhost:8080/",
          "height": 405
        },
        "outputId": "8b77ee52-37f9-4b5f-c1b4-810355d12ac9"
      },
      "source": [
        "Names = ['Tempo [s]', 'Amplitude PZT Atuador', 'Amplitude PZT Sensor']\n",
        "\n",
        "df_train = pd.read_csv(\"/content/drive/MyDrive/Dataset-LambWave-Wagner/PL0402_Ref/PL0402_Ref2_1_150KHz__5ciclos_B3_A3.csv\", names=Names)\n",
        "df_train"
      ],
      "execution_count": 24,
      "outputs": [
        {
          "output_type": "execute_result",
          "data": {
            "text/html": [
              "<div>\n",
              "<style scoped>\n",
              "    .dataframe tbody tr th:only-of-type {\n",
              "        vertical-align: middle;\n",
              "    }\n",
              "\n",
              "    .dataframe tbody tr th {\n",
              "        vertical-align: top;\n",
              "    }\n",
              "\n",
              "    .dataframe thead th {\n",
              "        text-align: right;\n",
              "    }\n",
              "</style>\n",
              "<table border=\"1\" class=\"dataframe\">\n",
              "  <thead>\n",
              "    <tr style=\"text-align: right;\">\n",
              "      <th></th>\n",
              "      <th>Tempo [s]</th>\n",
              "      <th>Amplitude PZT Atuador</th>\n",
              "      <th>Amplitude PZT Sensor</th>\n",
              "    </tr>\n",
              "  </thead>\n",
              "  <tbody>\n",
              "    <tr>\n",
              "      <th>0</th>\n",
              "      <td>0.000000e+00</td>\n",
              "      <td>-0.000182</td>\n",
              "      <td>0.000000e+00</td>\n",
              "    </tr>\n",
              "    <tr>\n",
              "      <th>1</th>\n",
              "      <td>1.000000e-07</td>\n",
              "      <td>-0.000067</td>\n",
              "      <td>0.000000e+00</td>\n",
              "    </tr>\n",
              "    <tr>\n",
              "      <th>2</th>\n",
              "      <td>2.000000e-07</td>\n",
              "      <td>0.000169</td>\n",
              "      <td>0.000000e+00</td>\n",
              "    </tr>\n",
              "    <tr>\n",
              "      <th>3</th>\n",
              "      <td>3.000000e-07</td>\n",
              "      <td>-0.000112</td>\n",
              "      <td>0.000000e+00</td>\n",
              "    </tr>\n",
              "    <tr>\n",
              "      <th>4</th>\n",
              "      <td>4.000000e-07</td>\n",
              "      <td>-0.000063</td>\n",
              "      <td>1.000000e-08</td>\n",
              "    </tr>\n",
              "    <tr>\n",
              "      <th>...</th>\n",
              "      <td>...</td>\n",
              "      <td>...</td>\n",
              "      <td>...</td>\n",
              "    </tr>\n",
              "    <tr>\n",
              "      <th>14995</th>\n",
              "      <td>1.499500e-03</td>\n",
              "      <td>-0.000309</td>\n",
              "      <td>-3.881000e-05</td>\n",
              "    </tr>\n",
              "    <tr>\n",
              "      <th>14996</th>\n",
              "      <td>1.499600e-03</td>\n",
              "      <td>-0.000339</td>\n",
              "      <td>-2.935000e-05</td>\n",
              "    </tr>\n",
              "    <tr>\n",
              "      <th>14997</th>\n",
              "      <td>1.499700e-03</td>\n",
              "      <td>-0.000459</td>\n",
              "      <td>-1.844000e-05</td>\n",
              "    </tr>\n",
              "    <tr>\n",
              "      <th>14998</th>\n",
              "      <td>1.499800e-03</td>\n",
              "      <td>-0.000513</td>\n",
              "      <td>-6.140000e-06</td>\n",
              "    </tr>\n",
              "    <tr>\n",
              "      <th>14999</th>\n",
              "      <td>1.499900e-03</td>\n",
              "      <td>-0.000447</td>\n",
              "      <td>7.470000e-06</td>\n",
              "    </tr>\n",
              "  </tbody>\n",
              "</table>\n",
              "<p>15000 rows × 3 columns</p>\n",
              "</div>"
            ],
            "text/plain": [
              "          Tempo [s]  Amplitude PZT Atuador  Amplitude PZT Sensor\n",
              "0      0.000000e+00              -0.000182          0.000000e+00\n",
              "1      1.000000e-07              -0.000067          0.000000e+00\n",
              "2      2.000000e-07               0.000169          0.000000e+00\n",
              "3      3.000000e-07              -0.000112          0.000000e+00\n",
              "4      4.000000e-07              -0.000063          1.000000e-08\n",
              "...             ...                    ...                   ...\n",
              "14995  1.499500e-03              -0.000309         -3.881000e-05\n",
              "14996  1.499600e-03              -0.000339         -2.935000e-05\n",
              "14997  1.499700e-03              -0.000459         -1.844000e-05\n",
              "14998  1.499800e-03              -0.000513         -6.140000e-06\n",
              "14999  1.499900e-03              -0.000447          7.470000e-06\n",
              "\n",
              "[15000 rows x 3 columns]"
            ]
          },
          "metadata": {
            "tags": []
          },
          "execution_count": 24
        }
      ]
    },
    {
      "cell_type": "markdown",
      "metadata": {
        "id": "tlClKxuuU8HG"
      },
      "source": [
        "**1.2** Importação do sinal utilizado no TESTE"
      ]
    },
    {
      "cell_type": "code",
      "metadata": {
        "id": "7bHbrKBW6zmF"
      },
      "source": [
        "df_test = pd.read_csv(\"/content/drive/MyDrive/Dataset-LambWave-Wagner/PL0402_Ref/PL0402_Ref2_2_150KHz__5ciclos_B3_A3.csv\", names=Names)"
      ],
      "execution_count": 25,
      "outputs": []
    },
    {
      "cell_type": "code",
      "metadata": {
        "id": "TR271hyvpqoF",
        "colab": {
          "base_uri": "https://localhost:8080/",
          "height": 301
        },
        "outputId": "399ce475-b817-43cb-bbca-54afe8334970"
      },
      "source": [
        "# plot do sinal (sinal do PZT sensor vs tempo)\n",
        "plt.figure(figsize=(14,5))\n",
        "plt.plot(df_train['Tempo [s]'], df_train['Amplitude PZT Sensor'])\n",
        "plt.title('Sinal VS Tempo - Sinal Ref2_1_150KHz')\n",
        "plt.show()"
      ],
      "execution_count": 26,
      "outputs": [
        {
          "output_type": "display_data",
          "data": {
            "image/png": "[encoded data removed]",
            "text/plain": [
              "<Figure size 1008x360 with 1 Axes>"
            ]
          },
          "metadata": {
            "tags": [],
            "needs_background": "light"
          }
        }
      ]
    },
    {
      "cell_type": "markdown",
      "metadata": {
        "id": "Ccre14XkxwOc"
      },
      "source": [
        "**2** \"Normalização\"\n",
        "\n",
        "OBS: Como discutido, a operação vista no trabalho do autor Wagner Cano parece ser mais um standardization do que normalização. Portanto, nesse caso, faço aqui a \"standardização do sinal\", a seguir."
      ]
    },
    {
      "cell_type": "code",
      "metadata": {
        "colab": {
          "base_uri": "https://localhost:8080/",
          "height": 297
        },
        "id": "gbuLa4HCyKRE",
        "outputId": "54ceb145-3344-46ca-fd72-74b358e45b41"
      },
      "source": [
        "# Plot do histograma de valores do sinal df_train['Amplitude PZT Sensor']\n",
        "df_train [['Amplitude PZT Sensor']].hist()\n",
        "plt.title('Histograma df_train')\n",
        "plt.show"
      ],
      "execution_count": 27,
      "outputs": [
        {
          "output_type": "execute_result",
          "data": {
            "text/plain": [
              "<function matplotlib.pyplot.show>"
            ]
          },
          "metadata": {
            "tags": []
          },
          "execution_count": 27
        },
        {
          "output_type": "display_data",
          "data": {
            "image/png": "[encoded data removed]",
            "text/plain": [
              "<Figure size 432x288 with 1 Axes>"
            ]
          },
          "metadata": {
            "tags": [],
            "needs_background": "light"
          }
        }
      ]
    },
    {
      "cell_type": "code",
      "metadata": {
        "colab": {
          "base_uri": "https://localhost:8080/",
          "height": 363
        },
        "id": "bUh6LybBzF2c",
        "outputId": "e5348137-73ec-4bd1-8458-b5d6d1fea6e6"
      },
      "source": [
        "# Standardization do dado de treinamento (df_train)\n",
        "scaler = StandardScaler()\n",
        "\n",
        "scaler = scaler.fit(df_train[['Amplitude PZT Sensor']])\n",
        "print('Média: %f, Desvio Padrão: %f' % (scaler.mean_, sqrt(scaler.var_)))\n",
        "\n",
        "headers = ['Amplitude PZT Sensor']\n",
        "\n",
        "df_train_std = pd.DataFrame(scaler.transform(df_train[['Amplitude PZT Sensor']]), columns=headers)\n",
        "coluna_tempo = df_train['Tempo [s]']\n",
        "df_train_std = df_train_std.join(coluna_tempo)\n",
        "df_train_std = df_train_std[['Tempo [s]', 'Amplitude PZT Sensor']] # organiza a ordem das colunas\n",
        "\n",
        "# df_train após standardization\n",
        "df_train_std.head(10)\n"
      ],
      "execution_count": 30,
      "outputs": [
        {
          "output_type": "stream",
          "text": [
            "Média: -0.000000, Desvio Padrão: 0.001791\n"
          ],
          "name": "stdout"
        },
        {
          "output_type": "execute_result",
          "data": {
            "text/html": [
              "<div>\n",
              "<style scoped>\n",
              "    .dataframe tbody tr th:only-of-type {\n",
              "        vertical-align: middle;\n",
              "    }\n",
              "\n",
              "    .dataframe tbody tr th {\n",
              "        vertical-align: top;\n",
              "    }\n",
              "\n",
              "    .dataframe thead th {\n",
              "        text-align: right;\n",
              "    }\n",
              "</style>\n",
              "<table border=\"1\" class=\"dataframe\">\n",
              "  <thead>\n",
              "    <tr style=\"text-align: right;\">\n",
              "      <th></th>\n",
              "      <th>Tempo [s]</th>\n",
              "      <th>Amplitude PZT Sensor</th>\n",
              "    </tr>\n",
              "  </thead>\n",
              "  <tbody>\n",
              "    <tr>\n",
              "      <th>0</th>\n",
              "      <td>0.000000e+00</td>\n",
              "      <td>0.000064</td>\n",
              "    </tr>\n",
              "    <tr>\n",
              "      <th>1</th>\n",
              "      <td>1.000000e-07</td>\n",
              "      <td>0.000064</td>\n",
              "    </tr>\n",
              "    <tr>\n",
              "      <th>2</th>\n",
              "      <td>2.000000e-07</td>\n",
              "      <td>0.000064</td>\n",
              "    </tr>\n",
              "    <tr>\n",
              "      <th>3</th>\n",
              "      <td>3.000000e-07</td>\n",
              "      <td>0.000064</td>\n",
              "    </tr>\n",
              "    <tr>\n",
              "      <th>4</th>\n",
              "      <td>4.000000e-07</td>\n",
              "      <td>0.000070</td>\n",
              "    </tr>\n",
              "    <tr>\n",
              "      <th>5</th>\n",
              "      <td>5.000000e-07</td>\n",
              "      <td>0.000087</td>\n",
              "    </tr>\n",
              "    <tr>\n",
              "      <th>6</th>\n",
              "      <td>6.000000e-07</td>\n",
              "      <td>0.000120</td>\n",
              "    </tr>\n",
              "    <tr>\n",
              "      <th>7</th>\n",
              "      <td>7.000000e-07</td>\n",
              "      <td>0.000182</td>\n",
              "    </tr>\n",
              "    <tr>\n",
              "      <th>8</th>\n",
              "      <td>8.000000e-07</td>\n",
              "      <td>0.000282</td>\n",
              "    </tr>\n",
              "    <tr>\n",
              "      <th>9</th>\n",
              "      <td>9.000000e-07</td>\n",
              "      <td>0.000450</td>\n",
              "    </tr>\n",
              "  </tbody>\n",
              "</table>\n",
              "</div>"
            ],
            "text/plain": [
              "      Tempo [s]  Amplitude PZT Sensor\n",
              "0  0.000000e+00              0.000064\n",
              "1  1.000000e-07              0.000064\n",
              "2  2.000000e-07              0.000064\n",
              "3  3.000000e-07              0.000064\n",
              "4  4.000000e-07              0.000070\n",
              "5  5.000000e-07              0.000087\n",
              "6  6.000000e-07              0.000120\n",
              "7  7.000000e-07              0.000182\n",
              "8  8.000000e-07              0.000282\n",
              "9  9.000000e-07              0.000450"
            ]
          },
          "metadata": {
            "tags": []
          },
          "execution_count": 30
        }
      ]
    },
    {
      "cell_type": "code",
      "metadata": {
        "id": "kphW__jpFFVH"
      },
      "source": [
        "# Standardization do dado de treinamento (df_test)\n",
        "scaler = StandardScaler()\n",
        "\n",
        "scaler = scaler.fit(df_test[['Amplitude PZT Sensor']])\n",
        "print('Média: %f, Desvio Padrão: %f' % (scaler.mean_, sqrt(scaler.var_)))\n",
        "\n",
        "headers = ['Amplitude PZT Sensor']\n",
        "\n",
        "df_test_std = pd.DataFrame(scaler.transform(df_test[['Amplitude PZT Sensor']]), columns=headers)\n",
        "coluna_tempo = df_test['Tempo [s]']\n",
        "df_test_std = df_test_std.join(coluna_tempo)\n",
        "df_test_std = df_test_std[['Tempo [s]', 'Amplitude PZT Sensor']] # organiza a ordem das colunas\n",
        "\n",
        "# df_test após standardization\n",
        "df_test_std.head(10)"
      ],
      "execution_count": null,
      "outputs": []
    },
    {
      "cell_type": "markdown",
      "metadata": {
        "id": "FXBO1QzGF4CQ"
      },
      "source": [
        "**3** Isolamento do subframe de análise, entre 200 e 230 microssegundos. \n",
        "\n",
        "OBS: Segundo o autor, este é o melhor trecho para se observar as ondas A0, que interagem melhor com o tipo de \"dano\" na placa do experimento."
      ]
    },
    {
      "cell_type": "code",
      "metadata": {
        "colab": {
          "base_uri": "https://localhost:8080/",
          "height": 197
        },
        "id": "bFCojofTF3YZ",
        "outputId": "54c27f9f-6f94-4e5a-b263-9c7ea613e316"
      },
      "source": [
        "df_train_std_A0 = df_train_std.iloc[2000:2300]\n",
        "df_train_std_A0.head()"
      ],
      "execution_count": 58,
      "outputs": [
        {
          "output_type": "execute_result",
          "data": {
            "text/html": [
              "<div>\n",
              "<style scoped>\n",
              "    .dataframe tbody tr th:only-of-type {\n",
              "        vertical-align: middle;\n",
              "    }\n",
              "\n",
              "    .dataframe tbody tr th {\n",
              "        vertical-align: top;\n",
              "    }\n",
              "\n",
              "    .dataframe thead th {\n",
              "        text-align: right;\n",
              "    }\n",
              "</style>\n",
              "<table border=\"1\" class=\"dataframe\">\n",
              "  <thead>\n",
              "    <tr style=\"text-align: right;\">\n",
              "      <th></th>\n",
              "      <th>Tempo [s]</th>\n",
              "      <th>Amplitude PZT Sensor</th>\n",
              "    </tr>\n",
              "  </thead>\n",
              "  <tbody>\n",
              "    <tr>\n",
              "      <th>2000</th>\n",
              "      <td>0.0002</td>\n",
              "      <td>2.293469</td>\n",
              "    </tr>\n",
              "    <tr>\n",
              "      <th>2001</th>\n",
              "      <td>0.0002</td>\n",
              "      <td>2.269810</td>\n",
              "    </tr>\n",
              "    <tr>\n",
              "      <th>2002</th>\n",
              "      <td>0.0002</td>\n",
              "      <td>2.223110</td>\n",
              "    </tr>\n",
              "    <tr>\n",
              "      <th>2003</th>\n",
              "      <td>0.0002</td>\n",
              "      <td>2.153578</td>\n",
              "    </tr>\n",
              "    <tr>\n",
              "      <th>2004</th>\n",
              "      <td>0.0002</td>\n",
              "      <td>2.061643</td>\n",
              "    </tr>\n",
              "  </tbody>\n",
              "</table>\n",
              "</div>"
            ],
            "text/plain": [
              "      Tempo [s]  Amplitude PZT Sensor\n",
              "2000     0.0002              2.293469\n",
              "2001     0.0002              2.269810\n",
              "2002     0.0002              2.223110\n",
              "2003     0.0002              2.153578\n",
              "2004     0.0002              2.061643"
            ]
          },
          "metadata": {
            "tags": []
          },
          "execution_count": 58
        }
      ]
    },
    {
      "cell_type": "markdown",
      "metadata": {
        "id": "KeG-DdZ8IufN"
      },
      "source": [
        "# Alterando o índice do subset para começar em 0, envitando assim problemas ao aplicar os algoritmos AR e ARX"
      ]
    },
    {
      "cell_type": "code",
      "metadata": {
        "colab": {
          "base_uri": "https://localhost:8080/",
          "height": 48
        },
        "id": "9JNJL6p7N1N3",
        "outputId": "21f59922-3108-41f2-c1fd-354dbc0934c0"
      },
      "source": [
        "df_train_std_A0 = pd.DataFrame(df_train_std_A0.reset_index(inplace=True, drop=True), columns=headers)\n",
        "coluna_tempo = df_train['Tempo [s]']\n",
        "df_train_std_A0 = df_train_std_A0.join(coluna_tempo)\n",
        "df_train_std_A0 = df_train_std_A0[['Tempo [s]', 'Amplitude PZT Sensor']]\n",
        "df_train_std_A0.head()"
      ],
      "execution_count": 59,
      "outputs": [
        {
          "output_type": "execute_result",
          "data": {
            "text/html": [
              "<div>\n",
              "<style scoped>\n",
              "    .dataframe tbody tr th:only-of-type {\n",
              "        vertical-align: middle;\n",
              "    }\n",
              "\n",
              "    .dataframe tbody tr th {\n",
              "        vertical-align: top;\n",
              "    }\n",
              "\n",
              "    .dataframe thead th {\n",
              "        text-align: right;\n",
              "    }\n",
              "</style>\n",
              "<table border=\"1\" class=\"dataframe\">\n",
              "  <thead>\n",
              "    <tr style=\"text-align: right;\">\n",
              "      <th></th>\n",
              "      <th>Tempo [s]</th>\n",
              "      <th>Amplitude PZT Sensor</th>\n",
              "    </tr>\n",
              "  </thead>\n",
              "  <tbody>\n",
              "  </tbody>\n",
              "</table>\n",
              "</div>"
            ],
            "text/plain": [
              "Empty DataFrame\n",
              "Columns: [Tempo [s], Amplitude PZT Sensor]\n",
              "Index: []"
            ]
          },
          "metadata": {
            "tags": []
          },
          "execution_count": 59
        }
      ]
    },
    {
      "cell_type": "code",
      "metadata": {
        "colab": {
          "base_uri": "https://localhost:8080/",
          "height": 336
        },
        "id": "6ZciSer4JSYQ",
        "outputId": "3ef66942-96ed-401b-ed1a-42130ef1d9fb"
      },
      "source": [
        "plt.figure(figsize=(10,5))\n",
        "plt.plot(df_train_std_A0['Amplitude PZT Sensor'])\n",
        "plt.title('Sinal Ref2_1_150KHz - Standardized - 200-230 us')\n",
        "plt.show()"
      ],
      "execution_count": 39,
      "outputs": [
        {
          "output_type": "display_data",
          "data": {
            "image/png": "[encoded data removed]",
            "text/plain": [
              "<Figure size 720x360 with 1 Axes>"
            ]
          },
          "metadata": {
            "tags": [],
            "needs_background": "light"
          }
        }
      ]
    }
  ]
}