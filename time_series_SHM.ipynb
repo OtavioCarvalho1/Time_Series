{
  "nbformat": 4,
  "nbformat_minor": 0,
  "metadata": {
    "colab": {
      "name": "time_series_SHM.ipynb",
      "provenance": [],
      "mount_file_id": "19ow7tPSSJ1dTJab3cpYisEvQWC_Wsimr",
      "authorship_tag": "ABX9TyMM0GjnDSFeb1nLPuifa7YI",
      "include_colab_link": true
    },
    "kernelspec": {
      "name": "python3",
      "display_name": "Python 3"
    },
    "language_info": {
      "name": "python"
    }
  },
  "cells": [
    {
      "cell_type": "markdown",
      "metadata": {
        "id": "view-in-github",
        "colab_type": "text"
      },
      "source": [
        "<a href=\"https://colab.research.google.com/github/OtavioCarvalho1/Time_Series/blob/main/time_series_SHM.ipynb\" target=\"_parent\"><img src=\"https://colab.research.google.com/assets/colab-badge.svg\" alt=\"Open In Colab\"/></a>"
      ]
    },
    {
      "cell_type": "code",
      "metadata": {
        "id": "VoMdqM7SYDmm"
      },
      "source": [
        "import pandas as pd"
      ],
      "execution_count": 2,
      "outputs": []
    },
    {
      "cell_type": "markdown",
      "metadata": {
        "id": "uix9xaolUz3s"
      },
      "source": [
        "Importação do sinal utilizado no TREINAMENTO"
      ]
    },
    {
      "cell_type": "code",
      "metadata": {
        "id": "9jxrcNZRdpdy",
        "colab": {
          "base_uri": "https://localhost:8080/",
          "height": 402
        },
        "outputId": "667739ea-d333-47b5-bf27-5dd1b976f6d6"
      },
      "source": [
        "Names = ['tempo [s]', 'Amplitude PZT Atuador', 'Amplitude PZT Sensor']\n",
        "\n",
        "df_train = pd.read_csv(\"/content/drive/MyDrive/Dataset-LambWave-Wagner/PL0402_Ref/PL0402_Ref2_1_150KHz__5ciclos_B3_A3.csv\", names=Names)\n",
        "df_train"
      ],
      "execution_count": 5,
      "outputs": [
        {
          "output_type": "execute_result",
          "data": {
            "text/html": [
              "<div>\n",
              "<style scoped>\n",
              "    .dataframe tbody tr th:only-of-type {\n",
              "        vertical-align: middle;\n",
              "    }\n",
              "\n",
              "    .dataframe tbody tr th {\n",
              "        vertical-align: top;\n",
              "    }\n",
              "\n",
              "    .dataframe thead th {\n",
              "        text-align: right;\n",
              "    }\n",
              "</style>\n",
              "<table border=\"1\" class=\"dataframe\">\n",
              "  <thead>\n",
              "    <tr style=\"text-align: right;\">\n",
              "      <th></th>\n",
              "      <th>tempo [s]</th>\n",
              "      <th>Amplitude PZT Atuador</th>\n",
              "      <th>Amplitude PZT Sensor</th>\n",
              "    </tr>\n",
              "  </thead>\n",
              "  <tbody>\n",
              "    <tr>\n",
              "      <th>0</th>\n",
              "      <td>0.000000e+00</td>\n",
              "      <td>-0.000312</td>\n",
              "      <td>-0.000000e+00</td>\n",
              "    </tr>\n",
              "    <tr>\n",
              "      <th>1</th>\n",
              "      <td>1.000000e-07</td>\n",
              "      <td>-0.000136</td>\n",
              "      <td>-0.000000e+00</td>\n",
              "    </tr>\n",
              "    <tr>\n",
              "      <th>2</th>\n",
              "      <td>2.000000e-07</td>\n",
              "      <td>-0.000141</td>\n",
              "      <td>-0.000000e+00</td>\n",
              "    </tr>\n",
              "    <tr>\n",
              "      <th>3</th>\n",
              "      <td>3.000000e-07</td>\n",
              "      <td>-0.000105</td>\n",
              "      <td>-0.000000e+00</td>\n",
              "    </tr>\n",
              "    <tr>\n",
              "      <th>4</th>\n",
              "      <td>4.000000e-07</td>\n",
              "      <td>-0.000038</td>\n",
              "      <td>-1.000000e-08</td>\n",
              "    </tr>\n",
              "    <tr>\n",
              "      <th>...</th>\n",
              "      <td>...</td>\n",
              "      <td>...</td>\n",
              "      <td>...</td>\n",
              "    </tr>\n",
              "    <tr>\n",
              "      <th>14995</th>\n",
              "      <td>1.499500e-03</td>\n",
              "      <td>-0.000429</td>\n",
              "      <td>-3.192000e-05</td>\n",
              "    </tr>\n",
              "    <tr>\n",
              "      <th>14996</th>\n",
              "      <td>1.499600e-03</td>\n",
              "      <td>-0.000536</td>\n",
              "      <td>-2.153000e-05</td>\n",
              "    </tr>\n",
              "    <tr>\n",
              "      <th>14997</th>\n",
              "      <td>1.499700e-03</td>\n",
              "      <td>-0.000430</td>\n",
              "      <td>-9.680000e-06</td>\n",
              "    </tr>\n",
              "    <tr>\n",
              "      <th>14998</th>\n",
              "      <td>1.499800e-03</td>\n",
              "      <td>-0.000518</td>\n",
              "      <td>3.530000e-06</td>\n",
              "    </tr>\n",
              "    <tr>\n",
              "      <th>14999</th>\n",
              "      <td>1.499900e-03</td>\n",
              "      <td>-0.000692</td>\n",
              "      <td>1.802000e-05</td>\n",
              "    </tr>\n",
              "  </tbody>\n",
              "</table>\n",
              "<p>15000 rows × 3 columns</p>\n",
              "</div>"
            ],
            "text/plain": [
              "          tempo [s]  Amplitude PZT Atuador  Amplitude PZT Sensor\n",
              "0      0.000000e+00              -0.000312         -0.000000e+00\n",
              "1      1.000000e-07              -0.000136         -0.000000e+00\n",
              "2      2.000000e-07              -0.000141         -0.000000e+00\n",
              "3      3.000000e-07              -0.000105         -0.000000e+00\n",
              "4      4.000000e-07              -0.000038         -1.000000e-08\n",
              "...             ...                    ...                   ...\n",
              "14995  1.499500e-03              -0.000429         -3.192000e-05\n",
              "14996  1.499600e-03              -0.000536         -2.153000e-05\n",
              "14997  1.499700e-03              -0.000430         -9.680000e-06\n",
              "14998  1.499800e-03              -0.000518          3.530000e-06\n",
              "14999  1.499900e-03              -0.000692          1.802000e-05\n",
              "\n",
              "[15000 rows x 3 columns]"
            ]
          },
          "metadata": {
            "tags": []
          },
          "execution_count": 5
        }
      ]
    },
    {
      "cell_type": "markdown",
      "metadata": {
        "id": "tlClKxuuU8HG"
      },
      "source": [
        "Importação do sinal utilizado no TESTE"
      ]
    },
    {
      "cell_type": "code",
      "metadata": {
        "id": "7bHbrKBW6zmF"
      },
      "source": [
        "df_test = pd.read_csv(\"/content/drive/MyDrive/Dataset-LambWave-Wagner/PL0402_Ref/PL0402_Ref2_2_150KHz__5ciclos_B3_A3.csv\", names=Names)\n",
        "df_test"
      ],
      "execution_count": null,
      "outputs": []
    }
  ]
}