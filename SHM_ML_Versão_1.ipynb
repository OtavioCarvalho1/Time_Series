{
  "nbformat": 4,
  "nbformat_minor": 0,
  "metadata": {
    "colab": {
      "name": "SHM - ML - Versão 1.ipynb",
      "provenance": [],
      "include_colab_link": true
    },
    "kernelspec": {
      "name": "python3",
      "display_name": "Python 3"
    },
    "language_info": {
      "name": "python"
    }
  },
  "cells": [
    {
      "cell_type": "markdown",
      "metadata": {
        "id": "view-in-github",
        "colab_type": "text"
      },
      "source": [
        "<a href=\"https://colab.research.google.com/github/OtavioCarvalho1/Time_Series/blob/main/SHM_ML_Vers%C3%A3o_1.ipynb\" target=\"_parent\"><img src=\"https://colab.research.google.com/assets/colab-badge.svg\" alt=\"Open In Colab\"/></a>"
      ]
    },
    {
      "cell_type": "code",
      "metadata": {
        "colab": {
          "base_uri": "https://localhost:8080/"
        },
        "id": "ehC31qeXUpRn",
        "outputId": "c8007639-011d-49a6-87b4-ed38726802e5"
      },
      "source": [
        "!git clone https://github.com/OtavioCarvalho1/Time_Series.git"
      ],
      "execution_count": 5,
      "outputs": [
        {
          "output_type": "stream",
          "text": [
            "fatal: destination path 'Time_Series' already exists and is not an empty directory.\n"
          ],
          "name": "stdout"
        }
      ]
    },
    {
      "cell_type": "code",
      "metadata": {
        "colab": {
          "base_uri": "https://localhost:8080/"
        },
        "id": "8mQ2uoUzXLRK",
        "outputId": "3ffdbbce-54bb-46ee-8b32-744869a7a438"
      },
      "source": [
        "!pip install statsmodels --upgrade"
      ],
      "execution_count": 6,
      "outputs": [
        {
          "output_type": "stream",
          "text": [
            "Requirement already satisfied: statsmodels in /usr/local/lib/python3.7/dist-packages (0.12.2)\n",
            "Requirement already satisfied: patsy>=0.5 in /usr/local/lib/python3.7/dist-packages (from statsmodels) (0.5.1)\n",
            "Requirement already satisfied: numpy>=1.15 in /usr/local/lib/python3.7/dist-packages (from statsmodels) (1.19.5)\n",
            "Requirement already satisfied: scipy>=1.1 in /usr/local/lib/python3.7/dist-packages (from statsmodels) (1.4.1)\n",
            "Requirement already satisfied: pandas>=0.21 in /usr/local/lib/python3.7/dist-packages (from statsmodels) (1.1.5)\n",
            "Requirement already satisfied: pytz>=2017.2 in /usr/local/lib/python3.7/dist-packages (from pandas>=0.21->statsmodels) (2018.9)\n",
            "Requirement already satisfied: python-dateutil>=2.7.3 in /usr/local/lib/python3.7/dist-packages (from pandas>=0.21->statsmodels) (2.8.2)\n",
            "Requirement already satisfied: six in /usr/local/lib/python3.7/dist-packages (from patsy>=0.5->statsmodels) (1.15.0)\n"
          ],
          "name": "stdout"
        }
      ]
    },
    {
      "cell_type": "code",
      "metadata": {
        "id": "mkOC2T2GXUHV"
      },
      "source": [
        "import numpy as np\n",
        "\n",
        "import pandas as pd\n",
        "\n",
        "import matplotlib.pyplot as plt\n",
        "\n",
        "from scipy.stats import kurtosis, skew\n",
        "\n",
        "from sklearn.preprocessing import StandardScaler\n",
        "\n",
        "from math import sqrt\n",
        "\n",
        "from statsmodels.tsa.ar_model import AutoReg\n",
        "\n",
        "from statistics import stdev"
      ],
      "execution_count": 7,
      "outputs": []
    },
    {
      "cell_type": "markdown",
      "metadata": {
        "id": "QviAa6dpQV2u"
      },
      "source": [
        "# **Extração de Features**"
      ]
    },
    {
      "cell_type": "code",
      "metadata": {
        "id": "dfjR9A4cddhX"
      },
      "source": [
        "# função para extração de features dos sinais\n",
        "\n",
        "def get_features(arquivo):\n",
        "    names = ['Tempo [s]', 'Amplitude PZT Atuador', 'Amplitude PZT Sensor']\n",
        "    df = pd.read_csv(arquivo, names=names)\n",
        "    peak = np.max(df['Amplitude PZT Sensor']) #1 - peak\n",
        "    mean = df['Amplitude PZT Sensor'].mean() #2 - mean\n",
        "    ms = np.square(mean) #3 - mean square\n",
        "    rms = np.sqrt(ms) #4 - root mean square\n",
        "    var = df['Amplitude PZT Sensor'].var() #5 - variance\n",
        "    std = stdev(df['Amplitude PZT Sensor']) #6 - standard deviation\n",
        "    skw = skew(df['Amplitude PZT Sensor']) #7 - skewness\n",
        "    kurt = kurtosis(df['Amplitude PZT Sensor']) #8 - kurtosis\n",
        "    crest_f = peak/rms #9 - crest factor\n",
        "    K_f = peak*rms #10 - K-Factor\n",
        "    md = pd.DataFrame([peak, mean, ms, rms, var, std, skw, kurt, crest_f, K_f])\n",
        "    return md"
      ],
      "execution_count": 8,
      "outputs": []
    },
    {
      "cell_type": "code",
      "metadata": {
        "id": "s6-gCEFYv03g"
      },
      "source": [
        "# função que coloca ruído no sinal de 80 dB e extrai as features dele\n",
        "\n",
        "def get_features_noise_80(arquivo):\n",
        "    names = ['Tempo [s]', 'Amplitude PZT Atuador', 'Amplitude PZT Sensor']\n",
        "    df = pd.read_csv(arquivo, names=names)\n",
        "    peak = np.max(df['Amplitude PZT Sensor']) #1 - peak\n",
        "    mean = df['Amplitude PZT Sensor'].mean() #2 - mean\n",
        "    ms = np.square(mean) #3 - mean square\n",
        "    rms = np.sqrt(ms) #4 - root mean square\n",
        "    var = df['Amplitude PZT Sensor'].var() #5 - variance\n",
        "    std = stdev(df['Amplitude PZT Sensor']) #6 - standard deviation\n",
        "    skw = skew(df['Amplitude PZT Sensor']) #7 - skewness\n",
        "    kurt = kurtosis(df['Amplitude PZT Sensor']) #8 - kurtosis\n",
        "    crest_f = peak/rms #9 - crest factor\n",
        "    K_f = peak*rms #10 - K-Factor\n",
        "    md = pd.DataFrame([peak, mean, ms, rms, var, std, skw, kurt, crest_f, K_f])\n",
        "    \n",
        "    x_watts = df['Amplitude PZT Sensor']**2\n",
        "    x_dB = 10 * np.log10(x_watts)\n",
        "    target_SNR_dB = 80\n",
        "    sig_avg_watts = np.mean(x_watts)\n",
        "    sig_avg_db = 10 * np.log10(sig_avg_watts)\n",
        "    noise_avg_db = sig_avg_db - target_SNR_dB\n",
        "    noise_avg_watts = 10 ** (noise_avg_db / 10)\n",
        "    mean_noise = 0\n",
        "    noise_volts = np.random.normal(mean_noise, np.sqrt(noise_avg_watts), len(x_watts))\n",
        "    y_volts = df['Amplitude PZT Sensor'] + noise_volts\n",
        "    return pd.DataFrame(y_volts)"
      ],
      "execution_count": 52,
      "outputs": []
    },
    {
      "cell_type": "markdown",
      "metadata": {
        "id": "MvYtwOl-5Bmo"
      },
      "source": [
        "**Inserção de Ruído**"
      ]
    },
    {
      "cell_type": "code",
      "metadata": {
        "id": "UoYnFXrM5M_l"
      },
      "source": [
        "def input_noise_80(arquivo):\n",
        "    names = ['Tempo [s]', 'Amplitude PZT Atuador', 'Amplitude PZT Sensor']\n",
        "    df = pd.read_csv(arquivo, names=names)\n",
        "    x_watts = df['Amplitude PZT Sensor']**2\n",
        "    x_dB = 10 * np.log10(x_watts)\n",
        "    target_SNR_dB = 80\n",
        "    sig_avg_watts = np.mean(x_watts)\n",
        "    sig_avg_db = 10 * np.log10(sig_avg_watts)\n",
        "    noise_avg_db = sig_avg_db - target_SNR_dB\n",
        "    noise_avg_watts = 10 ** (noise_avg_db / 10)\n",
        "    mean_noise = 0\n",
        "    noise_volts = np.random.normal(mean_noise, np.sqrt(noise_avg_watts), len(x_watts))\n",
        "    y_volts = df['Amplitude PZT Sensor'] + noise_volts\n",
        "    return pd.DataFrame(y_volts)"
      ],
      "execution_count": 48,
      "outputs": []
    },
    {
      "cell_type": "code",
      "metadata": {
        "colab": {
          "base_uri": "https://localhost:8080/",
          "height": 375
        },
        "id": "QwqB5gU7o1v0",
        "outputId": "5f2b4961-341d-45d6-862f-4eb7be865491"
      },
      "source": [
        "noise = input_noise_80(\"/content/Time_Series/Dataset-LambWave-Wagner/PL0402_Ref/PL0402_Ref2_1_100KHz__5ciclos_B3_A3.csv\")\n",
        "\n",
        "get_features_noise(noise)"
      ],
      "execution_count": 53,
      "outputs": [
        {
          "output_type": "stream",
          "text": [
            "/usr/local/lib/python3.7/dist-packages/pandas/core/series.py:726: RuntimeWarning: divide by zero encountered in log10\n",
            "  result = getattr(ufunc, method)(*inputs, **kwargs)\n"
          ],
          "name": "stderr"
        },
        {
          "output_type": "error",
          "ename": "TypeError",
          "evalue": "ignored",
          "traceback": [
            "\u001b[0;31m---------------------------------------------------------------------------\u001b[0m",
            "\u001b[0;31mTypeError\u001b[0m                                 Traceback (most recent call last)",
            "\u001b[0;32m<ipython-input-53-118c0ada726b>\u001b[0m in \u001b[0;36m<module>\u001b[0;34m()\u001b[0m\n\u001b[1;32m      1\u001b[0m \u001b[0mnoise\u001b[0m \u001b[0;34m=\u001b[0m \u001b[0minput_noise_80\u001b[0m\u001b[0;34m(\u001b[0m\u001b[0;34m\"/content/Time_Series/Dataset-LambWave-Wagner/PL0402_Ref/PL0402_Ref2_1_100KHz__5ciclos_B3_A3.csv\"\u001b[0m\u001b[0;34m)\u001b[0m\u001b[0;34m\u001b[0m\u001b[0;34m\u001b[0m\u001b[0m\n\u001b[1;32m      2\u001b[0m \u001b[0;34m\u001b[0m\u001b[0m\n\u001b[0;32m----> 3\u001b[0;31m \u001b[0mget_features_noise\u001b[0m\u001b[0;34m(\u001b[0m\u001b[0mnoise\u001b[0m\u001b[0;34m)\u001b[0m\u001b[0;34m\u001b[0m\u001b[0;34m\u001b[0m\u001b[0m\n\u001b[0m",
            "\u001b[0;32m<ipython-input-52-f1e349814e50>\u001b[0m in \u001b[0;36mget_features_noise\u001b[0;34m(noise_data)\u001b[0m\n\u001b[1;32m      8\u001b[0m     \u001b[0mrms\u001b[0m \u001b[0;34m=\u001b[0m \u001b[0mnp\u001b[0m\u001b[0;34m.\u001b[0m\u001b[0msqrt\u001b[0m\u001b[0;34m(\u001b[0m\u001b[0mms\u001b[0m\u001b[0;34m)\u001b[0m \u001b[0;31m#4 - root mean square\u001b[0m\u001b[0;34m\u001b[0m\u001b[0;34m\u001b[0m\u001b[0m\n\u001b[1;32m      9\u001b[0m     \u001b[0mvar\u001b[0m \u001b[0;34m=\u001b[0m \u001b[0mdf\u001b[0m\u001b[0;34m.\u001b[0m\u001b[0mvar\u001b[0m\u001b[0;34m(\u001b[0m\u001b[0;34m)\u001b[0m \u001b[0;31m#5 - variance\u001b[0m\u001b[0;34m\u001b[0m\u001b[0;34m\u001b[0m\u001b[0m\n\u001b[0;32m---> 10\u001b[0;31m     \u001b[0mstd\u001b[0m \u001b[0;34m=\u001b[0m \u001b[0mstdev\u001b[0m\u001b[0;34m(\u001b[0m\u001b[0mdf\u001b[0m\u001b[0;34m)\u001b[0m \u001b[0;31m#6 - standard deviation\u001b[0m\u001b[0;34m\u001b[0m\u001b[0;34m\u001b[0m\u001b[0m\n\u001b[0m\u001b[1;32m     11\u001b[0m     \u001b[0mskw\u001b[0m \u001b[0;34m=\u001b[0m \u001b[0mskew\u001b[0m\u001b[0;34m(\u001b[0m\u001b[0mdf\u001b[0m\u001b[0;34m)\u001b[0m \u001b[0;31m#7 - skewness\u001b[0m\u001b[0;34m\u001b[0m\u001b[0;34m\u001b[0m\u001b[0m\n\u001b[1;32m     12\u001b[0m     \u001b[0mkurt\u001b[0m \u001b[0;34m=\u001b[0m \u001b[0mkurtosis\u001b[0m\u001b[0;34m(\u001b[0m\u001b[0mdf\u001b[0m\u001b[0;34m)\u001b[0m \u001b[0;31m#8 - kurtosis\u001b[0m\u001b[0;34m\u001b[0m\u001b[0;34m\u001b[0m\u001b[0m\n",
            "\u001b[0;32m/usr/lib/python3.7/statistics.py\u001b[0m in \u001b[0;36mstdev\u001b[0;34m(data, xbar)\u001b[0m\n\u001b[1;32m    647\u001b[0m \u001b[0;34m\u001b[0m\u001b[0m\n\u001b[1;32m    648\u001b[0m     \"\"\"\n\u001b[0;32m--> 649\u001b[0;31m     \u001b[0mvar\u001b[0m \u001b[0;34m=\u001b[0m \u001b[0mvariance\u001b[0m\u001b[0;34m(\u001b[0m\u001b[0mdata\u001b[0m\u001b[0;34m,\u001b[0m \u001b[0mxbar\u001b[0m\u001b[0;34m)\u001b[0m\u001b[0;34m\u001b[0m\u001b[0;34m\u001b[0m\u001b[0m\n\u001b[0m\u001b[1;32m    650\u001b[0m     \u001b[0;32mtry\u001b[0m\u001b[0;34m:\u001b[0m\u001b[0;34m\u001b[0m\u001b[0;34m\u001b[0m\u001b[0m\n\u001b[1;32m    651\u001b[0m         \u001b[0;32mreturn\u001b[0m \u001b[0mvar\u001b[0m\u001b[0;34m.\u001b[0m\u001b[0msqrt\u001b[0m\u001b[0;34m(\u001b[0m\u001b[0;34m)\u001b[0m\u001b[0;34m\u001b[0m\u001b[0;34m\u001b[0m\u001b[0m\n",
            "\u001b[0;32m/usr/lib/python3.7/statistics.py\u001b[0m in \u001b[0;36mvariance\u001b[0;34m(data, xbar)\u001b[0m\n\u001b[1;32m    586\u001b[0m     \u001b[0;32mif\u001b[0m \u001b[0mn\u001b[0m \u001b[0;34m<\u001b[0m \u001b[0;36m2\u001b[0m\u001b[0;34m:\u001b[0m\u001b[0;34m\u001b[0m\u001b[0;34m\u001b[0m\u001b[0m\n\u001b[1;32m    587\u001b[0m         \u001b[0;32mraise\u001b[0m \u001b[0mStatisticsError\u001b[0m\u001b[0;34m(\u001b[0m\u001b[0;34m'variance requires at least two data points'\u001b[0m\u001b[0;34m)\u001b[0m\u001b[0;34m\u001b[0m\u001b[0;34m\u001b[0m\u001b[0m\n\u001b[0;32m--> 588\u001b[0;31m     \u001b[0mT\u001b[0m\u001b[0;34m,\u001b[0m \u001b[0mss\u001b[0m \u001b[0;34m=\u001b[0m \u001b[0m_ss\u001b[0m\u001b[0;34m(\u001b[0m\u001b[0mdata\u001b[0m\u001b[0;34m,\u001b[0m \u001b[0mxbar\u001b[0m\u001b[0;34m)\u001b[0m\u001b[0;34m\u001b[0m\u001b[0;34m\u001b[0m\u001b[0m\n\u001b[0m\u001b[1;32m    589\u001b[0m     \u001b[0;32mreturn\u001b[0m \u001b[0m_convert\u001b[0m\u001b[0;34m(\u001b[0m\u001b[0mss\u001b[0m\u001b[0;34m/\u001b[0m\u001b[0;34m(\u001b[0m\u001b[0mn\u001b[0m\u001b[0;34m-\u001b[0m\u001b[0;36m1\u001b[0m\u001b[0;34m)\u001b[0m\u001b[0;34m,\u001b[0m \u001b[0mT\u001b[0m\u001b[0;34m)\u001b[0m\u001b[0;34m\u001b[0m\u001b[0;34m\u001b[0m\u001b[0m\n\u001b[1;32m    590\u001b[0m \u001b[0;34m\u001b[0m\u001b[0m\n",
            "\u001b[0;32m/usr/lib/python3.7/statistics.py\u001b[0m in \u001b[0;36m_ss\u001b[0;34m(data, c)\u001b[0m\n\u001b[1;32m    532\u001b[0m     \"\"\"\n\u001b[1;32m    533\u001b[0m     \u001b[0;32mif\u001b[0m \u001b[0mc\u001b[0m \u001b[0;32mis\u001b[0m \u001b[0;32mNone\u001b[0m\u001b[0;34m:\u001b[0m\u001b[0;34m\u001b[0m\u001b[0;34m\u001b[0m\u001b[0m\n\u001b[0;32m--> 534\u001b[0;31m         \u001b[0mc\u001b[0m \u001b[0;34m=\u001b[0m \u001b[0mmean\u001b[0m\u001b[0;34m(\u001b[0m\u001b[0mdata\u001b[0m\u001b[0;34m)\u001b[0m\u001b[0;34m\u001b[0m\u001b[0;34m\u001b[0m\u001b[0m\n\u001b[0m\u001b[1;32m    535\u001b[0m     \u001b[0mT\u001b[0m\u001b[0;34m,\u001b[0m \u001b[0mtotal\u001b[0m\u001b[0;34m,\u001b[0m \u001b[0mcount\u001b[0m \u001b[0;34m=\u001b[0m \u001b[0m_sum\u001b[0m\u001b[0;34m(\u001b[0m\u001b[0;34m(\u001b[0m\u001b[0mx\u001b[0m\u001b[0;34m-\u001b[0m\u001b[0mc\u001b[0m\u001b[0;34m)\u001b[0m\u001b[0;34m**\u001b[0m\u001b[0;36m2\u001b[0m \u001b[0;32mfor\u001b[0m \u001b[0mx\u001b[0m \u001b[0;32min\u001b[0m \u001b[0mdata\u001b[0m\u001b[0;34m)\u001b[0m\u001b[0;34m\u001b[0m\u001b[0;34m\u001b[0m\u001b[0m\n\u001b[1;32m    536\u001b[0m     \u001b[0;31m# The following sum should mathematically equal zero, but due to rounding\u001b[0m\u001b[0;34m\u001b[0m\u001b[0;34m\u001b[0m\u001b[0;34m\u001b[0m\u001b[0m\n",
            "\u001b[0;32m/usr/lib/python3.7/statistics.py\u001b[0m in \u001b[0;36mmean\u001b[0;34m(data)\u001b[0m\n\u001b[1;32m    309\u001b[0m     \u001b[0;32mif\u001b[0m \u001b[0mn\u001b[0m \u001b[0;34m<\u001b[0m \u001b[0;36m1\u001b[0m\u001b[0;34m:\u001b[0m\u001b[0;34m\u001b[0m\u001b[0;34m\u001b[0m\u001b[0m\n\u001b[1;32m    310\u001b[0m         \u001b[0;32mraise\u001b[0m \u001b[0mStatisticsError\u001b[0m\u001b[0;34m(\u001b[0m\u001b[0;34m'mean requires at least one data point'\u001b[0m\u001b[0;34m)\u001b[0m\u001b[0;34m\u001b[0m\u001b[0;34m\u001b[0m\u001b[0m\n\u001b[0;32m--> 311\u001b[0;31m     \u001b[0mT\u001b[0m\u001b[0;34m,\u001b[0m \u001b[0mtotal\u001b[0m\u001b[0;34m,\u001b[0m \u001b[0mcount\u001b[0m \u001b[0;34m=\u001b[0m \u001b[0m_sum\u001b[0m\u001b[0;34m(\u001b[0m\u001b[0mdata\u001b[0m\u001b[0;34m)\u001b[0m\u001b[0;34m\u001b[0m\u001b[0;34m\u001b[0m\u001b[0m\n\u001b[0m\u001b[1;32m    312\u001b[0m     \u001b[0;32massert\u001b[0m \u001b[0mcount\u001b[0m \u001b[0;34m==\u001b[0m \u001b[0mn\u001b[0m\u001b[0;34m\u001b[0m\u001b[0;34m\u001b[0m\u001b[0m\n\u001b[1;32m    313\u001b[0m     \u001b[0;32mreturn\u001b[0m \u001b[0m_convert\u001b[0m\u001b[0;34m(\u001b[0m\u001b[0mtotal\u001b[0m\u001b[0;34m/\u001b[0m\u001b[0mn\u001b[0m\u001b[0;34m,\u001b[0m \u001b[0mT\u001b[0m\u001b[0;34m)\u001b[0m\u001b[0;34m\u001b[0m\u001b[0;34m\u001b[0m\u001b[0m\n",
            "\u001b[0;32m/usr/lib/python3.7/statistics.py\u001b[0m in \u001b[0;36m_sum\u001b[0;34m(data, start)\u001b[0m\n\u001b[1;32m    145\u001b[0m     \u001b[0;32mfor\u001b[0m \u001b[0mtyp\u001b[0m\u001b[0;34m,\u001b[0m \u001b[0mvalues\u001b[0m \u001b[0;32min\u001b[0m \u001b[0mgroupby\u001b[0m\u001b[0;34m(\u001b[0m\u001b[0mdata\u001b[0m\u001b[0;34m,\u001b[0m \u001b[0mtype\u001b[0m\u001b[0;34m)\u001b[0m\u001b[0;34m:\u001b[0m\u001b[0;34m\u001b[0m\u001b[0;34m\u001b[0m\u001b[0m\n\u001b[1;32m    146\u001b[0m         \u001b[0mT\u001b[0m \u001b[0;34m=\u001b[0m \u001b[0m_coerce\u001b[0m\u001b[0;34m(\u001b[0m\u001b[0mT\u001b[0m\u001b[0;34m,\u001b[0m \u001b[0mtyp\u001b[0m\u001b[0;34m)\u001b[0m  \u001b[0;31m# or raise TypeError\u001b[0m\u001b[0;34m\u001b[0m\u001b[0;34m\u001b[0m\u001b[0m\n\u001b[0;32m--> 147\u001b[0;31m         \u001b[0;32mfor\u001b[0m \u001b[0mn\u001b[0m\u001b[0;34m,\u001b[0m\u001b[0md\u001b[0m \u001b[0;32min\u001b[0m \u001b[0mmap\u001b[0m\u001b[0;34m(\u001b[0m\u001b[0m_exact_ratio\u001b[0m\u001b[0;34m,\u001b[0m \u001b[0mvalues\u001b[0m\u001b[0;34m)\u001b[0m\u001b[0;34m:\u001b[0m\u001b[0;34m\u001b[0m\u001b[0;34m\u001b[0m\u001b[0m\n\u001b[0m\u001b[1;32m    148\u001b[0m             \u001b[0mcount\u001b[0m \u001b[0;34m+=\u001b[0m \u001b[0;36m1\u001b[0m\u001b[0;34m\u001b[0m\u001b[0;34m\u001b[0m\u001b[0m\n\u001b[1;32m    149\u001b[0m             \u001b[0mpartials\u001b[0m\u001b[0;34m[\u001b[0m\u001b[0md\u001b[0m\u001b[0;34m]\u001b[0m \u001b[0;34m=\u001b[0m \u001b[0mpartials_get\u001b[0m\u001b[0;34m(\u001b[0m\u001b[0md\u001b[0m\u001b[0;34m,\u001b[0m \u001b[0;36m0\u001b[0m\u001b[0;34m)\u001b[0m \u001b[0;34m+\u001b[0m \u001b[0mn\u001b[0m\u001b[0;34m\u001b[0m\u001b[0;34m\u001b[0m\u001b[0m\n",
            "\u001b[0;32m/usr/lib/python3.7/statistics.py\u001b[0m in \u001b[0;36m_exact_ratio\u001b[0;34m(x)\u001b[0m\n\u001b[1;32m    227\u001b[0m         \u001b[0;32mreturn\u001b[0m \u001b[0;34m(\u001b[0m\u001b[0mx\u001b[0m\u001b[0;34m,\u001b[0m \u001b[0;32mNone\u001b[0m\u001b[0;34m)\u001b[0m\u001b[0;34m\u001b[0m\u001b[0;34m\u001b[0m\u001b[0m\n\u001b[1;32m    228\u001b[0m     \u001b[0mmsg\u001b[0m \u001b[0;34m=\u001b[0m \u001b[0;34m\"can't convert type '{}' to numerator/denominator\"\u001b[0m\u001b[0;34m\u001b[0m\u001b[0;34m\u001b[0m\u001b[0m\n\u001b[0;32m--> 229\u001b[0;31m     \u001b[0;32mraise\u001b[0m \u001b[0mTypeError\u001b[0m\u001b[0;34m(\u001b[0m\u001b[0mmsg\u001b[0m\u001b[0;34m.\u001b[0m\u001b[0mformat\u001b[0m\u001b[0;34m(\u001b[0m\u001b[0mtype\u001b[0m\u001b[0;34m(\u001b[0m\u001b[0mx\u001b[0m\u001b[0;34m)\u001b[0m\u001b[0;34m.\u001b[0m\u001b[0m__name__\u001b[0m\u001b[0;34m)\u001b[0m\u001b[0;34m)\u001b[0m\u001b[0;34m\u001b[0m\u001b[0;34m\u001b[0m\u001b[0m\n\u001b[0m\u001b[1;32m    230\u001b[0m \u001b[0;34m\u001b[0m\u001b[0m\n\u001b[1;32m    231\u001b[0m \u001b[0;34m\u001b[0m\u001b[0m\n",
            "\u001b[0;31mTypeError\u001b[0m: can't convert type 'str' to numerator/denominator"
          ]
        }
      ]
    },
    {
      "cell_type": "code",
      "metadata": {
        "id": "9Pu41ZUsgeCN"
      },
      "source": [
        "# 100 kHz\n",
        "\n",
        "sem_dano_100 = get_features(\"/content/Time_Series/Dataset-LambWave-Wagner/PL0402_Ref/PL0402_Ref2_1_100KHz__5ciclos_B3_A3.csv\")\n",
        "\n",
        "dano_1_100 = get_features(\"/content/Time_Series/Dataset-LambWave-Wagner/PL0402_Dn1/PL0402_Dn12_1_100KHz__5ciclos_B3_A3.csv\")\n",
        "\n",
        "dano_2_100 = get_features(\"/content/Time_Series/Dataset-LambWave-Wagner/PL0402_Dn2/PL0402_Dn22_1_100KHz__5ciclos_B3_A3.csv\")\n",
        "\n",
        "dano_3_100 = get_features(\"/content/Time_Series/Dataset-LambWave-Wagner/PL0402_Dn3/PL0402_Dn32_1_100KHz__5ciclos_B3_A3.csv\")\n",
        "\n",
        "dano_4_100 = get_features(\"/content/Time_Series/Dataset-LambWave-Wagner/PL0402_Dn4/PL0402_Dn42_1_100KHz__5ciclos_B3_A3.csv\")\n",
        "\n",
        "# 150 kHz\n",
        "\n",
        "sem_dano_150 = get_features(\"/content/Time_Series/Dataset-LambWave-Wagner/PL0402_Ref/PL0402_Ref2_1_150KHz__5ciclos_B3_A3.csv\")\n",
        "\n",
        "dano_1_150 = get_features(\"/content/Time_Series/Dataset-LambWave-Wagner/PL0402_Dn1/PL0402_Dn12_1_150KHz__5ciclos_B3_A3.csv\")\n",
        "\n",
        "dano_2_150 = get_features(\"/content/Time_Series/Dataset-LambWave-Wagner/PL0402_Dn2/PL0402_Dn22_1_150KHz__5ciclos_B3_A3.csv\")\n",
        "\n",
        "dano_3_150 = get_features(\"/content/Time_Series/Dataset-LambWave-Wagner/PL0402_Dn3/PL0402_Dn32_1_150KHz__5ciclos_B3_A3.csv\")\n",
        "\n",
        "dano_4_150 = get_features(\"/content/Time_Series/Dataset-LambWave-Wagner/PL0402_Dn4/PL0402_Dn42_1_150KHz__5ciclos_B3_A3.csv\")\n",
        "\n",
        "# 200 kHz \n",
        "\n",
        "sem_dano_200 = get_features(\"/content/Time_Series/Dataset-LambWave-Wagner/PL0402_Ref/PL0402_Ref2_1_200KHz__5ciclos_B3_A3.csv\")\n",
        "\n",
        "dano_1_200 = get_features(\"/content/Time_Series/Dataset-LambWave-Wagner/PL0402_Dn1/PL0402_Dn12_1_200KHz__5ciclos_B3_A3.csv\")\n",
        "\n",
        "dano_2_200 = get_features(\"/content/Time_Series/Dataset-LambWave-Wagner/PL0402_Dn2/PL0402_Dn22_1_200KHz__5ciclos_B3_A3.csv\")\n",
        "\n",
        "dano_3_200 = get_features(\"/content/Time_Series/Dataset-LambWave-Wagner/PL0402_Dn3/PL0402_Dn32_1_200KHz__5ciclos_B3_A3.csv\")\n",
        "\n",
        "dano_4_200 = get_features(\"/content/Time_Series/Dataset-LambWave-Wagner/PL0402_Dn4/PL0402_Dn42_1_200KHz__5ciclos_B3_A3.csv\")\n",
        "\n",
        "# 250 kHz\n",
        "\n",
        "sem_dano_250 = get_features(\"/content/Time_Series/Dataset-LambWave-Wagner/PL0402_Ref/PL0402_Ref2_1_250KHz__5ciclos_B3_A3.csv\")\n",
        "\n",
        "dano_1_250 = get_features(\"/content/Time_Series/Dataset-LambWave-Wagner/PL0402_Dn1/PL0402_Dn12_1_250KHz__5ciclos_B3_A3.csv\")\n",
        "\n",
        "dano_2_250 = get_features(\"/content/Time_Series/Dataset-LambWave-Wagner/PL0402_Dn2/PL0402_Dn22_1_250KHz__5ciclos_B3_A3.csv\")\n",
        "\n",
        "dano_3_250 = get_features(\"/content/Time_Series/Dataset-LambWave-Wagner/PL0402_Dn3/PL0402_Dn32_1_250KHz__5ciclos_B3_A3.csv\")\n",
        "\n",
        "dano_4_250 = get_features(\"/content/Time_Series/Dataset-LambWave-Wagner/PL0402_Dn4/PL0402_Dn42_1_250KHz__5ciclos_B3_A3.csv\")\n",
        "\n",
        "# 300 kHz\n",
        "\n",
        "sem_dano_300 = get_features(\"/content/Time_Series/Dataset-LambWave-Wagner/PL0402_Ref/PL0402_Ref2_1_300KHz__5ciclos_B3_A3.csv\")\n",
        "\n",
        "dano_1_300 = get_features(\"/content/Time_Series/Dataset-LambWave-Wagner/PL0402_Dn1/PL0402_Dn12_1_300KHz__5ciclos_B3_A3.csv\")\n",
        "\n",
        "dano_2_300 = get_features(\"/content/Time_Series/Dataset-LambWave-Wagner/PL0402_Dn2/PL0402_Dn22_1_300KHz__5ciclos_B3_A3.csv\")\n",
        "\n",
        "dano_3_300 = get_features(\"/content/Time_Series/Dataset-LambWave-Wagner/PL0402_Dn3/PL0402_Dn32_1_300KHz__5ciclos_B3_A3.csv\")\n",
        "\n",
        "dano_4_300 = get_features(\"/content/Time_Series/Dataset-LambWave-Wagner/PL0402_Dn4/PL0402_Dn42_1_300KHz__5ciclos_B3_A3.csv\")"
      ],
      "execution_count": 12,
      "outputs": []
    },
    {
      "cell_type": "code",
      "metadata": {
        "colab": {
          "base_uri": "https://localhost:8080/",
          "height": 655
        },
        "id": "SZSVHQBgeYLY",
        "outputId": "74fe0146-dd34-431a-b822-cf1d2b3eafc8"
      },
      "source": [
        "input_noise_80(\"/content/Time_Series/Dataset-LambWave-Wagner/PL0402_Ref/PL0402_Ref2_1_300KHz__5ciclos_B3_A3.csv\")"
      ],
      "execution_count": 43,
      "outputs": [
        {
          "output_type": "stream",
          "text": [
            "/usr/local/lib/python3.7/dist-packages/pandas/core/series.py:726: RuntimeWarning: divide by zero encountered in log10\n",
            "  result = getattr(ufunc, method)(*inputs, **kwargs)\n"
          ],
          "name": "stderr"
        },
        {
          "output_type": "display_data",
          "data": {
            "image/png": "[encoded data removed]",
            "text/plain": [
              "<Figure size 1080x720 with 1 Axes>"
            ]
          },
          "metadata": {
            "needs_background": "light"
          }
        }
      ]
    },
    {
      "cell_type": "markdown",
      "metadata": {
        "id": "4xols-2W5Pok"
      },
      "source": [
        "**Dataset - Sem dano**"
      ]
    },
    {
      "cell_type": "code",
      "metadata": {
        "colab": {
          "base_uri": "https://localhost:8080/",
          "height": 359
        },
        "id": "vRh6MeUH8EgR",
        "outputId": "b32ea6e7-a405-40ce-9c40-fdab3f568f1d"
      },
      "source": [
        "frames = [sem_dano_100, sem_dano_150, sem_dano_200, sem_dano_250, sem_dano_300]\n",
        "\n",
        "features = pd.concat(frames, axis=1)\n",
        "\n",
        "features"
      ],
      "execution_count": 14,
      "outputs": [
        {
          "output_type": "execute_result",
          "data": {
            "text/html": [
              "<div>\n",
              "<style scoped>\n",
              "    .dataframe tbody tr th:only-of-type {\n",
              "        vertical-align: middle;\n",
              "    }\n",
              "\n",
              "    .dataframe tbody tr th {\n",
              "        vertical-align: top;\n",
              "    }\n",
              "\n",
              "    .dataframe thead th {\n",
              "        text-align: right;\n",
              "    }\n",
              "</style>\n",
              "<table border=\"1\" class=\"dataframe\">\n",
              "  <thead>\n",
              "    <tr style=\"text-align: right;\">\n",
              "      <th></th>\n",
              "      <th>0</th>\n",
              "      <th>0</th>\n",
              "      <th>0</th>\n",
              "      <th>0</th>\n",
              "      <th>0</th>\n",
              "    </tr>\n",
              "  </thead>\n",
              "  <tbody>\n",
              "    <tr>\n",
              "      <th>0</th>\n",
              "      <td>1.321744e-02</td>\n",
              "      <td>1.123057e-02</td>\n",
              "      <td>1.146453e-02</td>\n",
              "      <td>1.304041e-02</td>\n",
              "      <td>1.676772e-02</td>\n",
              "    </tr>\n",
              "    <tr>\n",
              "      <th>1</th>\n",
              "      <td>1.140910e-06</td>\n",
              "      <td>-1.152493e-07</td>\n",
              "      <td>1.573167e-07</td>\n",
              "      <td>7.077133e-08</td>\n",
              "      <td>1.122160e-07</td>\n",
              "    </tr>\n",
              "    <tr>\n",
              "      <th>2</th>\n",
              "      <td>1.301676e-12</td>\n",
              "      <td>1.328241e-14</td>\n",
              "      <td>2.474853e-14</td>\n",
              "      <td>5.008582e-15</td>\n",
              "      <td>1.259243e-14</td>\n",
              "    </tr>\n",
              "    <tr>\n",
              "      <th>3</th>\n",
              "      <td>1.140910e-06</td>\n",
              "      <td>1.152493e-07</td>\n",
              "      <td>1.573167e-07</td>\n",
              "      <td>7.077133e-08</td>\n",
              "      <td>1.122160e-07</td>\n",
              "    </tr>\n",
              "    <tr>\n",
              "      <th>4</th>\n",
              "      <td>4.649339e-06</td>\n",
              "      <td>3.207258e-06</td>\n",
              "      <td>2.539698e-06</td>\n",
              "      <td>3.006508e-06</td>\n",
              "      <td>4.807985e-06</td>\n",
              "    </tr>\n",
              "    <tr>\n",
              "      <th>5</th>\n",
              "      <td>2.156233e-03</td>\n",
              "      <td>1.790882e-03</td>\n",
              "      <td>1.593643e-03</td>\n",
              "      <td>1.733929e-03</td>\n",
              "      <td>2.192712e-03</td>\n",
              "    </tr>\n",
              "    <tr>\n",
              "      <th>6</th>\n",
              "      <td>-3.724594e-03</td>\n",
              "      <td>7.012031e-04</td>\n",
              "      <td>-3.107291e-03</td>\n",
              "      <td>-1.473612e-03</td>\n",
              "      <td>2.794720e-05</td>\n",
              "    </tr>\n",
              "    <tr>\n",
              "      <th>7</th>\n",
              "      <td>7.184161e+00</td>\n",
              "      <td>9.654932e+00</td>\n",
              "      <td>9.862063e+00</td>\n",
              "      <td>1.008534e+01</td>\n",
              "      <td>8.859584e+00</td>\n",
              "    </tr>\n",
              "    <tr>\n",
              "      <th>8</th>\n",
              "      <td>1.158500e+04</td>\n",
              "      <td>9.744586e+04</td>\n",
              "      <td>7.287550e+04</td>\n",
              "      <td>1.842612e+05</td>\n",
              "      <td>1.494236e+05</td>\n",
              "    </tr>\n",
              "    <tr>\n",
              "      <th>9</th>\n",
              "      <td>1.507991e-08</td>\n",
              "      <td>1.294316e-09</td>\n",
              "      <td>1.803562e-09</td>\n",
              "      <td>9.228872e-10</td>\n",
              "      <td>1.881606e-09</td>\n",
              "    </tr>\n",
              "  </tbody>\n",
              "</table>\n",
              "</div>"
            ],
            "text/plain": [
              "              0             0             0             0             0\n",
              "0  1.321744e-02  1.123057e-02  1.146453e-02  1.304041e-02  1.676772e-02\n",
              "1  1.140910e-06 -1.152493e-07  1.573167e-07  7.077133e-08  1.122160e-07\n",
              "2  1.301676e-12  1.328241e-14  2.474853e-14  5.008582e-15  1.259243e-14\n",
              "3  1.140910e-06  1.152493e-07  1.573167e-07  7.077133e-08  1.122160e-07\n",
              "4  4.649339e-06  3.207258e-06  2.539698e-06  3.006508e-06  4.807985e-06\n",
              "5  2.156233e-03  1.790882e-03  1.593643e-03  1.733929e-03  2.192712e-03\n",
              "6 -3.724594e-03  7.012031e-04 -3.107291e-03 -1.473612e-03  2.794720e-05\n",
              "7  7.184161e+00  9.654932e+00  9.862063e+00  1.008534e+01  8.859584e+00\n",
              "8  1.158500e+04  9.744586e+04  7.287550e+04  1.842612e+05  1.494236e+05\n",
              "9  1.507991e-08  1.294316e-09  1.803562e-09  9.228872e-10  1.881606e-09"
            ]
          },
          "metadata": {},
          "execution_count": 14
        }
      ]
    },
    {
      "cell_type": "code",
      "metadata": {
        "id": "6fMSg7rd6-X4",
        "colab": {
          "base_uri": "https://localhost:8080/",
          "height": 216
        },
        "outputId": "ec9e18b1-448b-476c-94fc-e6edc696d6f6"
      },
      "source": [
        "#1 peak amplitude\n",
        "peak = np.max(df_train['Amplitude PZT Sensor'])\n",
        "\n",
        "peak"
      ],
      "execution_count": 11,
      "outputs": [
        {
          "output_type": "error",
          "ename": "NameError",
          "evalue": "ignored",
          "traceback": [
            "\u001b[0;31m---------------------------------------------------------------------------\u001b[0m",
            "\u001b[0;31mNameError\u001b[0m                                 Traceback (most recent call last)",
            "\u001b[0;32m<ipython-input-11-4718a170bd51>\u001b[0m in \u001b[0;36m<module>\u001b[0;34m()\u001b[0m\n\u001b[1;32m      1\u001b[0m \u001b[0;31m#1 peak amplitude\u001b[0m\u001b[0;34m\u001b[0m\u001b[0;34m\u001b[0m\u001b[0;34m\u001b[0m\u001b[0m\n\u001b[0;32m----> 2\u001b[0;31m \u001b[0mpeak\u001b[0m \u001b[0;34m=\u001b[0m \u001b[0mnp\u001b[0m\u001b[0;34m.\u001b[0m\u001b[0mmax\u001b[0m\u001b[0;34m(\u001b[0m\u001b[0mdf_train\u001b[0m\u001b[0;34m[\u001b[0m\u001b[0;34m'Amplitude PZT Sensor'\u001b[0m\u001b[0;34m]\u001b[0m\u001b[0;34m)\u001b[0m\u001b[0;34m\u001b[0m\u001b[0;34m\u001b[0m\u001b[0m\n\u001b[0m\u001b[1;32m      3\u001b[0m \u001b[0;34m\u001b[0m\u001b[0m\n\u001b[1;32m      4\u001b[0m \u001b[0mpeak\u001b[0m\u001b[0;34m\u001b[0m\u001b[0;34m\u001b[0m\u001b[0m\n",
            "\u001b[0;31mNameError\u001b[0m: name 'df_train' is not defined"
          ]
        }
      ]
    },
    {
      "cell_type": "code",
      "metadata": {
        "id": "bOy9Sp5naMVF"
      },
      "source": [
        "#2 mean\n",
        "mean = df_train['Amplitude PZT Sensor'].mean()\n",
        "\n",
        "mean"
      ],
      "execution_count": null,
      "outputs": []
    },
    {
      "cell_type": "code",
      "metadata": {
        "id": "funDC9oP7hhJ"
      },
      "source": [
        "#3 mean square\n",
        "mean_square = np.square(mean)\n",
        "\n",
        "mean_square"
      ],
      "execution_count": null,
      "outputs": []
    },
    {
      "cell_type": "code",
      "metadata": {
        "id": "7cB_b7z-7kvY"
      },
      "source": [
        "#4 root mean square\n",
        "rms = np.sqrt(mean_square)\n",
        "\n",
        "rms"
      ],
      "execution_count": null,
      "outputs": []
    },
    {
      "cell_type": "code",
      "metadata": {
        "id": "EpWwXJNNdaf8"
      },
      "source": [
        "#5 variance\n",
        "df_train['Amplitude PZT Sensor'].var()"
      ],
      "execution_count": null,
      "outputs": []
    },
    {
      "cell_type": "code",
      "metadata": {
        "id": "KWmx8RsdZLbk"
      },
      "source": [
        "#6 standard deviation\n",
        "stdev(df_train['Amplitude PZT Sensor'])"
      ],
      "execution_count": null,
      "outputs": []
    },
    {
      "cell_type": "code",
      "metadata": {
        "id": "FNYFV2al6cBi"
      },
      "source": [
        "#7 skewness\n",
        "skew(df_train['Amplitude PZT Sensor'])"
      ],
      "execution_count": null,
      "outputs": []
    },
    {
      "cell_type": "code",
      "metadata": {
        "id": "0SZB5q3c7xE3"
      },
      "source": [
        "#8 kurtosis\n",
        "kurtosis(df_train['Amplitude PZT Sensor'])"
      ],
      "execution_count": null,
      "outputs": []
    },
    {
      "cell_type": "code",
      "metadata": {
        "id": "PCj9b6hL76_Y"
      },
      "source": [
        "#9 crest factor\n",
        "peak/rms"
      ],
      "execution_count": null,
      "outputs": []
    },
    {
      "cell_type": "code",
      "metadata": {
        "id": "QfC0qM0a8B9X"
      },
      "source": [
        "#10 K-factor\n",
        "peak*rms"
      ],
      "execution_count": null,
      "outputs": []
    }
  ]
}