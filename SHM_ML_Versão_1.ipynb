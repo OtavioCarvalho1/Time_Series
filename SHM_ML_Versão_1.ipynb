{
  "nbformat": 4,
  "nbformat_minor": 0,
  "metadata": {
    "colab": {
      "name": "SHM - ML - Versão 1.ipynb",
      "provenance": [],
      "collapsed_sections": [],
      "include_colab_link": true
    },
    "kernelspec": {
      "name": "python3",
      "display_name": "Python 3"
    },
    "language_info": {
      "name": "python"
    }
  },
  "cells": [
    {
      "cell_type": "markdown",
      "metadata": {
        "id": "view-in-github",
        "colab_type": "text"
      },
      "source": [
        "<a href=\"https://colab.research.google.com/github/OtavioCarvalho1/Time_Series/blob/main/SHM_ML_Vers%C3%A3o_1.ipynb\" target=\"_parent\"><img src=\"https://colab.research.google.com/assets/colab-badge.svg\" alt=\"Open In Colab\"/></a>"
      ]
    },
    {
      "cell_type": "code",
      "metadata": {
        "id": "ehC31qeXUpRn",
        "colab": {
          "base_uri": "https://localhost:8080/"
        },
        "outputId": "07f243c5-d867-4016-e934-3f780b039517"
      },
      "source": [
        "!git clone https://github.com/OtavioCarvalho1/Time_Series.git"
      ],
      "execution_count": null,
      "outputs": [
        {
          "output_type": "stream",
          "name": "stdout",
          "text": [
            "Cloning into 'Time_Series'...\n",
            "remote: Enumerating objects: 1262, done.\u001b[K\n",
            "remote: Counting objects: 100% (18/18), done.\u001b[K\n",
            "remote: Compressing objects: 100% (18/18), done.\u001b[K\n",
            "remote: Total 1262 (delta 7), reused 0 (delta 0), pack-reused 1244\u001b[K\n",
            "Receiving objects: 100% (1262/1262), 169.52 MiB | 19.07 MiB/s, done.\n",
            "Resolving deltas: 100% (23/23), done.\n",
            "Checking out files: 100% (1209/1209), done.\n"
          ]
        }
      ]
    },
    {
      "cell_type": "code",
      "metadata": {
        "id": "8mQ2uoUzXLRK",
        "colab": {
          "base_uri": "https://localhost:8080/"
        },
        "outputId": "9b005eeb-5183-4fb1-b576-d8df1313ec97"
      },
      "source": [
        "!pip install statsmodels --upgrade"
      ],
      "execution_count": null,
      "outputs": [
        {
          "output_type": "stream",
          "name": "stdout",
          "text": [
            "Requirement already satisfied: statsmodels in /usr/local/lib/python3.7/dist-packages (0.10.2)\n",
            "Collecting statsmodels\n",
            "  Downloading statsmodels-0.12.2-cp37-cp37m-manylinux1_x86_64.whl (9.5 MB)\n",
            "\u001b[K     |████████████████████████████████| 9.5 MB 18.0 MB/s \n",
            "\u001b[?25hRequirement already satisfied: patsy>=0.5 in /usr/local/lib/python3.7/dist-packages (from statsmodels) (0.5.1)\n",
            "Requirement already satisfied: pandas>=0.21 in /usr/local/lib/python3.7/dist-packages (from statsmodels) (1.1.5)\n",
            "Requirement already satisfied: numpy>=1.15 in /usr/local/lib/python3.7/dist-packages (from statsmodels) (1.19.5)\n",
            "Requirement already satisfied: scipy>=1.1 in /usr/local/lib/python3.7/dist-packages (from statsmodels) (1.4.1)\n",
            "Requirement already satisfied: pytz>=2017.2 in /usr/local/lib/python3.7/dist-packages (from pandas>=0.21->statsmodels) (2018.9)\n",
            "Requirement already satisfied: python-dateutil>=2.7.3 in /usr/local/lib/python3.7/dist-packages (from pandas>=0.21->statsmodels) (2.8.2)\n",
            "Requirement already satisfied: six in /usr/local/lib/python3.7/dist-packages (from patsy>=0.5->statsmodels) (1.15.0)\n",
            "Installing collected packages: statsmodels\n",
            "  Attempting uninstall: statsmodels\n",
            "    Found existing installation: statsmodels 0.10.2\n",
            "    Uninstalling statsmodels-0.10.2:\n",
            "      Successfully uninstalled statsmodels-0.10.2\n",
            "Successfully installed statsmodels-0.12.2\n"
          ]
        }
      ]
    },
    {
      "cell_type": "code",
      "metadata": {
        "id": "mkOC2T2GXUHV"
      },
      "source": [
        "import numpy as np\n",
        "\n",
        "from numpy import mean, square, sqrt\n",
        "\n",
        "import pandas as pd\n",
        "\n",
        "import matplotlib.pyplot as plt\n",
        "\n",
        "from scipy.stats import kurtosis, skew\n",
        "\n",
        "from sklearn.preprocessing import StandardScaler\n",
        "\n",
        "from math import sqrt\n",
        "\n",
        "from statsmodels.tsa.ar_model import AutoReg\n",
        "\n",
        "from statistics import stdev\n",
        "\n",
        "from sklearn.model_selection import train_test_split\n",
        "\n",
        "import seaborn as sns"
      ],
      "execution_count": null,
      "outputs": []
    },
    {
      "cell_type": "markdown",
      "metadata": {
        "id": "QviAa6dpQV2u"
      },
      "source": [
        "# **Extração de Features**"
      ]
    },
    {
      "cell_type": "code",
      "metadata": {
        "id": "dfjR9A4cddhX"
      },
      "source": [
        "# função para extração de features dos sinais mas sem colocar ruído\n",
        "\n",
        "def get_features(arquivo):\n",
        "    names = ['Tempo [s]', 'Amplitude PZT Atuador', 'Amplitude PZT Sensor']\n",
        "    df = pd.read_csv(arquivo, names=names)\n",
        "    peak = np.max(df['Amplitude PZT Sensor']) #1 - peak\n",
        "    mean = df['Amplitude PZT Sensor'].mean() #2 - mean\n",
        "    ms = np.mean(np.square(df['Amplitude PZT Sensor'])) #3 - mean square\n",
        "    rms = np.sqrt(ms) #4 - root mean square\n",
        "    var = df['Amplitude PZT Sensor'].var() #5 - variance\n",
        "    std = stdev(df['Amplitude PZT Sensor']) #6 - standard deviation\n",
        "    skw = skew(df['Amplitude PZT Sensor']) #7 - skewness\n",
        "    kurt = kurtosis(df['Amplitude PZT Sensor']) #8 - kurtosis\n",
        "    crest_f = peak/rms #9 - crest factor\n",
        "    K_f = peak*rms #10 - K-Factor\n",
        "    md = pd.DataFrame([[peak, mean, ms, rms, var, std, skw, kurt, crest_f, K_f]], columns=['Peak', 'Mean', 'Mean²', 'RMS', 'Variance', 'Std Deviation', 'Skewness', 'Kurtosis', 'Crest Factor', 'K-Factor']) \n",
        "    return md"
      ],
      "execution_count": null,
      "outputs": []
    },
    {
      "cell_type": "code",
      "metadata": {
        "id": "s6-gCEFYv03g"
      },
      "source": [
        "# função que coloca ruído no sinal de 80 dB e extrai as features dele\n",
        "\n",
        "def get_features_noise_80(arquivo):\n",
        "\n",
        "    names = ['Tempo [s]', 'Amplitude PZT Atuador', 'Amplitude PZT Sensor']\n",
        "    df = pd.read_csv(arquivo, names=names)\n",
        "\n",
        "    x_watts = df['Amplitude PZT Sensor']**2\n",
        "    x_dB = 10 * np.log10(x_watts)\n",
        "    target_SNR_dB = 80\n",
        "    sig_avg_watts = np.mean(x_watts)\n",
        "    sig_avg_db = 10 * np.log10(sig_avg_watts)\n",
        "    noise_avg_db = sig_avg_db - target_SNR_dB\n",
        "    noise_avg_watts = 10 ** (noise_avg_db / 10)\n",
        "    mean_noise = 0\n",
        "    noise_volts = np.random.normal(mean_noise, np.sqrt(noise_avg_watts), len(x_watts))\n",
        "    y_volts = df['Amplitude PZT Sensor'] + noise_volts\n",
        "    noise_data = y_volts\n",
        "\n",
        "    peak = np.max(noise_data) #1 - peak\n",
        "    mean = noise_data.mean() #2 - mean\n",
        "    ms = np.mean(np.square(noise_data)) #3 - mean square\n",
        "    rms = np.sqrt(ms) #4 - root mean square\n",
        "    var = noise_data.var() #5 - variance\n",
        "    std = stdev(noise_data) #6 - standard deviation\n",
        "    skw = skew(noise_data) #7 - skewness\n",
        "    kurt = kurtosis(noise_data) #8 - kurtosis\n",
        "    crest_f = peak/rms #9 - crest factor\n",
        "    K_f = peak*rms #10 - K-Factor\n",
        "\n",
        "    md = pd.DataFrame([[peak, mean, ms, rms, var, std, skw, kurt, crest_f, K_f]], columns=['Peak', 'Mean', 'Mean²', 'RMS', 'Variance', 'Std Deviation', 'Skewness', 'Kurtosis', 'Crest Factor', 'K-Factor']) # esta função retorna um dataframe do pandas com 10 linhas contendo todas as features extraídas\n",
        "    \n",
        "    return md"
      ],
      "execution_count": null,
      "outputs": []
    },
    {
      "cell_type": "code",
      "metadata": {
        "id": "1g9qpYKb6-Hi"
      },
      "source": [
        "# função que coloca ruído no sinal de 120 dB e extrai as features dele\n",
        "\n",
        "def get_features_noise_120(arquivo):\n",
        "\n",
        "    names = ['Tempo [s]', 'Amplitude PZT Atuador', 'Amplitude PZT Sensor']\n",
        "    df = pd.read_csv(arquivo, names=names)\n",
        "\n",
        "    x_watts = df['Amplitude PZT Sensor']**2\n",
        "    x_dB = 10 * np.log10(x_watts)\n",
        "    target_SNR_dB = 120\n",
        "    sig_avg_watts = np.mean(x_watts)\n",
        "    sig_avg_db = 10 * np.log10(sig_avg_watts)\n",
        "    noise_avg_db = sig_avg_db - target_SNR_dB\n",
        "    noise_avg_watts = 10 ** (noise_avg_db / 10)\n",
        "    mean_noise = 0\n",
        "    noise_volts = np.random.normal(mean_noise, np.sqrt(noise_avg_watts), len(x_watts))\n",
        "    y_volts = df['Amplitude PZT Sensor'] + noise_volts\n",
        "    noise_data = y_volts\n",
        "\n",
        "    peak = np.max(noise_data) #1 - peak\n",
        "    mean = noise_data.mean() #2 - mean\n",
        "    ms = np.mean(np.square(noise_data)) #3 - mean square\n",
        "    rms = np.sqrt(ms) #4 - root mean square\n",
        "    var = noise_data.var() #5 - variance\n",
        "    std = stdev(noise_data) #6 - standard deviation\n",
        "    skw = skew(noise_data) #7 - skewness\n",
        "    kurt = kurtosis(noise_data) #8 - kurtosis\n",
        "    crest_f = peak/rms #9 - crest factor\n",
        "    K_f = peak*rms #10 - K-Factor\n",
        "\n",
        "    md = pd.DataFrame([[peak, mean, ms, rms, var, std, skw, kurt, crest_f, K_f]], columns=['Peak', 'Mean', 'Mean²', 'RMS', 'Variance', 'Std Deviation', 'Skewness', 'Kurtosis', 'Crest Factor', 'K-Factor']) # esta função retorna um dataframe do pandas com 10 linhas contendo todas as features extraídas\n",
        "    \n",
        "    return md"
      ],
      "execution_count": null,
      "outputs": []
    },
    {
      "cell_type": "code",
      "metadata": {
        "id": "9Pu41ZUsgeCN",
        "colab": {
          "base_uri": "https://localhost:8080/"
        },
        "outputId": "66385670-073d-4322-8994-856635d05017"
      },
      "source": [
        "# 100 kHz\n",
        "\n",
        "sem_dano_100 = get_features(\"/content/Time_Series/Dataset-LambWave-Wagner/PL0402_Ref/PL0402_Ref2_1_100KHz__5ciclos_B3_A3.csv\")\n",
        "sem_dano_100_2 = get_features(\"/content/Time_Series/Dataset-LambWave-Wagner/PL0402_Ref/PL0402_Ref2_2_100KHz__5ciclos_B3_A3.csv\")\n",
        "sem_dano_100_3 = get_features(\"/content/Time_Series/Dataset-LambWave-Wagner/PL0402_Ref/PL0402_Ref2_3_100KHz__5ciclos_B3_A3.csv\")\n",
        "sem_dano_100_4 = get_features(\"/content/Time_Series/Dataset-LambWave-Wagner/PL0402_Ref/PL0402_Ref2_4_100KHz__5ciclos_B3_A3.csv\")\n",
        "\n",
        "dano_1_100 = get_features(\"/content/Time_Series/Dataset-LambWave-Wagner/PL0402_Dn1/PL0402_Dn12_1_100KHz__5ciclos_B3_A3.csv\")\n",
        "\n",
        "dano_2_100 = get_features(\"/content/Time_Series/Dataset-LambWave-Wagner/PL0402_Dn2/PL0402_Dn22_1_100KHz__5ciclos_B3_A3.csv\")\n",
        "\n",
        "dano_3_100 = get_features(\"/content/Time_Series/Dataset-LambWave-Wagner/PL0402_Dn3/PL0402_Dn32_1_100KHz__5ciclos_B3_A3.csv\")\n",
        "\n",
        "dano_4_100 = get_features(\"/content/Time_Series/Dataset-LambWave-Wagner/PL0402_Dn4/PL0402_Dn42_1_100KHz__5ciclos_B3_A3.csv\")\n",
        "\n",
        "\n",
        "sem_dano_100_80dB = get_features_noise_80(\"/content/Time_Series/Dataset-LambWave-Wagner/PL0402_Ref/PL0402_Ref2_1_100KHz__5ciclos_B3_A3.csv\")\n",
        "sem_dano_100_80dB_2 = get_features_noise_80(\"/content/Time_Series/Dataset-LambWave-Wagner/PL0402_Ref/PL0402_Ref2_2_100KHz__5ciclos_B3_A3.csv\")\n",
        "sem_dano_100_80dB_3 = get_features_noise_80(\"/content/Time_Series/Dataset-LambWave-Wagner/PL0402_Ref/PL0402_Ref2_3_100KHz__5ciclos_B3_A3.csv\")\n",
        "sem_dano_100_80dB_4 = get_features_noise_80(\"/content/Time_Series/Dataset-LambWave-Wagner/PL0402_Ref/PL0402_Ref2_4_100KHz__5ciclos_B3_A3.csv\")\n",
        "\n",
        "dano_1_100_80dB = get_features_noise_80(\"/content/Time_Series/Dataset-LambWave-Wagner/PL0402_Dn1/PL0402_Dn12_1_100KHz__5ciclos_B3_A3.csv\")\n",
        "\n",
        "dano_2_100_80dB = get_features_noise_80(\"/content/Time_Series/Dataset-LambWave-Wagner/PL0402_Dn2/PL0402_Dn22_1_100KHz__5ciclos_B3_A3.csv\")\n",
        "\n",
        "dano_3_100_80dB = get_features_noise_80(\"/content/Time_Series/Dataset-LambWave-Wagner/PL0402_Dn3/PL0402_Dn32_1_100KHz__5ciclos_B3_A3.csv\")\n",
        "\n",
        "dano_4_100_80dB = get_features_noise_80(\"/content/Time_Series/Dataset-LambWave-Wagner/PL0402_Dn4/PL0402_Dn42_1_100KHz__5ciclos_B3_A3.csv\")\n",
        "\n",
        "\n",
        "sem_dano_100_120dB = get_features_noise_120(\"/content/Time_Series/Dataset-LambWave-Wagner/PL0402_Ref/PL0402_Ref2_1_100KHz__5ciclos_B3_A3.csv\")\n",
        "sem_dano_100_120dB_2 = get_features_noise_120(\"/content/Time_Series/Dataset-LambWave-Wagner/PL0402_Ref/PL0402_Ref2_2_100KHz__5ciclos_B3_A3.csv\")\n",
        "sem_dano_100_120dB_3 = get_features_noise_120(\"/content/Time_Series/Dataset-LambWave-Wagner/PL0402_Ref/PL0402_Ref2_3_100KHz__5ciclos_B3_A3.csv\")\n",
        "sem_dano_100_120dB_4 = get_features_noise_120(\"/content/Time_Series/Dataset-LambWave-Wagner/PL0402_Ref/PL0402_Ref2_4_100KHz__5ciclos_B3_A3.csv\")\n",
        "\n",
        "dano_1_100_120dB = get_features_noise_120(\"/content/Time_Series/Dataset-LambWave-Wagner/PL0402_Dn1/PL0402_Dn12_1_100KHz__5ciclos_B3_A3.csv\")\n",
        "\n",
        "dano_2_100_120dB = get_features_noise_120(\"/content/Time_Series/Dataset-LambWave-Wagner/PL0402_Dn2/PL0402_Dn22_1_100KHz__5ciclos_B3_A3.csv\")\n",
        "\n",
        "dano_3_100_120dB = get_features_noise_120(\"/content/Time_Series/Dataset-LambWave-Wagner/PL0402_Dn3/PL0402_Dn32_1_100KHz__5ciclos_B3_A3.csv\")\n",
        "\n",
        "dano_4_100_120dB = get_features_noise_120(\"/content/Time_Series/Dataset-LambWave-Wagner/PL0402_Dn4/PL0402_Dn42_1_100KHz__5ciclos_B3_A3.csv\")\n",
        "\n",
        "\n",
        "df_100 = [sem_dano_100, sem_dano_100_2, sem_dano_100_3, sem_dano_100_4, dano_1_100, dano_2_100, dano_3_100, dano_4_100, \n",
        "                sem_dano_100_80dB, sem_dano_100_80dB_2, sem_dano_100_80dB_3, sem_dano_100_80dB_4, dano_1_100_80dB, dano_2_100_80dB, dano_3_100_80dB, dano_4_100_80dB, \n",
        "                sem_dano_100_120dB, sem_dano_100_120dB_2, sem_dano_100_120dB_3, sem_dano_100_120dB_4, dano_1_100_120dB, dano_2_100_120dB, dano_3_100_120dB, dano_4_100_120dB]\n",
        "\n",
        "df_100_no_noise = [sem_dano_100, sem_dano_100_2, sem_dano_100_3, sem_dano_100_4, dano_1_100, dano_2_100, dano_3_100, dano_4_100]\n",
        "\n",
        "df_100_just_noise = [sem_dano_100_80dB, sem_dano_100_80dB_2, sem_dano_100_80dB_3, sem_dano_100_80dB_4, dano_1_100_80dB, dano_2_100_80dB, dano_3_100_80dB, dano_4_100_80dB, \n",
        "                     sem_dano_100_120dB, sem_dano_100_120dB_2, sem_dano_100_120dB_3, sem_dano_100_120dB_4, dano_1_100_120dB, dano_2_100_120dB, dano_3_100_120dB, dano_4_100_120dB]\n",
        "\n",
        "# 150 kHz\n",
        "\n",
        "sem_dano_150 = get_features(\"/content/Time_Series/Dataset-LambWave-Wagner/PL0402_Ref/PL0402_Ref2_1_150KHz__5ciclos_B3_A3.csv\")\n",
        "sem_dano_150_2 = get_features(\"/content/Time_Series/Dataset-LambWave-Wagner/PL0402_Ref/PL0402_Ref2_2_150KHz__5ciclos_B3_A3.csv\")\n",
        "sem_dano_150_3 = get_features(\"/content/Time_Series/Dataset-LambWave-Wagner/PL0402_Ref/PL0402_Ref2_3_150KHz__5ciclos_B3_A3.csv\")\n",
        "sem_dano_150_4 = get_features(\"/content/Time_Series/Dataset-LambWave-Wagner/PL0402_Ref/PL0402_Ref2_4_150KHz__5ciclos_B3_A3.csv\")\n",
        "\n",
        "dano_1_150 = get_features(\"/content/Time_Series/Dataset-LambWave-Wagner/PL0402_Dn1/PL0402_Dn12_1_150KHz__5ciclos_B3_A3.csv\")\n",
        "\n",
        "dano_2_150 = get_features(\"/content/Time_Series/Dataset-LambWave-Wagner/PL0402_Dn2/PL0402_Dn22_1_150KHz__5ciclos_B3_A3.csv\")\n",
        "\n",
        "dano_3_150 = get_features(\"/content/Time_Series/Dataset-LambWave-Wagner/PL0402_Dn3/PL0402_Dn32_1_150KHz__5ciclos_B3_A3.csv\")\n",
        "\n",
        "dano_4_150 = get_features(\"/content/Time_Series/Dataset-LambWave-Wagner/PL0402_Dn4/PL0402_Dn42_1_150KHz__5ciclos_B3_A3.csv\")\n",
        "\n",
        "\n",
        "sem_dano_150_80dB = get_features_noise_80(\"/content/Time_Series/Dataset-LambWave-Wagner/PL0402_Ref/PL0402_Ref2_1_150KHz__5ciclos_B3_A3.csv\")\n",
        "sem_dano_150_80dB_2 = get_features_noise_80(\"/content/Time_Series/Dataset-LambWave-Wagner/PL0402_Ref/PL0402_Ref2_2_150KHz__5ciclos_B3_A3.csv\")\n",
        "sem_dano_150_80dB_3 = get_features_noise_80(\"/content/Time_Series/Dataset-LambWave-Wagner/PL0402_Ref/PL0402_Ref2_3_150KHz__5ciclos_B3_A3.csv\")\n",
        "sem_dano_150_80dB_4 = get_features_noise_80(\"/content/Time_Series/Dataset-LambWave-Wagner/PL0402_Ref/PL0402_Ref2_4_150KHz__5ciclos_B3_A3.csv\")\n",
        "\n",
        "dano_1_150_80dB = get_features_noise_80(\"/content/Time_Series/Dataset-LambWave-Wagner/PL0402_Dn1/PL0402_Dn12_1_150KHz__5ciclos_B3_A3.csv\")\n",
        "\n",
        "dano_2_150_80dB = get_features_noise_80(\"/content/Time_Series/Dataset-LambWave-Wagner/PL0402_Dn2/PL0402_Dn22_1_150KHz__5ciclos_B3_A3.csv\")\n",
        "\n",
        "dano_3_150_80dB = get_features_noise_80(\"/content/Time_Series/Dataset-LambWave-Wagner/PL0402_Dn3/PL0402_Dn32_1_150KHz__5ciclos_B3_A3.csv\")\n",
        "\n",
        "dano_4_150_80dB = get_features_noise_80(\"/content/Time_Series/Dataset-LambWave-Wagner/PL0402_Dn4/PL0402_Dn42_1_150KHz__5ciclos_B3_A3.csv\")\n",
        "\n",
        "\n",
        "sem_dano_150_120dB = get_features_noise_120(\"/content/Time_Series/Dataset-LambWave-Wagner/PL0402_Ref/PL0402_Ref2_1_150KHz__5ciclos_B3_A3.csv\")\n",
        "sem_dano_150_120dB_2 = get_features_noise_120(\"/content/Time_Series/Dataset-LambWave-Wagner/PL0402_Ref/PL0402_Ref2_2_150KHz__5ciclos_B3_A3.csv\")\n",
        "sem_dano_150_120dB_3 = get_features_noise_120(\"/content/Time_Series/Dataset-LambWave-Wagner/PL0402_Ref/PL0402_Ref2_3_150KHz__5ciclos_B3_A3.csv\")\n",
        "sem_dano_150_120dB_4 = get_features_noise_120(\"/content/Time_Series/Dataset-LambWave-Wagner/PL0402_Ref/PL0402_Ref2_4_150KHz__5ciclos_B3_A3.csv\")\n",
        "\n",
        "dano_1_150_120dB = get_features_noise_120(\"/content/Time_Series/Dataset-LambWave-Wagner/PL0402_Dn1/PL0402_Dn12_1_150KHz__5ciclos_B3_A3.csv\")\n",
        "\n",
        "dano_2_150_120dB = get_features_noise_120(\"/content/Time_Series/Dataset-LambWave-Wagner/PL0402_Dn2/PL0402_Dn22_1_150KHz__5ciclos_B3_A3.csv\")\n",
        "\n",
        "dano_3_150_120dB = get_features_noise_120(\"/content/Time_Series/Dataset-LambWave-Wagner/PL0402_Dn3/PL0402_Dn32_1_150KHz__5ciclos_B3_A3.csv\")\n",
        "\n",
        "dano_4_150_120dB = get_features_noise_120(\"/content/Time_Series/Dataset-LambWave-Wagner/PL0402_Dn4/PL0402_Dn42_1_150KHz__5ciclos_B3_A3.csv\")\n",
        "\n",
        "df_150 = [sem_dano_150, sem_dano_150_2, sem_dano_150_3, sem_dano_150_4, dano_1_150, dano_2_150, dano_3_150, dano_4_150, \n",
        "          sem_dano_150_80dB, sem_dano_150_80dB_2, sem_dano_150_80dB_3, sem_dano_150_80dB_4, dano_1_150_80dB, dano_2_150_80dB, dano_3_150_80dB, dano_4_150_80dB, \n",
        "          sem_dano_150_120dB, sem_dano_150_120dB_2, sem_dano_150_120dB_3, sem_dano_150_120dB_4, dano_1_150_120dB, dano_2_150_120dB, dano_3_150_120dB, dano_4_150_120dB]\n",
        "\n",
        "df_150_no_noise = [sem_dano_150, sem_dano_150_2, sem_dano_150_3, sem_dano_150_4, dano_1_150, dano_2_150, dano_3_150, dano_4_150]\n",
        "\n",
        "df_150_just_noise = [sem_dano_150_80dB, sem_dano_150_80dB_2, sem_dano_150_80dB_3, sem_dano_150_80dB_4, dano_1_150_80dB, dano_2_150_80dB, dano_3_150_80dB, dano_4_150_80dB, \n",
        "                     sem_dano_150_120dB, sem_dano_150_120dB_2, sem_dano_150_120dB_3, sem_dano_150_120dB_4, dano_1_150_120dB, dano_2_150_120dB, dano_3_150_120dB, dano_4_150_120dB]\n",
        "\n",
        "\n",
        "# 200 kHz \n",
        "\n",
        "sem_dano_200 = get_features(\"/content/Time_Series/Dataset-LambWave-Wagner/PL0402_Ref/PL0402_Ref2_1_200KHz__5ciclos_B3_A3.csv\")\n",
        "sem_dano_200_2 = get_features(\"/content/Time_Series/Dataset-LambWave-Wagner/PL0402_Ref/PL0402_Ref2_2_200KHz__5ciclos_B3_A3.csv\")\n",
        "sem_dano_200_3 = get_features(\"/content/Time_Series/Dataset-LambWave-Wagner/PL0402_Ref/PL0402_Ref2_3_200KHz__5ciclos_B3_A3.csv\")\n",
        "sem_dano_200_4 = get_features(\"/content/Time_Series/Dataset-LambWave-Wagner/PL0402_Ref/PL0402_Ref2_4_200KHz__5ciclos_B3_A3.csv\")\n",
        "\n",
        "dano_1_200 = get_features(\"/content/Time_Series/Dataset-LambWave-Wagner/PL0402_Dn1/PL0402_Dn12_1_200KHz__5ciclos_B3_A3.csv\")\n",
        "\n",
        "dano_2_200 = get_features(\"/content/Time_Series/Dataset-LambWave-Wagner/PL0402_Dn2/PL0402_Dn22_1_200KHz__5ciclos_B3_A3.csv\")\n",
        "\n",
        "dano_3_200 = get_features(\"/content/Time_Series/Dataset-LambWave-Wagner/PL0402_Dn3/PL0402_Dn32_1_200KHz__5ciclos_B3_A3.csv\")\n",
        "\n",
        "dano_4_200 = get_features(\"/content/Time_Series/Dataset-LambWave-Wagner/PL0402_Dn4/PL0402_Dn42_1_200KHz__5ciclos_B3_A3.csv\")\n",
        "\n",
        "\n",
        "sem_dano_200_80dB = get_features_noise_80(\"/content/Time_Series/Dataset-LambWave-Wagner/PL0402_Ref/PL0402_Ref2_1_200KHz__5ciclos_B3_A3.csv\")\n",
        "sem_dano_200_80dB_2 = get_features_noise_80(\"/content/Time_Series/Dataset-LambWave-Wagner/PL0402_Ref/PL0402_Ref2_2_200KHz__5ciclos_B3_A3.csv\")\n",
        "sem_dano_200_80dB_3 = get_features_noise_80(\"/content/Time_Series/Dataset-LambWave-Wagner/PL0402_Ref/PL0402_Ref2_3_200KHz__5ciclos_B3_A3.csv\")\n",
        "sem_dano_200_80dB_4 = get_features_noise_80(\"/content/Time_Series/Dataset-LambWave-Wagner/PL0402_Ref/PL0402_Ref2_4_200KHz__5ciclos_B3_A3.csv\")\n",
        "\n",
        "dano_1_200_80dB = get_features_noise_80(\"/content/Time_Series/Dataset-LambWave-Wagner/PL0402_Dn1/PL0402_Dn12_1_200KHz__5ciclos_B3_A3.csv\")\n",
        "\n",
        "dano_2_200_80dB = get_features_noise_80(\"/content/Time_Series/Dataset-LambWave-Wagner/PL0402_Dn2/PL0402_Dn22_1_200KHz__5ciclos_B3_A3.csv\")\n",
        "\n",
        "dano_3_200_80dB = get_features_noise_80(\"/content/Time_Series/Dataset-LambWave-Wagner/PL0402_Dn3/PL0402_Dn32_1_200KHz__5ciclos_B3_A3.csv\")\n",
        "\n",
        "dano_4_200_80dB = get_features_noise_80(\"/content/Time_Series/Dataset-LambWave-Wagner/PL0402_Dn4/PL0402_Dn42_1_200KHz__5ciclos_B3_A3.csv\")\n",
        "\n",
        "\n",
        "sem_dano_200_120dB = get_features_noise_120(\"/content/Time_Series/Dataset-LambWave-Wagner/PL0402_Ref/PL0402_Ref2_1_200KHz__5ciclos_B3_A3.csv\")\n",
        "sem_dano_200_120dB_2 = get_features_noise_120(\"/content/Time_Series/Dataset-LambWave-Wagner/PL0402_Ref/PL0402_Ref2_2_200KHz__5ciclos_B3_A3.csv\")\n",
        "sem_dano_200_120dB_3 = get_features_noise_120(\"/content/Time_Series/Dataset-LambWave-Wagner/PL0402_Ref/PL0402_Ref2_3_200KHz__5ciclos_B3_A3.csv\")\n",
        "sem_dano_200_120dB_4 = get_features_noise_120(\"/content/Time_Series/Dataset-LambWave-Wagner/PL0402_Ref/PL0402_Ref2_4_200KHz__5ciclos_B3_A3.csv\")\n",
        "\n",
        "dano_1_200_120dB = get_features_noise_120(\"/content/Time_Series/Dataset-LambWave-Wagner/PL0402_Dn1/PL0402_Dn12_1_200KHz__5ciclos_B3_A3.csv\")\n",
        "\n",
        "dano_2_200_120dB = get_features_noise_120(\"/content/Time_Series/Dataset-LambWave-Wagner/PL0402_Dn2/PL0402_Dn22_1_200KHz__5ciclos_B3_A3.csv\")\n",
        "\n",
        "dano_3_200_120dB = get_features_noise_120(\"/content/Time_Series/Dataset-LambWave-Wagner/PL0402_Dn3/PL0402_Dn32_1_200KHz__5ciclos_B3_A3.csv\")\n",
        "\n",
        "dano_4_200_120dB = get_features_noise_120(\"/content/Time_Series/Dataset-LambWave-Wagner/PL0402_Dn4/PL0402_Dn42_1_200KHz__5ciclos_B3_A3.csv\")\n",
        "\n",
        "df_200 = [sem_dano_200, sem_dano_200_2, sem_dano_200_3, sem_dano_200_4, dano_1_200, dano_2_200, dano_3_200, dano_4_200, \n",
        "          sem_dano_200_80dB, sem_dano_200_80dB_2, sem_dano_200_80dB_3, sem_dano_200_80dB_4, dano_1_200_80dB, dano_2_200_80dB, dano_3_200_80dB, dano_4_200_80dB, \n",
        "          sem_dano_200_120dB, sem_dano_200_120dB_2, sem_dano_200_120dB_3, sem_dano_200_120dB_4, dano_1_200_120dB, dano_2_200_120dB, dano_3_200_120dB, dano_4_200_120dB]\n",
        "\n",
        "df_200_no_noise = [sem_dano_200, sem_dano_200_2, sem_dano_200_3, sem_dano_200_4, dano_1_200, dano_2_200, dano_3_200, dano_4_200]\n",
        "\n",
        "df_200_just_noise = [sem_dano_200_80dB, sem_dano_200_80dB_2, sem_dano_200_80dB_3, sem_dano_200_80dB_4, dano_1_200_80dB, dano_2_200_80dB, dano_3_200_80dB, dano_4_200_80dB, \n",
        "                     sem_dano_200_120dB, sem_dano_200_120dB_2, sem_dano_200_120dB_3, sem_dano_200_120dB_4, dano_1_200_120dB, dano_2_200_120dB, dano_3_200_120dB, dano_4_200_120dB]\n",
        "\n",
        "# 250 kHz\n",
        "\n",
        "sem_dano_250 = get_features(\"/content/Time_Series/Dataset-LambWave-Wagner/PL0402_Ref/PL0402_Ref2_1_250KHz__5ciclos_B3_A3.csv\")\n",
        "sem_dano_250_2 = get_features(\"/content/Time_Series/Dataset-LambWave-Wagner/PL0402_Ref/PL0402_Ref2_2_250KHz__5ciclos_B3_A3.csv\")\n",
        "sem_dano_250_3 = get_features(\"/content/Time_Series/Dataset-LambWave-Wagner/PL0402_Ref/PL0402_Ref2_3_250KHz__5ciclos_B3_A3.csv\")\n",
        "sem_dano_250_4 = get_features(\"/content/Time_Series/Dataset-LambWave-Wagner/PL0402_Ref/PL0402_Ref2_4_250KHz__5ciclos_B3_A3.csv\")\n",
        "\n",
        "dano_1_250 = get_features(\"/content/Time_Series/Dataset-LambWave-Wagner/PL0402_Dn1/PL0402_Dn12_1_250KHz__5ciclos_B3_A3.csv\")\n",
        "\n",
        "dano_2_250 = get_features(\"/content/Time_Series/Dataset-LambWave-Wagner/PL0402_Dn2/PL0402_Dn22_1_250KHz__5ciclos_B3_A3.csv\")\n",
        "\n",
        "dano_3_250 = get_features(\"/content/Time_Series/Dataset-LambWave-Wagner/PL0402_Dn3/PL0402_Dn32_1_250KHz__5ciclos_B3_A3.csv\")\n",
        "\n",
        "dano_4_250 = get_features(\"/content/Time_Series/Dataset-LambWave-Wagner/PL0402_Dn4/PL0402_Dn42_1_250KHz__5ciclos_B3_A3.csv\")\n",
        "\n",
        "\n",
        "sem_dano_250_80dB = get_features_noise_80(\"/content/Time_Series/Dataset-LambWave-Wagner/PL0402_Ref/PL0402_Ref2_1_250KHz__5ciclos_B3_A3.csv\")\n",
        "sem_dano_250_80dB_2 = get_features_noise_80(\"/content/Time_Series/Dataset-LambWave-Wagner/PL0402_Ref/PL0402_Ref2_2_250KHz__5ciclos_B3_A3.csv\")\n",
        "sem_dano_250_80dB_3 = get_features_noise_80(\"/content/Time_Series/Dataset-LambWave-Wagner/PL0402_Ref/PL0402_Ref2_3_250KHz__5ciclos_B3_A3.csv\")\n",
        "sem_dano_250_80dB_4 = get_features_noise_80(\"/content/Time_Series/Dataset-LambWave-Wagner/PL0402_Ref/PL0402_Ref2_4_250KHz__5ciclos_B3_A3.csv\")\n",
        "\n",
        "dano_1_250_80dB = get_features_noise_80(\"/content/Time_Series/Dataset-LambWave-Wagner/PL0402_Dn1/PL0402_Dn12_1_250KHz__5ciclos_B3_A3.csv\")\n",
        "\n",
        "dano_2_250_80dB = get_features_noise_80(\"/content/Time_Series/Dataset-LambWave-Wagner/PL0402_Dn2/PL0402_Dn22_1_250KHz__5ciclos_B3_A3.csv\")\n",
        "\n",
        "dano_3_250_80dB = get_features_noise_80(\"/content/Time_Series/Dataset-LambWave-Wagner/PL0402_Dn3/PL0402_Dn32_1_250KHz__5ciclos_B3_A3.csv\")\n",
        "\n",
        "dano_4_250_80dB = get_features_noise_80(\"/content/Time_Series/Dataset-LambWave-Wagner/PL0402_Dn4/PL0402_Dn42_1_250KHz__5ciclos_B3_A3.csv\")\n",
        "\n",
        "\n",
        "sem_dano_250_120dB = get_features_noise_120(\"/content/Time_Series/Dataset-LambWave-Wagner/PL0402_Ref/PL0402_Ref2_1_250KHz__5ciclos_B3_A3.csv\")\n",
        "sem_dano_250_120dB_2 = get_features_noise_120(\"/content/Time_Series/Dataset-LambWave-Wagner/PL0402_Ref/PL0402_Ref2_2_250KHz__5ciclos_B3_A3.csv\")\n",
        "sem_dano_250_120dB_3 = get_features_noise_120(\"/content/Time_Series/Dataset-LambWave-Wagner/PL0402_Ref/PL0402_Ref2_3_250KHz__5ciclos_B3_A3.csv\")\n",
        "sem_dano_250_120dB_4 = get_features_noise_120(\"/content/Time_Series/Dataset-LambWave-Wagner/PL0402_Ref/PL0402_Ref2_4_250KHz__5ciclos_B3_A3.csv\")\n",
        "\n",
        "dano_1_250_120dB = get_features_noise_120(\"/content/Time_Series/Dataset-LambWave-Wagner/PL0402_Dn1/PL0402_Dn12_1_250KHz__5ciclos_B3_A3.csv\")\n",
        "\n",
        "dano_2_250_120dB = get_features_noise_120(\"/content/Time_Series/Dataset-LambWave-Wagner/PL0402_Dn2/PL0402_Dn22_1_250KHz__5ciclos_B3_A3.csv\")\n",
        "\n",
        "dano_3_250_120dB = get_features_noise_120(\"/content/Time_Series/Dataset-LambWave-Wagner/PL0402_Dn3/PL0402_Dn32_1_250KHz__5ciclos_B3_A3.csv\")\n",
        "\n",
        "dano_4_250_120dB = get_features_noise_120(\"/content/Time_Series/Dataset-LambWave-Wagner/PL0402_Dn4/PL0402_Dn42_1_250KHz__5ciclos_B3_A3.csv\")\n",
        "\n",
        "df_250 = [sem_dano_250, sem_dano_250_2, sem_dano_250_3, sem_dano_250_4, dano_1_250, dano_2_250, dano_3_250, dano_4_250, \n",
        "          sem_dano_250_80dB, sem_dano_250_80dB_2, sem_dano_250_80dB_3, sem_dano_250_80dB_4, dano_1_250_80dB, dano_2_250_80dB, dano_3_250_80dB, dano_4_250_80dB, \n",
        "          sem_dano_250_120dB, sem_dano_250_120dB_2, sem_dano_250_120dB_3, sem_dano_250_120dB_4, dano_1_250_120dB, dano_2_250_120dB, dano_3_250_120dB, dano_4_250_120dB]\n",
        "\n",
        "df_250_no_noise = [sem_dano_250, sem_dano_250_2, sem_dano_250_3, sem_dano_250_4, dano_1_250, dano_2_250, dano_3_250, dano_4_250]\n",
        "\n",
        "df_250_just_noise = [sem_dano_250_80dB, sem_dano_250_80dB_2, sem_dano_250_80dB_3, sem_dano_250_80dB_4, dano_1_250_80dB, dano_2_250_80dB, dano_3_250_80dB, dano_4_250_80dB, \n",
        "                     sem_dano_250_120dB, sem_dano_250_120dB_2, sem_dano_250_120dB_3, sem_dano_250_120dB_4, dano_1_250_120dB, dano_2_250_120dB, dano_3_250_120dB, dano_4_250_120dB]\n",
        "\n",
        "# 300 kHz\n",
        "\n",
        "sem_dano_300 = get_features(\"/content/Time_Series/Dataset-LambWave-Wagner/PL0402_Ref/PL0402_Ref2_1_300KHz__5ciclos_B3_A3.csv\")\n",
        "sem_dano_300_2 = get_features(\"/content/Time_Series/Dataset-LambWave-Wagner/PL0402_Ref/PL0402_Ref2_2_300KHz__5ciclos_B3_A3.csv\")\n",
        "sem_dano_300_3 = get_features(\"/content/Time_Series/Dataset-LambWave-Wagner/PL0402_Ref/PL0402_Ref2_3_300KHz__5ciclos_B3_A3.csv\")\n",
        "sem_dano_300_4 = get_features(\"/content/Time_Series/Dataset-LambWave-Wagner/PL0402_Ref/PL0402_Ref2_4_300KHz__5ciclos_B3_A3.csv\")\n",
        "\n",
        "dano_1_300 = get_features(\"/content/Time_Series/Dataset-LambWave-Wagner/PL0402_Dn1/PL0402_Dn12_1_300KHz__5ciclos_B3_A3.csv\")\n",
        "\n",
        "dano_2_300 = get_features(\"/content/Time_Series/Dataset-LambWave-Wagner/PL0402_Dn2/PL0402_Dn22_1_300KHz__5ciclos_B3_A3.csv\")\n",
        "\n",
        "dano_3_300 = get_features(\"/content/Time_Series/Dataset-LambWave-Wagner/PL0402_Dn3/PL0402_Dn32_1_300KHz__5ciclos_B3_A3.csv\")\n",
        "\n",
        "dano_4_300 = get_features(\"/content/Time_Series/Dataset-LambWave-Wagner/PL0402_Dn4/PL0402_Dn42_1_300KHz__5ciclos_B3_A3.csv\")\n",
        "\n",
        "\n",
        "sem_dano_300_80dB = get_features_noise_80(\"/content/Time_Series/Dataset-LambWave-Wagner/PL0402_Ref/PL0402_Ref2_1_300KHz__5ciclos_B3_A3.csv\")\n",
        "sem_dano_300_80dB_2 = get_features_noise_80(\"/content/Time_Series/Dataset-LambWave-Wagner/PL0402_Ref/PL0402_Ref2_2_300KHz__5ciclos_B3_A3.csv\")\n",
        "sem_dano_300_80dB_3 = get_features_noise_80(\"/content/Time_Series/Dataset-LambWave-Wagner/PL0402_Ref/PL0402_Ref2_3_300KHz__5ciclos_B3_A3.csv\")\n",
        "sem_dano_300_80dB_4 = get_features_noise_80(\"/content/Time_Series/Dataset-LambWave-Wagner/PL0402_Ref/PL0402_Ref2_4_300KHz__5ciclos_B3_A3.csv\")\n",
        "\n",
        "dano_1_300_80dB = get_features_noise_80(\"/content/Time_Series/Dataset-LambWave-Wagner/PL0402_Dn1/PL0402_Dn12_1_300KHz__5ciclos_B3_A3.csv\")\n",
        "\n",
        "dano_2_300_80dB = get_features_noise_80(\"/content/Time_Series/Dataset-LambWave-Wagner/PL0402_Dn2/PL0402_Dn22_1_300KHz__5ciclos_B3_A3.csv\")\n",
        "\n",
        "dano_3_300_80dB = get_features_noise_80(\"/content/Time_Series/Dataset-LambWave-Wagner/PL0402_Dn3/PL0402_Dn32_1_300KHz__5ciclos_B3_A3.csv\")\n",
        "\n",
        "dano_4_300_80dB = get_features_noise_80(\"/content/Time_Series/Dataset-LambWave-Wagner/PL0402_Dn4/PL0402_Dn42_1_300KHz__5ciclos_B3_A3.csv\")\n",
        "\n",
        "\n",
        "sem_dano_300_120dB = get_features_noise_120(\"/content/Time_Series/Dataset-LambWave-Wagner/PL0402_Ref/PL0402_Ref2_1_300KHz__5ciclos_B3_A3.csv\")\n",
        "sem_dano_300_120dB_2 = get_features_noise_120(\"/content/Time_Series/Dataset-LambWave-Wagner/PL0402_Ref/PL0402_Ref2_2_300KHz__5ciclos_B3_A3.csv\")\n",
        "sem_dano_300_120dB_3 = get_features_noise_120(\"/content/Time_Series/Dataset-LambWave-Wagner/PL0402_Ref/PL0402_Ref2_3_300KHz__5ciclos_B3_A3.csv\")\n",
        "sem_dano_300_120dB_4 = get_features_noise_120(\"/content/Time_Series/Dataset-LambWave-Wagner/PL0402_Ref/PL0402_Ref2_4_300KHz__5ciclos_B3_A3.csv\")\n",
        "\n",
        "dano_1_300_120dB = get_features_noise_120(\"/content/Time_Series/Dataset-LambWave-Wagner/PL0402_Dn1/PL0402_Dn12_1_300KHz__5ciclos_B3_A3.csv\")\n",
        "\n",
        "dano_2_300_120dB = get_features_noise_120(\"/content/Time_Series/Dataset-LambWave-Wagner/PL0402_Dn2/PL0402_Dn22_1_300KHz__5ciclos_B3_A3.csv\")\n",
        "\n",
        "dano_3_300_120dB = get_features_noise_120(\"/content/Time_Series/Dataset-LambWave-Wagner/PL0402_Dn3/PL0402_Dn32_1_300KHz__5ciclos_B3_A3.csv\")\n",
        "\n",
        "dano_4_300_120dB = get_features_noise_120(\"/content/Time_Series/Dataset-LambWave-Wagner/PL0402_Dn4/PL0402_Dn42_1_300KHz__5ciclos_B3_A3.csv\")\n",
        "\n",
        "df_300 = [sem_dano_300, sem_dano_300_2, sem_dano_300_3, sem_dano_300_4, dano_1_300, dano_2_300, dano_3_300, dano_4_300, \n",
        "          sem_dano_300_80dB, sem_dano_300_80dB_2, sem_dano_300_80dB_3, sem_dano_300_80dB_4, dano_1_300_80dB, dano_2_300_80dB, dano_3_300_80dB, dano_4_300_80dB, \n",
        "          sem_dano_300_120dB, sem_dano_300_120dB_2, sem_dano_300_120dB_3, sem_dano_300_120dB_4, dano_1_300_120dB, dano_2_300_120dB, dano_3_300_120dB, dano_4_300_120dB]\n",
        "\n",
        "df_300_no_noise = [sem_dano_300, sem_dano_300_2, sem_dano_300_3, sem_dano_300_4, dano_1_300, dano_2_300, dano_3_300, dano_4_300]\n",
        "\n",
        "df_300_just_noise = [sem_dano_300_80dB, sem_dano_300_80dB_2, sem_dano_300_80dB_3, sem_dano_300_80dB_4, dano_1_300_80dB, dano_2_300_80dB, dano_3_300_80dB, dano_4_300_80dB, \n",
        "                     sem_dano_300_120dB, sem_dano_300_120dB_2, sem_dano_300_120dB_3, sem_dano_300_120dB_4, dano_1_300_120dB, dano_2_300_120dB, dano_3_300_120dB, dano_4_300_120dB]"
      ],
      "execution_count": null,
      "outputs": [
        {
          "output_type": "stream",
          "name": "stderr",
          "text": [
            "/usr/local/lib/python3.7/dist-packages/pandas/core/series.py:726: RuntimeWarning: divide by zero encountered in log10\n",
            "  result = getattr(ufunc, method)(*inputs, **kwargs)\n"
          ]
        }
      ]
    },
    {
      "cell_type": "code",
      "metadata": {
        "id": "42hVtoPjks3e",
        "colab": {
          "base_uri": "https://localhost:8080/"
        },
        "outputId": "547b7743-c24f-4f87-e550-c5a85e761dc1"
      },
      "source": [
        "# Organizando o dataset em sem ruído, só ruído e misto.\n",
        "\n",
        "df_mixed = [pd.concat(df_100, ignore_index=True), \n",
        "            pd.concat(df_150, ignore_index=True), \n",
        "            pd.concat(df_200, ignore_index=True), \n",
        "            pd.concat(df_250, ignore_index=True), \n",
        "            pd.concat(df_300, ignore_index=True)]\n",
        "\n",
        "df_no_noise = [pd.concat(df_100_no_noise, ignore_index=True), \n",
        "               pd.concat(df_150_no_noise, ignore_index=True), \n",
        "               pd.concat(df_200_no_noise, ignore_index=True), \n",
        "               pd.concat(df_250_no_noise, ignore_index=True), \n",
        "               pd.concat(df_300_no_noise, ignore_index=True)]\n",
        "\n",
        "df_just_noise = [pd.concat(df_100_just_noise, ignore_index=True), \n",
        "                 pd.concat(df_150_just_noise, ignore_index=True), \n",
        "                 pd.concat(df_200_just_noise, ignore_index=True), \n",
        "                 pd.concat(df_250_just_noise, ignore_index=True), \n",
        "                 pd.concat(df_300_just_noise, ignore_index=True)]\n",
        "\n",
        "dataset_mixed = pd.concat(df_mixed, ignore_index=True)\n",
        "dataset_no_noise = pd.concat(df_no_noise, ignore_index=True)\n",
        "dataset_just_noise = pd.concat(df_just_noise, ignore_index=True)\n",
        "\n",
        "print(dataset_mixed)\n",
        "print(dataset_no_noise)\n",
        "print(dataset_just_noise)\n"
      ],
      "execution_count": null,
      "outputs": [
        {
          "output_type": "stream",
          "name": "stdout",
          "text": [
            "         Peak          Mean     Mean²  ...   Kurtosis  Crest Factor  K-Factor\n",
            "0    0.013217  1.140910e-06  0.000005  ...   7.184161      6.130080  0.000028\n",
            "1    0.013210  1.141557e-06  0.000005  ...   7.181931      6.128940  0.000028\n",
            "2    0.013238  1.139077e-06  0.000005  ...   7.183232      6.138380  0.000029\n",
            "3    0.013209  1.166701e-06  0.000005  ...   7.162529      6.124055  0.000028\n",
            "4    0.014850  1.145254e-06  0.000005  ...   9.070766      6.728206  0.000033\n",
            "..        ...           ...       ...  ...        ...           ...       ...\n",
            "115  0.016792  1.182449e-07  0.000005  ...   8.841445      7.656461  0.000037\n",
            "116  0.023097  2.767235e-08  0.000006  ...  15.502414      9.245666  0.000058\n",
            "117  0.017213  5.050700e-08  0.000005  ...   9.672323      7.809434  0.000038\n",
            "118  0.016947  2.808903e-08  0.000005  ...   9.444686      7.827942  0.000037\n",
            "119  0.015402  7.471718e-08  0.000005  ...   7.609364      6.828075  0.000035\n",
            "\n",
            "[120 rows x 10 columns]\n",
            "        Peak          Mean     Mean²  ...   Kurtosis  Crest Factor  K-Factor\n",
            "0   0.013217  1.140910e-06  0.000005  ...   7.184161      6.130080  0.000028\n",
            "1   0.013210  1.141557e-06  0.000005  ...   7.181931      6.128940  0.000028\n",
            "2   0.013238  1.139077e-06  0.000005  ...   7.183232      6.138380  0.000029\n",
            "3   0.013209  1.166701e-06  0.000005  ...   7.162529      6.124055  0.000028\n",
            "4   0.014850  1.145254e-06  0.000005  ...   9.070766      6.728206  0.000033\n",
            "5   0.014542  1.364255e-06  0.000005  ...   8.161078      6.598925  0.000032\n",
            "6   0.014745  1.334253e-06  0.000005  ...   7.951149      6.381176  0.000034\n",
            "7   0.014802  1.114455e-06  0.000006  ...   8.299823      6.167727  0.000036\n",
            "8   0.011231 -1.152493e-07  0.000003  ...   9.654932      6.271181  0.000020\n",
            "9   0.011220 -9.860400e-08  0.000003  ...   9.652073      6.270573  0.000020\n",
            "10  0.011223 -1.190453e-07  0.000003  ...   9.656315      6.266274  0.000020\n",
            "11  0.011230 -9.467000e-08  0.000003  ...   9.633343      6.268091  0.000020\n",
            "12  0.011999 -4.716260e-07  0.000004  ...  10.424368      6.330641  0.000023\n",
            "13  0.012870 -2.854587e-07  0.000004  ...  11.696443      6.737734  0.000025\n",
            "14  0.013918 -2.894220e-07  0.000004  ...  11.551137      7.022674  0.000028\n",
            "15  0.015170 -1.540067e-08  0.000004  ...  11.814132      7.378954  0.000031\n",
            "16  0.011465  1.573167e-07  0.000003  ...   9.862063      7.194154  0.000018\n",
            "17  0.011477  1.678273e-07  0.000003  ...   9.883436      7.198584  0.000018\n",
            "18  0.011459  1.738840e-07  0.000003  ...   9.880623      7.188495  0.000018\n",
            "19  0.011465  1.641940e-07  0.000003  ...   9.869614      7.193481  0.000018\n",
            "20  0.012633  1.031440e-07  0.000003  ...  10.284599      7.210732  0.000022\n",
            "21  0.013420  2.427873e-07  0.000002  ...  12.615776      8.498534  0.000021\n",
            "22  0.014153  2.481527e-07  0.000002  ...  15.675844      9.089733  0.000022\n",
            "23  0.014195  2.699707e-07  0.000003  ...  14.496515      8.819591  0.000023\n",
            "24  0.013040  7.077133e-08  0.000003  ...  10.085341      7.520982  0.000023\n",
            "25  0.013024  6.949667e-08  0.000003  ...  10.100520      7.507772  0.000023\n",
            "26  0.013027  7.548333e-08  0.000003  ...  10.077783      7.511714  0.000023\n",
            "27  0.013042  6.980800e-08  0.000003  ...  10.089166      7.518194  0.000023\n",
            "28  0.016927  4.215667e-08  0.000004  ...  14.239104      8.473157  0.000034\n",
            "29  0.012899  5.507200e-08  0.000003  ...   9.947233      7.271876  0.000023\n",
            "30  0.012151  4.467133e-08  0.000003  ...   9.388368      7.013503  0.000021\n",
            "31  0.011336  6.609733e-08  0.000003  ...   7.845191      6.403153  0.000020\n",
            "32  0.016768  1.122160e-07  0.000005  ...   8.859584      7.647279  0.000037\n",
            "33  0.016798  1.202573e-07  0.000005  ...   8.855944      7.665709  0.000037\n",
            "34  0.016816  1.157660e-07  0.000005  ...   8.849734      7.668364  0.000037\n",
            "35  0.016792  1.182120e-07  0.000005  ...   8.841444      7.656460  0.000037\n",
            "36  0.023097  2.768133e-08  0.000006  ...  15.502414      9.245665  0.000058\n",
            "37  0.017213  5.051333e-08  0.000005  ...   9.672323      7.809434  0.000038\n",
            "38  0.016947  2.808000e-08  0.000005  ...   9.444686      7.827943  0.000037\n",
            "39  0.015402  7.474733e-08  0.000005  ...   7.609364      6.828073  0.000035\n",
            "\n",
            "[40 rows x 10 columns]\n",
            "        Peak          Mean     Mean²  ...   Kurtosis  Crest Factor  K-Factor\n",
            "0   0.013217  1.142653e-06  0.000005  ...   7.184091      6.129916  0.000028\n",
            "1   0.013210  1.141142e-06  0.000005  ...   7.181969      6.129115  0.000028\n",
            "2   0.013238  1.139139e-06  0.000005  ...   7.183263      6.138445  0.000029\n",
            "3   0.013209  1.167845e-06  0.000005  ...   7.162483      6.123967  0.000028\n",
            "4   0.014850  1.144993e-06  0.000005  ...   9.070730      6.728224  0.000033\n",
            "..       ...           ...       ...  ...        ...           ...       ...\n",
            "75  0.016792  1.182449e-07  0.000005  ...   8.841445      7.656461  0.000037\n",
            "76  0.023097  2.767235e-08  0.000006  ...  15.502414      9.245666  0.000058\n",
            "77  0.017213  5.050700e-08  0.000005  ...   9.672323      7.809434  0.000038\n",
            "78  0.016947  2.808903e-08  0.000005  ...   9.444686      7.827942  0.000037\n",
            "79  0.015402  7.471718e-08  0.000005  ...   7.609364      6.828075  0.000035\n",
            "\n",
            "[80 rows x 10 columns]\n"
          ]
        }
      ]
    },
    {
      "cell_type": "code",
      "metadata": {
        "id": "1oxByW_hTNsN"
      },
      "source": [
        "# criando outputs\n",
        "\n",
        "estado_estrutural_mixed = ['Sem dano', 'Sem dano', 'Sem dano', 'Sem dano', 'Danificado', 'Danificado', 'Danificado', 'Danificado',\n",
        "                           'Sem dano', 'Sem dano', 'Sem dano', 'Sem dano', 'Danificado', 'Danificado', 'Danificado', 'Danificado',\n",
        "                           'Sem dano', 'Sem dano', 'Sem dano', 'Sem dano', 'Danificado', 'Danificado', 'Danificado', 'Danificado',\n",
        "                           'Sem dano', 'Sem dano', 'Sem dano', 'Sem dano', 'Danificado', 'Danificado', 'Danificado', 'Danificado',\n",
        "                           'Sem dano', 'Sem dano', 'Sem dano', 'Sem dano', 'Danificado', 'Danificado', 'Danificado', 'Danificado',\n",
        "                           'Sem dano', 'Sem dano', 'Sem dano', 'Sem dano', 'Danificado', 'Danificado', 'Danificado', 'Danificado',\n",
        "                           'Sem dano', 'Sem dano', 'Sem dano', 'Sem dano', 'Danificado', 'Danificado', 'Danificado', 'Danificado',\n",
        "                           'Sem dano', 'Sem dano', 'Sem dano', 'Sem dano', 'Danificado', 'Danificado', 'Danificado', 'Danificado',\n",
        "                           'Sem dano', 'Sem dano', 'Sem dano', 'Sem dano', 'Danificado', 'Danificado', 'Danificado', 'Danificado',\n",
        "                           'Sem dano', 'Sem dano', 'Sem dano', 'Sem dano', 'Danificado', 'Danificado', 'Danificado', 'Danificado',\n",
        "                           'Sem dano', 'Sem dano', 'Sem dano', 'Sem dano', 'Danificado', 'Danificado', 'Danificado', 'Danificado',\n",
        "                           'Sem dano', 'Sem dano', 'Sem dano', 'Sem dano', 'Danificado', 'Danificado', 'Danificado', 'Danificado',\n",
        "                           'Sem dano', 'Sem dano', 'Sem dano', 'Sem dano', 'Danificado', 'Danificado', 'Danificado', 'Danificado',\n",
        "                           'Sem dano', 'Sem dano', 'Sem dano', 'Sem dano', 'Danificado', 'Danificado', 'Danificado', 'Danificado',\n",
        "                           'Sem dano', 'Sem dano', 'Sem dano', 'Sem dano', 'Danificado', 'Danificado', 'Danificado', 'Danificado']\n",
        "\n",
        "estado_estrutural_no_noise = ['Sem dano', 'Sem dano', 'Sem dano', 'Sem dano', 'Danificado', 'Danificado', 'Danificado', 'Danificado',\n",
        "                              'Sem dano', 'Sem dano', 'Sem dano', 'Sem dano', 'Danificado', 'Danificado', 'Danificado', 'Danificado',\n",
        "                              'Sem dano', 'Sem dano', 'Sem dano', 'Sem dano', 'Danificado', 'Danificado', 'Danificado', 'Danificado',\n",
        "                              'Sem dano', 'Sem dano', 'Sem dano', 'Sem dano', 'Danificado', 'Danificado', 'Danificado', 'Danificado',\n",
        "                              'Sem dano', 'Sem dano', 'Sem dano', 'Sem dano', 'Danificado', 'Danificado', 'Danificado', 'Danificado']\n",
        "\n",
        "estado_estrutural_just_noise = ['Sem dano', 'Sem dano', 'Sem dano', 'Sem dano', 'Danificado', 'Danificado', 'Danificado', 'Danificado',\n",
        "                                'Sem dano', 'Sem dano', 'Sem dano', 'Sem dano', 'Danificado', 'Danificado', 'Danificado', 'Danificado',\n",
        "                                'Sem dano', 'Sem dano', 'Sem dano', 'Sem dano', 'Danificado', 'Danificado', 'Danificado', 'Danificado',\n",
        "                                'Sem dano', 'Sem dano', 'Sem dano', 'Sem dano', 'Danificado', 'Danificado', 'Danificado', 'Danificado',\n",
        "                                'Sem dano', 'Sem dano', 'Sem dano', 'Sem dano', 'Danificado', 'Danificado', 'Danificado', 'Danificado',\n",
        "                                'Sem dano', 'Sem dano', 'Sem dano', 'Sem dano', 'Danificado', 'Danificado', 'Danificado', 'Danificado',\n",
        "                                'Sem dano', 'Sem dano', 'Sem dano', 'Sem dano', 'Danificado', 'Danificado', 'Danificado', 'Danificado',\n",
        "                                'Sem dano', 'Sem dano', 'Sem dano', 'Sem dano', 'Danificado', 'Danificado', 'Danificado', 'Danificado',\n",
        "                                'Sem dano', 'Sem dano', 'Sem dano', 'Sem dano', 'Danificado', 'Danificado', 'Danificado', 'Danificado',\n",
        "                                'Sem dano', 'Sem dano', 'Sem dano', 'Sem dano', 'Danificado', 'Danificado', 'Danificado', 'Danificado']\n",
        "\n"
      ],
      "execution_count": null,
      "outputs": []
    },
    {
      "cell_type": "code",
      "metadata": {
        "id": "qc0PAqcHX6dy",
        "colab": {
          "base_uri": "https://localhost:8080/"
        },
        "outputId": "166b479b-a7e0-4d4d-bba5-b3a13ca0ab36"
      },
      "source": [
        "# adicionando os outputs ao dataset\n",
        "\n",
        "dataset_mixed['Condição'] = estado_estrutural_mixed\n",
        "dataset_no_noise['Condição'] = estado_estrutural_no_noise\n",
        "dataset_just_noise['Condição'] = estado_estrutural_just_noise\n",
        "\n",
        "print(dataset_mixed)\n",
        "print(dataset_no_noise)\n",
        "print(dataset_just_noise)"
      ],
      "execution_count": null,
      "outputs": [
        {
          "output_type": "stream",
          "name": "stdout",
          "text": [
            "         Peak          Mean     Mean²  ...  Crest Factor  K-Factor    Condição\n",
            "0    0.013217  1.140910e-06  0.000005  ...      6.130080  0.000028    Sem dano\n",
            "1    0.013210  1.141557e-06  0.000005  ...      6.128940  0.000028    Sem dano\n",
            "2    0.013238  1.139077e-06  0.000005  ...      6.138380  0.000029    Sem dano\n",
            "3    0.013209  1.166701e-06  0.000005  ...      6.124055  0.000028    Sem dano\n",
            "4    0.014850  1.145254e-06  0.000005  ...      6.728206  0.000033  Danificado\n",
            "..        ...           ...       ...  ...           ...       ...         ...\n",
            "115  0.016792  1.182449e-07  0.000005  ...      7.656461  0.000037    Sem dano\n",
            "116  0.023097  2.767235e-08  0.000006  ...      9.245666  0.000058  Danificado\n",
            "117  0.017213  5.050700e-08  0.000005  ...      7.809434  0.000038  Danificado\n",
            "118  0.016947  2.808903e-08  0.000005  ...      7.827942  0.000037  Danificado\n",
            "119  0.015402  7.471718e-08  0.000005  ...      6.828075  0.000035  Danificado\n",
            "\n",
            "[120 rows x 11 columns]\n",
            "        Peak          Mean     Mean²  ...  Crest Factor  K-Factor    Condição\n",
            "0   0.013217  1.140910e-06  0.000005  ...      6.130080  0.000028    Sem dano\n",
            "1   0.013210  1.141557e-06  0.000005  ...      6.128940  0.000028    Sem dano\n",
            "2   0.013238  1.139077e-06  0.000005  ...      6.138380  0.000029    Sem dano\n",
            "3   0.013209  1.166701e-06  0.000005  ...      6.124055  0.000028    Sem dano\n",
            "4   0.014850  1.145254e-06  0.000005  ...      6.728206  0.000033  Danificado\n",
            "5   0.014542  1.364255e-06  0.000005  ...      6.598925  0.000032  Danificado\n",
            "6   0.014745  1.334253e-06  0.000005  ...      6.381176  0.000034  Danificado\n",
            "7   0.014802  1.114455e-06  0.000006  ...      6.167727  0.000036  Danificado\n",
            "8   0.011231 -1.152493e-07  0.000003  ...      6.271181  0.000020    Sem dano\n",
            "9   0.011220 -9.860400e-08  0.000003  ...      6.270573  0.000020    Sem dano\n",
            "10  0.011223 -1.190453e-07  0.000003  ...      6.266274  0.000020    Sem dano\n",
            "11  0.011230 -9.467000e-08  0.000003  ...      6.268091  0.000020    Sem dano\n",
            "12  0.011999 -4.716260e-07  0.000004  ...      6.330641  0.000023  Danificado\n",
            "13  0.012870 -2.854587e-07  0.000004  ...      6.737734  0.000025  Danificado\n",
            "14  0.013918 -2.894220e-07  0.000004  ...      7.022674  0.000028  Danificado\n",
            "15  0.015170 -1.540067e-08  0.000004  ...      7.378954  0.000031  Danificado\n",
            "16  0.011465  1.573167e-07  0.000003  ...      7.194154  0.000018    Sem dano\n",
            "17  0.011477  1.678273e-07  0.000003  ...      7.198584  0.000018    Sem dano\n",
            "18  0.011459  1.738840e-07  0.000003  ...      7.188495  0.000018    Sem dano\n",
            "19  0.011465  1.641940e-07  0.000003  ...      7.193481  0.000018    Sem dano\n",
            "20  0.012633  1.031440e-07  0.000003  ...      7.210732  0.000022  Danificado\n",
            "21  0.013420  2.427873e-07  0.000002  ...      8.498534  0.000021  Danificado\n",
            "22  0.014153  2.481527e-07  0.000002  ...      9.089733  0.000022  Danificado\n",
            "23  0.014195  2.699707e-07  0.000003  ...      8.819591  0.000023  Danificado\n",
            "24  0.013040  7.077133e-08  0.000003  ...      7.520982  0.000023    Sem dano\n",
            "25  0.013024  6.949667e-08  0.000003  ...      7.507772  0.000023    Sem dano\n",
            "26  0.013027  7.548333e-08  0.000003  ...      7.511714  0.000023    Sem dano\n",
            "27  0.013042  6.980800e-08  0.000003  ...      7.518194  0.000023    Sem dano\n",
            "28  0.016927  4.215667e-08  0.000004  ...      8.473157  0.000034  Danificado\n",
            "29  0.012899  5.507200e-08  0.000003  ...      7.271876  0.000023  Danificado\n",
            "30  0.012151  4.467133e-08  0.000003  ...      7.013503  0.000021  Danificado\n",
            "31  0.011336  6.609733e-08  0.000003  ...      6.403153  0.000020  Danificado\n",
            "32  0.016768  1.122160e-07  0.000005  ...      7.647279  0.000037    Sem dano\n",
            "33  0.016798  1.202573e-07  0.000005  ...      7.665709  0.000037    Sem dano\n",
            "34  0.016816  1.157660e-07  0.000005  ...      7.668364  0.000037    Sem dano\n",
            "35  0.016792  1.182120e-07  0.000005  ...      7.656460  0.000037    Sem dano\n",
            "36  0.023097  2.768133e-08  0.000006  ...      9.245665  0.000058  Danificado\n",
            "37  0.017213  5.051333e-08  0.000005  ...      7.809434  0.000038  Danificado\n",
            "38  0.016947  2.808000e-08  0.000005  ...      7.827943  0.000037  Danificado\n",
            "39  0.015402  7.474733e-08  0.000005  ...      6.828073  0.000035  Danificado\n",
            "\n",
            "[40 rows x 11 columns]\n",
            "        Peak          Mean     Mean²  ...  Crest Factor  K-Factor    Condição\n",
            "0   0.013217  1.142653e-06  0.000005  ...      6.129916  0.000028    Sem dano\n",
            "1   0.013210  1.141142e-06  0.000005  ...      6.129115  0.000028    Sem dano\n",
            "2   0.013238  1.139139e-06  0.000005  ...      6.138445  0.000029    Sem dano\n",
            "3   0.013209  1.167845e-06  0.000005  ...      6.123967  0.000028    Sem dano\n",
            "4   0.014850  1.144993e-06  0.000005  ...      6.728224  0.000033  Danificado\n",
            "..       ...           ...       ...  ...           ...       ...         ...\n",
            "75  0.016792  1.182449e-07  0.000005  ...      7.656461  0.000037    Sem dano\n",
            "76  0.023097  2.767235e-08  0.000006  ...      9.245666  0.000058  Danificado\n",
            "77  0.017213  5.050700e-08  0.000005  ...      7.809434  0.000038  Danificado\n",
            "78  0.016947  2.808903e-08  0.000005  ...      7.827942  0.000037  Danificado\n",
            "79  0.015402  7.471718e-08  0.000005  ...      6.828075  0.000035  Danificado\n",
            "\n",
            "[80 rows x 11 columns]\n"
          ]
        }
      ]
    },
    {
      "cell_type": "code",
      "metadata": {
        "id": "A-fmkByBtLEt"
      },
      "source": [
        "# Separando inputs e outputs\n",
        "\n",
        "feature_names = ['Peak', 'Mean', 'Mean²', 'RMS', 'Variance', 'Std Deviation', 'Skewness', 'Kurtosis', 'Crest Factor', 'K-Factor']\n",
        "X_mixed = dataset_mixed[feature_names]\n",
        "y_mixed = dataset_mixed['Condição']\n",
        "\n",
        "X_no_noise = dataset_no_noise[feature_names]\n",
        "y_no_noise = dataset_no_noise['Condição']\n",
        "\n",
        "X_just_noise = dataset_just_noise[feature_names]\n",
        "y_just_noise = dataset_just_noise['Condição']"
      ],
      "execution_count": null,
      "outputs": []
    },
    {
      "cell_type": "code",
      "metadata": {
        "id": "5TN-50-QCDkW",
        "colab": {
          "base_uri": "https://localhost:8080/",
          "height": 671
        },
        "outputId": "8fff36af-b229-4e92-e60d-95451040c768"
      },
      "source": [
        "# Correlação entre features\n",
        "\n",
        "corrMatrix = X_mixed.corr()\n",
        "plt.figure(figsize=(12, 10))\n",
        "sns.heatmap(corrMatrix, annot=True, vmin=-1, vmax=1, cmap='YlGnBu')\n"
      ],
      "execution_count": null,
      "outputs": [
        {
          "output_type": "execute_result",
          "data": {
            "text/plain": [
              "<matplotlib.axes._subplots.AxesSubplot at 0x7f738e6e6d10>"
            ]
          },
          "metadata": {},
          "execution_count": 12
        },
        {
          "output_type": "display_data",
          "data": {
            "image/png": "[encoded data removed]",
            "text/plain": [
              "<Figure size 864x720 with 2 Axes>"
            ]
          },
          "metadata": {
            "needs_background": "light"
          }
        }
      ]
    },
    {
      "cell_type": "code",
      "metadata": {
        "id": "LMGGYE809eqm"
      },
      "source": [
        "#sns.pairplot(dataset, hue='Condição', palette='Dark2')"
      ],
      "execution_count": null,
      "outputs": []
    },
    {
      "cell_type": "code",
      "metadata": {
        "id": "fqFgi2k-SEV2",
        "colab": {
          "base_uri": "https://localhost:8080/",
          "height": 336
        },
        "outputId": "423f9b99-5972-4fbc-c446-cf0011a7f0f6"
      },
      "source": [
        "# quantidade de outputs por classe\n",
        "\n",
        "sns.countplot(y_mixed)\n",
        "\n",
        "plt.show()"
      ],
      "execution_count": null,
      "outputs": [
        {
          "output_type": "stream",
          "name": "stderr",
          "text": [
            "/usr/local/lib/python3.7/dist-packages/seaborn/_decorators.py:43: FutureWarning: Pass the following variable as a keyword arg: x. From version 0.12, the only valid positional argument will be `data`, and passing other arguments without an explicit keyword will result in an error or misinterpretation.\n",
            "  FutureWarning\n"
          ]
        },
        {
          "output_type": "display_data",
          "data": {
            "image/png": "[encoded data removed]",
            "text/plain": [
              "<Figure size 432x288 with 1 Axes>"
            ]
          },
          "metadata": {
            "needs_background": "light"
          }
        }
      ]
    },
    {
      "cell_type": "code",
      "metadata": {
        "colab": {
          "base_uri": "https://localhost:8080/",
          "height": 336
        },
        "id": "PmJ2r2h9e_Sw",
        "outputId": "3c993d9b-6bb3-42bf-d9bf-3d4be127502a"
      },
      "source": [
        "sns.countplot(y_no_noise)\n",
        "\n",
        "plt.show()"
      ],
      "execution_count": null,
      "outputs": [
        {
          "output_type": "stream",
          "name": "stderr",
          "text": [
            "/usr/local/lib/python3.7/dist-packages/seaborn/_decorators.py:43: FutureWarning: Pass the following variable as a keyword arg: x. From version 0.12, the only valid positional argument will be `data`, and passing other arguments without an explicit keyword will result in an error or misinterpretation.\n",
            "  FutureWarning\n"
          ]
        },
        {
          "output_type": "display_data",
          "data": {
            "image/png": "[encoded data removed]",
            "text/plain": [
              "<Figure size 432x288 with 1 Axes>"
            ]
          },
          "metadata": {
            "needs_background": "light"
          }
        }
      ]
    },
    {
      "cell_type": "code",
      "metadata": {
        "colab": {
          "base_uri": "https://localhost:8080/",
          "height": 336
        },
        "id": "3C3qSFBpfCgc",
        "outputId": "328ed404-70be-4c03-9d64-c6133b2b7a52"
      },
      "source": [
        "sns.countplot(y_just_noise)\n",
        "\n",
        "plt.show()"
      ],
      "execution_count": null,
      "outputs": [
        {
          "output_type": "stream",
          "name": "stderr",
          "text": [
            "/usr/local/lib/python3.7/dist-packages/seaborn/_decorators.py:43: FutureWarning: Pass the following variable as a keyword arg: x. From version 0.12, the only valid positional argument will be `data`, and passing other arguments without an explicit keyword will result in an error or misinterpretation.\n",
            "  FutureWarning\n"
          ]
        },
        {
          "output_type": "display_data",
          "data": {
            "image/png": "[encoded data removed]",
            "text/plain": [
              "<Figure size 432x288 with 1 Axes>"
            ]
          },
          "metadata": {
            "needs_background": "light"
          }
        }
      ]
    },
    {
      "cell_type": "markdown",
      "metadata": {
        "id": "NRTLQrVhzahE"
      },
      "source": [
        "## **Seleção de features**"
      ]
    },
    {
      "cell_type": "markdown",
      "metadata": {
        "id": "C0H3TjNd0d-A"
      },
      "source": [
        "\n",
        "\n",
        "### Informação mútua\n",
        "\n"
      ]
    },
    {
      "cell_type": "code",
      "metadata": {
        "id": "C8pwomyc08ot"
      },
      "source": [
        "from sklearn.feature_selection import mutual_info_classif"
      ],
      "execution_count": null,
      "outputs": []
    },
    {
      "cell_type": "code",
      "metadata": {
        "id": "VZYY-EKh1C3d"
      },
      "source": [
        "MI = mutual_info_classif(X_mixed.values, y_mixed.values.reshape(y_mixed.shape[0]))"
      ],
      "execution_count": null,
      "outputs": []
    },
    {
      "cell_type": "code",
      "metadata": {
        "colab": {
          "base_uri": "https://localhost:8080/",
          "height": 363
        },
        "id": "K56BSrZI2II7",
        "outputId": "b72b55d3-531e-45a3-e7ff-83fdeccd527b"
      },
      "source": [
        "FeaturesMI = pd.DataFrame(data=list(zip(feature_names, MI)), columns=['Features', 'MI'])\n",
        "\n",
        "FeaturesMI = FeaturesMI.sort_values(by=['MI'], ascending=False).reset_index(drop=True)\n",
        "\n",
        "FeaturesMI['MI'] = FeaturesMI['MI']/FeaturesMI['MI'].max()\n",
        "\n",
        "FeaturesMI"
      ],
      "execution_count": null,
      "outputs": [
        {
          "output_type": "execute_result",
          "data": {
            "text/html": [
              "<div>\n",
              "<style scoped>\n",
              "    .dataframe tbody tr th:only-of-type {\n",
              "        vertical-align: middle;\n",
              "    }\n",
              "\n",
              "    .dataframe tbody tr th {\n",
              "        vertical-align: top;\n",
              "    }\n",
              "\n",
              "    .dataframe thead th {\n",
              "        text-align: right;\n",
              "    }\n",
              "</style>\n",
              "<table border=\"1\" class=\"dataframe\">\n",
              "  <thead>\n",
              "    <tr style=\"text-align: right;\">\n",
              "      <th></th>\n",
              "      <th>Features</th>\n",
              "      <th>MI</th>\n",
              "    </tr>\n",
              "  </thead>\n",
              "  <tbody>\n",
              "    <tr>\n",
              "      <th>0</th>\n",
              "      <td>Crest Factor</td>\n",
              "      <td>1.000000</td>\n",
              "    </tr>\n",
              "    <tr>\n",
              "      <th>1</th>\n",
              "      <td>Peak</td>\n",
              "      <td>0.974656</td>\n",
              "    </tr>\n",
              "    <tr>\n",
              "      <th>2</th>\n",
              "      <td>Kurtosis</td>\n",
              "      <td>0.901022</td>\n",
              "    </tr>\n",
              "    <tr>\n",
              "      <th>3</th>\n",
              "      <td>K-Factor</td>\n",
              "      <td>0.845144</td>\n",
              "    </tr>\n",
              "    <tr>\n",
              "      <th>4</th>\n",
              "      <td>Mean²</td>\n",
              "      <td>0.779097</td>\n",
              "    </tr>\n",
              "    <tr>\n",
              "      <th>5</th>\n",
              "      <td>RMS</td>\n",
              "      <td>0.779097</td>\n",
              "    </tr>\n",
              "    <tr>\n",
              "      <th>6</th>\n",
              "      <td>Variance</td>\n",
              "      <td>0.779097</td>\n",
              "    </tr>\n",
              "    <tr>\n",
              "      <th>7</th>\n",
              "      <td>Std Deviation</td>\n",
              "      <td>0.779097</td>\n",
              "    </tr>\n",
              "    <tr>\n",
              "      <th>8</th>\n",
              "      <td>Mean</td>\n",
              "      <td>0.760750</td>\n",
              "    </tr>\n",
              "    <tr>\n",
              "      <th>9</th>\n",
              "      <td>Skewness</td>\n",
              "      <td>0.063540</td>\n",
              "    </tr>\n",
              "  </tbody>\n",
              "</table>\n",
              "</div>"
            ],
            "text/plain": [
              "        Features        MI\n",
              "0   Crest Factor  1.000000\n",
              "1           Peak  0.974656\n",
              "2       Kurtosis  0.901022\n",
              "3       K-Factor  0.845144\n",
              "4          Mean²  0.779097\n",
              "5            RMS  0.779097\n",
              "6       Variance  0.779097\n",
              "7  Std Deviation  0.779097\n",
              "8           Mean  0.760750\n",
              "9       Skewness  0.063540"
            ]
          },
          "metadata": {},
          "execution_count": 19
        }
      ]
    },
    {
      "cell_type": "markdown",
      "metadata": {
        "id": "IG0VQoS02mpm"
      },
      "source": [
        "### Random Forest"
      ]
    },
    {
      "cell_type": "code",
      "metadata": {
        "id": "zL-LGG6J2tof"
      },
      "source": [
        "from sklearn.ensemble import RandomForestClassifier"
      ],
      "execution_count": null,
      "outputs": []
    },
    {
      "cell_type": "code",
      "metadata": {
        "id": "AiaoN5d22zgS"
      },
      "source": [
        "RANDOM_STATE = 31\n",
        "\n",
        "RF = RandomForestClassifier(random_state=RANDOM_STATE)\n",
        "\n",
        "RF.fit(X_mixed.values, y_mixed.values.reshape(y_mixed.shape[0]))\n",
        "\n",
        "importances = RF.feature_importances_"
      ],
      "execution_count": null,
      "outputs": []
    },
    {
      "cell_type": "code",
      "metadata": {
        "colab": {
          "base_uri": "https://localhost:8080/",
          "height": 363
        },
        "id": "KmyjYyTm23gp",
        "outputId": "31d72e60-4872-41e5-bbe8-721eb089359c"
      },
      "source": [
        "FeaturesRF = pd.DataFrame(data=list(zip(feature_names, importances)), columns=['Features', 'Scores'])\n",
        "\n",
        "FeaturesRF = FeaturesRF.sort_values(by=['Scores'], ascending=False).reset_index(drop=True)\n",
        "\n",
        "FeaturesRF['Scores'] = FeaturesRF['Scores']/FeaturesRF['Scores'].max()\n",
        "\n",
        "FeaturesRF"
      ],
      "execution_count": null,
      "outputs": [
        {
          "output_type": "execute_result",
          "data": {
            "text/html": [
              "<div>\n",
              "<style scoped>\n",
              "    .dataframe tbody tr th:only-of-type {\n",
              "        vertical-align: middle;\n",
              "    }\n",
              "\n",
              "    .dataframe tbody tr th {\n",
              "        vertical-align: top;\n",
              "    }\n",
              "\n",
              "    .dataframe thead th {\n",
              "        text-align: right;\n",
              "    }\n",
              "</style>\n",
              "<table border=\"1\" class=\"dataframe\">\n",
              "  <thead>\n",
              "    <tr style=\"text-align: right;\">\n",
              "      <th></th>\n",
              "      <th>Features</th>\n",
              "      <th>Scores</th>\n",
              "    </tr>\n",
              "  </thead>\n",
              "  <tbody>\n",
              "    <tr>\n",
              "      <th>0</th>\n",
              "      <td>Kurtosis</td>\n",
              "      <td>1.000000</td>\n",
              "    </tr>\n",
              "    <tr>\n",
              "      <th>1</th>\n",
              "      <td>Crest Factor</td>\n",
              "      <td>0.641339</td>\n",
              "    </tr>\n",
              "    <tr>\n",
              "      <th>2</th>\n",
              "      <td>Peak</td>\n",
              "      <td>0.538118</td>\n",
              "    </tr>\n",
              "    <tr>\n",
              "      <th>3</th>\n",
              "      <td>RMS</td>\n",
              "      <td>0.527730</td>\n",
              "    </tr>\n",
              "    <tr>\n",
              "      <th>4</th>\n",
              "      <td>Std Deviation</td>\n",
              "      <td>0.391287</td>\n",
              "    </tr>\n",
              "    <tr>\n",
              "      <th>5</th>\n",
              "      <td>K-Factor</td>\n",
              "      <td>0.359386</td>\n",
              "    </tr>\n",
              "    <tr>\n",
              "      <th>6</th>\n",
              "      <td>Skewness</td>\n",
              "      <td>0.148136</td>\n",
              "    </tr>\n",
              "    <tr>\n",
              "      <th>7</th>\n",
              "      <td>Variance</td>\n",
              "      <td>0.137625</td>\n",
              "    </tr>\n",
              "    <tr>\n",
              "      <th>8</th>\n",
              "      <td>Mean²</td>\n",
              "      <td>0.116629</td>\n",
              "    </tr>\n",
              "    <tr>\n",
              "      <th>9</th>\n",
              "      <td>Mean</td>\n",
              "      <td>0.082401</td>\n",
              "    </tr>\n",
              "  </tbody>\n",
              "</table>\n",
              "</div>"
            ],
            "text/plain": [
              "        Features    Scores\n",
              "0       Kurtosis  1.000000\n",
              "1   Crest Factor  0.641339\n",
              "2           Peak  0.538118\n",
              "3            RMS  0.527730\n",
              "4  Std Deviation  0.391287\n",
              "5       K-Factor  0.359386\n",
              "6       Skewness  0.148136\n",
              "7       Variance  0.137625\n",
              "8          Mean²  0.116629\n",
              "9           Mean  0.082401"
            ]
          },
          "metadata": {},
          "execution_count": 22
        }
      ]
    },
    {
      "cell_type": "markdown",
      "metadata": {
        "id": "egLKZGr53H_x"
      },
      "source": [
        "### K-best"
      ]
    },
    {
      "cell_type": "code",
      "metadata": {
        "id": "_3sXObnJ3BKA"
      },
      "source": [
        "from sklearn.feature_selection import SelectKBest, f_classif"
      ],
      "execution_count": null,
      "outputs": []
    },
    {
      "cell_type": "code",
      "metadata": {
        "colab": {
          "base_uri": "https://localhost:8080/"
        },
        "id": "xiPFIZqj3Kj_",
        "outputId": "e40ca9e5-08b5-4632-ae45-1f9731e31e27"
      },
      "source": [
        "seletorFeatures = SelectKBest(f_classif, k=X_mixed.shape[1])\n",
        "\n",
        "seletorFeatures.fit(X_mixed.values, y_mixed.values.reshape(y_mixed.shape[0]))"
      ],
      "execution_count": null,
      "outputs": [
        {
          "output_type": "execute_result",
          "data": {
            "text/plain": [
              "SelectKBest(k=10, score_func=<function f_classif at 0x7f7383f915f0>)"
            ]
          },
          "metadata": {},
          "execution_count": 24
        }
      ]
    },
    {
      "cell_type": "code",
      "metadata": {
        "colab": {
          "base_uri": "https://localhost:8080/",
          "height": 363
        },
        "id": "UQKu9u3Q3P7l",
        "outputId": "9d20bfde-1424-4ae0-919d-1803b6f434a9"
      },
      "source": [
        "FeaturesKBEST = pd.DataFrame(data=list(zip(feature_names, seletorFeatures.scores_)), columns=['Features', 'Scores'])\n",
        "\n",
        "FeaturesKBEST = FeaturesKBEST.sort_values(by=['Scores'], ascending=False).reset_index(drop=True)\n",
        "\n",
        "FeaturesKBEST['Scores'] = FeaturesKBEST['Scores']/FeaturesKBEST['Scores'].max()\n",
        "\n",
        "FeaturesKBEST"
      ],
      "execution_count": null,
      "outputs": [
        {
          "output_type": "execute_result",
          "data": {
            "text/html": [
              "<div>\n",
              "<style scoped>\n",
              "    .dataframe tbody tr th:only-of-type {\n",
              "        vertical-align: middle;\n",
              "    }\n",
              "\n",
              "    .dataframe tbody tr th {\n",
              "        vertical-align: top;\n",
              "    }\n",
              "\n",
              "    .dataframe thead th {\n",
              "        text-align: right;\n",
              "    }\n",
              "</style>\n",
              "<table border=\"1\" class=\"dataframe\">\n",
              "  <thead>\n",
              "    <tr style=\"text-align: right;\">\n",
              "      <th></th>\n",
              "      <th>Features</th>\n",
              "      <th>Scores</th>\n",
              "    </tr>\n",
              "  </thead>\n",
              "  <tbody>\n",
              "    <tr>\n",
              "      <th>0</th>\n",
              "      <td>Kurtosis</td>\n",
              "      <td>1.000000</td>\n",
              "    </tr>\n",
              "    <tr>\n",
              "      <th>1</th>\n",
              "      <td>Peak</td>\n",
              "      <td>0.606956</td>\n",
              "    </tr>\n",
              "    <tr>\n",
              "      <th>2</th>\n",
              "      <td>K-Factor</td>\n",
              "      <td>0.433371</td>\n",
              "    </tr>\n",
              "    <tr>\n",
              "      <th>3</th>\n",
              "      <td>Crest Factor</td>\n",
              "      <td>0.402432</td>\n",
              "    </tr>\n",
              "    <tr>\n",
              "      <th>4</th>\n",
              "      <td>Variance</td>\n",
              "      <td>0.217903</td>\n",
              "    </tr>\n",
              "    <tr>\n",
              "      <th>5</th>\n",
              "      <td>Mean²</td>\n",
              "      <td>0.217903</td>\n",
              "    </tr>\n",
              "    <tr>\n",
              "      <th>6</th>\n",
              "      <td>Std Deviation</td>\n",
              "      <td>0.203090</td>\n",
              "    </tr>\n",
              "    <tr>\n",
              "      <th>7</th>\n",
              "      <td>RMS</td>\n",
              "      <td>0.203090</td>\n",
              "    </tr>\n",
              "    <tr>\n",
              "      <th>8</th>\n",
              "      <td>Skewness</td>\n",
              "      <td>0.048227</td>\n",
              "    </tr>\n",
              "    <tr>\n",
              "      <th>9</th>\n",
              "      <td>Mean</td>\n",
              "      <td>0.002665</td>\n",
              "    </tr>\n",
              "  </tbody>\n",
              "</table>\n",
              "</div>"
            ],
            "text/plain": [
              "        Features    Scores\n",
              "0       Kurtosis  1.000000\n",
              "1           Peak  0.606956\n",
              "2       K-Factor  0.433371\n",
              "3   Crest Factor  0.402432\n",
              "4       Variance  0.217903\n",
              "5          Mean²  0.217903\n",
              "6  Std Deviation  0.203090\n",
              "7            RMS  0.203090\n",
              "8       Skewness  0.048227\n",
              "9           Mean  0.002665"
            ]
          },
          "metadata": {},
          "execution_count": 25
        }
      ]
    },
    {
      "cell_type": "code",
      "metadata": {
        "id": "z1RKFBz5fGnI"
      },
      "source": [
        "# Dividindo dataset para treinamento e teste\n",
        "\n",
        "X_train_mixed, X_test_mixed, y_train_mixed, y_test_mixed = train_test_split(X_mixed, y_mixed, test_size=0.33, random_state=0)\n",
        "\n",
        "X_train_no_noise, X_test_no_noise, y_train_no_noise, y_test_no_noise = train_test_split(X_no_noise, y_no_noise, test_size=0.33, random_state=0)\n",
        "\n",
        "X_train_just_noise, X_test_just_noise, y_train_just_noise, y_test_just_noise = train_test_split(X_just_noise, y_just_noise, test_size=0.33, random_state=0)"
      ],
      "execution_count": null,
      "outputs": []
    },
    {
      "cell_type": "code",
      "metadata": {
        "colab": {
          "base_uri": "https://localhost:8080/"
        },
        "id": "mVeeDwSn0ide",
        "outputId": "4782290b-cd60-4ce2-cfd9-438b138f0119"
      },
      "source": [
        "# Logistic Regression\n",
        "\n",
        "from sklearn.linear_model import LogisticRegression\n",
        "from sklearn.metrics import confusion_matrix, classification_report\n",
        "\n",
        "model_LR = LogisticRegression(solver='liblinear', random_state=0).fit(X_train_mixed, y_train_mixed)\n",
        "\n",
        "#print('Acurácia:', model_LR.score(X_mixed, y_mixed))\n",
        "print()\n",
        "print('Confusion matrix:', confusion_matrix(y_test_mixed, model_LR.predict(X_test_mixed)))"
      ],
      "execution_count": null,
      "outputs": [
        {
          "output_type": "stream",
          "name": "stdout",
          "text": [
            "\n",
            "Confusion matrix: [[10  9]\n",
            " [ 8 13]]\n"
          ]
        }
      ]
    },
    {
      "cell_type": "code",
      "metadata": {
        "id": "f6D7QaqyeuSC",
        "colab": {
          "base_uri": "https://localhost:8080/"
        },
        "outputId": "a9e5c052-6aad-4ff1-ee87-affffdb335c2"
      },
      "source": [
        "# aplicando SVM (sem otimização de parâmetros) | dataset misto\n",
        "\n",
        "from sklearn import svm\n",
        "\n",
        "clf = svm.SVC(kernel='rbf')\n",
        "clf.fit(X_train_mixed, y_train_mixed)\n",
        "\n",
        "y_pred = clf.predict(X_test_mixed)\n",
        "\n",
        "from sklearn import metrics\n",
        "\n",
        "print(\"Acurácia:\",metrics.accuracy_score(y_test_mixed, y_pred))\n",
        "print()\n",
        "print(metrics.classification_report(y_test_mixed, y_pred))\n",
        "print()\n",
        "# Usar os dados de teste para determinar a matriz de confusão\n",
        "# print('Confusion matrix:', confusion_matrix(y_mixed, clf.predict(X_mixed)))\n",
        "\n",
        "# Alteração\n",
        "print('Confusion matrix:', confusion_matrix(y_test_mixed, y_pred))"
      ],
      "execution_count": null,
      "outputs": [
        {
          "output_type": "stream",
          "name": "stdout",
          "text": [
            "Acurácia: 0.7\n",
            "\n",
            "              precision    recall  f1-score   support\n",
            "\n",
            "  Danificado       1.00      0.37      0.54        19\n",
            "    Sem dano       0.64      1.00      0.78        21\n",
            "\n",
            "    accuracy                           0.70        40\n",
            "   macro avg       0.82      0.68      0.66        40\n",
            "weighted avg       0.81      0.70      0.66        40\n",
            "\n",
            "\n",
            "Confusion matrix: [[ 7 12]\n",
            " [ 0 21]]\n"
          ]
        }
      ]
    },
    {
      "cell_type": "code",
      "metadata": {
        "colab": {
          "base_uri": "https://localhost:8080/"
        },
        "id": "OkLC4GcKW0jR",
        "outputId": "0627c629-f513-4b46-9a52-e666ff55e8fd"
      },
      "source": [
        "clfSCORES = svm.SVC(C=31.6228, break_ties=False, cache_size=200, class_weight=None, coef0=0.0, \n",
        "              decision_function_shape='ovr', degree=3, gamma=6.0, kernel='rbf', max_iter=-1, \n",
        "              probability=False, random_state=42, shrinking=True, tol=0.001, verbose=False)\n",
        "\n",
        "cross_val_score(clfSCORES, X_just_noise, y_just_noise, cv = 7)"
      ],
      "execution_count": null,
      "outputs": [
        {
          "output_type": "execute_result",
          "data": {
            "text/plain": [
              "array([1., 1., 1., 1., 1., 1., 1.])"
            ]
          },
          "metadata": {},
          "execution_count": 43
        }
      ]
    },
    {
      "cell_type": "code",
      "metadata": {
        "colab": {
          "base_uri": "https://localhost:8080/"
        },
        "id": "ySBE5vzkjx0p",
        "outputId": "b81b1aed-decf-4893-a894-6f86680269a3"
      },
      "source": [
        "# aplicando SVM (sem otimização de parâmetros) | dataset Só Ruído\n",
        "\n",
        "from sklearn import svm\n",
        "from sklearn.model_selection import cross_val_score\n",
        "\n",
        "clf = svm.SVC(C=31.6228, break_ties=False, cache_size=200, class_weight=None, coef0=0.0, \n",
        "              decision_function_shape='ovr', degree=3, gamma=6.0, kernel='rbf', max_iter=-1, \n",
        "              probability=False, random_state=42, shrinking=True, tol=0.001, verbose=False)\n",
        "\n",
        "clf.fit(X_train_just_noise, y_train_just_noise) # treino\n",
        "\n",
        "y_pred = clf.predict(X_test_just_noise)\n",
        "\n",
        "from sklearn import metrics\n",
        "\n",
        "print(\"Acurácia:\",metrics.accuracy_score(y_test_just_noise, y_pred))\n",
        "print()\n",
        "print(metrics.classification_report(y_test_just_noise,y_pred))\n",
        "print()\n",
        "# Usar os dados de teste para avaliar a matriz de confusão\n",
        "print('Confusion matrix:', confusion_matrix(y_test_just_noise, y_pred))\n",
        "print()\n",
        "# scores = cross_val_score(clf, X_no_noise, y_no_noise, cv=5)\n",
        "scores = cross_val_score(clf, X_just_noise, y_just_noise, cv = 7)\n",
        "print(scores)\n",
        "print()\n",
        "print(\"%0.2f accuracy with a standard deviation of %0.2f\" % (scores.mean(), scores.std()))"
      ],
      "execution_count": null,
      "outputs": [
        {
          "output_type": "stream",
          "name": "stdout",
          "text": [
            "Acurácia: 1.0\n",
            "\n",
            "              precision    recall  f1-score   support\n",
            "\n",
            "  Danificado       1.00      1.00      1.00        14\n",
            "    Sem dano       1.00      1.00      1.00        13\n",
            "\n",
            "    accuracy                           1.00        27\n",
            "   macro avg       1.00      1.00      1.00        27\n",
            "weighted avg       1.00      1.00      1.00        27\n",
            "\n",
            "\n",
            "Confusion matrix: [[14  0]\n",
            " [ 0 13]]\n",
            "\n",
            "[1. 1. 1. 1. 1. 1. 1.]\n",
            "\n",
            "1.00 accuracy with a standard deviation of 0.00\n"
          ]
        }
      ]
    },
    {
      "cell_type": "code",
      "metadata": {
        "colab": {
          "base_uri": "https://localhost:8080/"
        },
        "id": "DbEMK_AT_KqV",
        "outputId": "03b3faa9-9acd-42e5-97a7-2357627a0ac7"
      },
      "source": [
        "from sklearn.model_selection import GridSearchCV\n",
        "\n",
        "param_grid = {'C': [0.0316, 0.3162, 0.5000, 1.0, 1.5, 2.0, 2.5, 3.0, 3.5, 4.0, 4.5, 5.0, 5.5, 6.0, 6.5, 7.0, 7.5, 8.0, 8.5, 9.0, 9.5, 10.0, 31.6228, 100.0000, 316.2278], \n",
        "              'gamma': [0.0316, 0.0398, 0.0501, 0.0631, 0.0794, 0.3162, 0.3981, 0.5000, 0.5012, 0.6310, 0.7943, 1.0, 1.5, 2.0, 2.5, 3.0, 3.5, 4.0, 4.5, 5.0, 5.5, 6.0, 6.5, 7.0, 7.5, 8.0, 8.5, 9.0, 9.5, 10],\n",
        "              'kernel': ['linear', 'poly', 'sigmoid', 'rbf']}\n",
        "\n",
        "grid = GridSearchCV(svm.SVC(), param_grid, cv=5, refit=True, verbose=5)\n",
        "grid.fit(X_train_mixed,y_train_mixed)\n",
        "\n",
        "print(grid.best_estimator_)"
      ],
      "execution_count": null,
      "outputs": [
        {
          "output_type": "stream",
          "name": "stdout",
          "text": [
            "Fitting 5 folds for each of 3000 candidates, totalling 15000 fits\n",
            "[CV] C=0.0316, gamma=0.0316, kernel=linear ...........................\n",
            "[CV]  C=0.0316, gamma=0.0316, kernel=linear, score=0.750, total=   0.0s\n",
            "[CV] C=0.0316, gamma=0.0316, kernel=linear ...........................\n",
            "[CV]  C=0.0316, gamma=0.0316, kernel=linear, score=0.750, total=   0.0s\n",
            "[CV] C=0.0316, gamma=0.0316, kernel=linear ...........................\n",
            "[CV]  C=0.0316, gamma=0.0316, kernel=linear, score=0.688, total=   0.0s\n",
            "[CV] C=0.0316, gamma=0.0316, kernel=linear ...........................\n",
            "[CV]  C=0.0316, gamma=0.0316, kernel=linear, score=0.812, total=   0.0s\n",
            "[CV] C=0.0316, gamma=0.0316, kernel=linear ...........................\n",
            "[CV]  C=0.0316, gamma=0.0316, kernel=linear, score=0.562, total=   0.0s\n",
            "[CV] C=0.0316, gamma=0.0316, kernel=poly .............................\n",
            "[CV] . C=0.0316, gamma=0.0316, kernel=poly, score=0.750, total=   0.0s\n",
            "[CV] C=0.0316, gamma=0.0316, kernel=poly .............................\n",
            "[CV] . C=0.0316, gamma=0.0316, kernel=poly, score=0.750, total=   0.0s\n",
            "[CV] C=0.0316, gamma=0.0316, kernel=poly .............................\n",
            "[CV] . C=0.0316, gamma=0.0316, kernel=poly, score=0.688, total=   0.0s\n",
            "[CV] C=0.0316, gamma=0.0316, kernel=poly .............................\n",
            "[CV] . C=0.0316, gamma=0.0316, kernel=poly, score=0.812, total=   0.0s\n",
            "[CV] C=0.0316, gamma=0.0316, kernel=poly .............................\n",
            "[CV] . C=0.0316, gamma=0.0316, kernel=poly, score=0.562, total=   0.0s\n",
            "[CV] C=0.0316, gamma=0.0316, kernel=sigmoid ..........................\n",
            "[CV]  C=0.0316, gamma=0.0316, kernel=sigmoid, score=0.500, total=   0.0s\n",
            "[CV] C=0.0316, gamma=0.0316, kernel=sigmoid ..........................\n",
            "[CV]  C=0.0316, gamma=0.0316, kernel=sigmoid, score=0.500, total=   0.0s\n",
            "[CV] C=0.0316, gamma=0.0316, kernel=sigmoid ..........................\n",
            "[CV]  C=0.0316, gamma=0.0316, kernel=sigmoid, score=0.500, total=   0.0s\n",
            "[CV] C=0.0316, gamma=0.0316, kernel=sigmoid ..........................\n",
            "[CV]  C=0.0316, gamma=0.0316, kernel=sigmoid, score=0.500, total=   0.0s\n",
            "[CV] C=0.0316, gamma=0.0316, kernel=sigmoid ..........................\n",
            "[CV]  C=0.0316, gamma=0.0316, kernel=sigmoid, score=0.562, total=   0.0s\n",
            "[CV] C=0.0316, gamma=0.0316, kernel=rbf ..............................\n",
            "[CV] .. C=0.0316, gamma=0.0316, kernel=rbf, score=0.500, total=   0.0s\n",
            "[CV] C=0.0316, gamma=0.0316, kernel=rbf ..............................\n",
            "[CV] .. C=0.0316, gamma=0.0316, kernel=rbf, score=0.500, total=   0.0s\n",
            "[CV] C=0.0316, gamma=0.0316, kernel=rbf ..............................\n",
            "[CV] .. C=0.0316, gamma=0.0316, kernel=rbf, score=0.500, total=   0.0s\n",
            "[CV] C=0.0316, gamma=0.0316, kernel=rbf ..............................\n",
            "[CV] .. C=0.0316, gamma=0.0316, kernel=rbf, score=0.500, total=   0.0s\n",
            "[CV] C=0.0316, gamma=0.0316, kernel=rbf ..............................\n",
            "[CV] .. C=0.0316, gamma=0.0316, kernel=rbf, score=0.562, total=   0.0s\n",
            "[CV] C=0.0316, gamma=0.0398, kernel=linear ...........................\n",
            "[CV]  C=0.0316, gamma=0.0398, kernel=linear, score=0.750, total=   0.0s\n",
            "[CV] C=0.0316, gamma=0.0398, kernel=linear ...........................\n",
            "[CV]  C=0.0316, gamma=0.0398, kernel=linear, score=0.750, total=   0.0s\n",
            "[CV] C=0.0316, gamma=0.0398, kernel=linear ...........................\n",
            "[CV]  C=0.0316, gamma=0.0398, kernel=linear, score=0.688, total=   0.0s\n",
            "[CV] C=0.0316, gamma=0.0398, kernel=linear ...........................\n",
            "[CV]  C=0.0316, gamma=0.0398, kernel=linear, score=0.812, total=   0.0s\n",
            "[CV] C=0.0316, gamma=0.0398, kernel=linear ...........................\n",
            "[CV]  C=0.0316, gamma=0.0398, kernel=linear, score=0.562, total=   0.0s\n",
            "[CV] C=0.0316, gamma=0.0398, kernel=poly .............................\n",
            "[CV] . C=0.0316, gamma=0.0398, kernel=poly, score=0.750, total=   0.0s\n",
            "[CV] C=0.0316, gamma=0.0398, kernel=poly .............................\n",
            "[CV] . C=0.0316, gamma=0.0398, kernel=poly, score=0.750, total=   0.0s\n",
            "[CV] C=0.0316, gamma=0.0398, kernel=poly .............................\n",
            "[CV] . C=0.0316, gamma=0.0398, kernel=poly, score=0.688, total=   0.0s\n",
            "[CV] C=0.0316, gamma=0.0398, kernel=poly .............................\n",
            "[CV] . C=0.0316, gamma=0.0398, kernel=poly, score=0.812, total=   0.0s\n",
            "[CV] C=0.0316, gamma=0.0398, kernel=poly .............................\n",
            "[CV] . C=0.0316, gamma=0.0398, kernel=poly, score=0.562, total=   0.0s\n",
            "[CV] C=0.0316, gamma=0.0398, kernel=sigmoid ..........................\n",
            "[CV]  C=0.0316, gamma=0.0398, kernel=sigmoid, score=0.500, total=   0.0s\n",
            "[CV] C=0.0316, gamma=0.0398, kernel=sigmoid ..........................\n",
            "[CV]  C=0.0316, gamma=0.0398, kernel=sigmoid, score=0.500, total=   0.0s\n",
            "[CV] C=0.0316, gamma=0.0398, kernel=sigmoid ..........................\n",
            "[CV]  C=0.0316, gamma=0.0398, kernel=sigmoid, score=0.500, total=   0.0s\n",
            "[CV] C=0.0316, gamma=0.0398, kernel=sigmoid ..........................\n",
            "[CV]  C=0.0316, gamma=0.0398, kernel=sigmoid, score=0.500, total=   0.0s\n",
            "[CV] C=0.0316, gamma=0.0398, kernel=sigmoid ..........................\n",
            "[CV]  C=0.0316, gamma=0.0398, kernel=sigmoid, score=0.562, total=   0.0s\n",
            "[CV] C=0.0316, gamma=0.0398, kernel=rbf ..............................\n",
            "[CV] .. C=0.0316, gamma=0.0398, kernel=rbf, score=0.500, total=   0.0s\n",
            "[CV] C=0.0316, gamma=0.0398, kernel=rbf ..............................\n",
            "[CV] .. C=0.0316, gamma=0.0398, kernel=rbf, score=0.500, total=   0.0s\n",
            "[CV] C=0.0316, gamma=0.0398, kernel=rbf ..............................\n",
            "[CV] .. C=0.0316, gamma=0.0398, kernel=rbf, score=0.500, total=   0.0s\n",
            "[CV] C=0.0316, gamma=0.0398, kernel=rbf ..............................\n",
            "[CV] .. C=0.0316, gamma=0.0398, kernel=rbf, score=0.500, total=   0.0s\n",
            "[CV] C=0.0316, gamma=0.0398, kernel=rbf ..............................\n",
            "[CV] .. C=0.0316, gamma=0.0398, kernel=rbf, score=0.562, total=   0.0s\n",
            "[CV] C=0.0316, gamma=0.0501, kernel=linear ...........................\n",
            "[CV]  C=0.0316, gamma=0.0501, kernel=linear, score=0.750, total=   0.0s\n",
            "[CV] C=0.0316, gamma=0.0501, kernel=linear ...........................\n",
            "[CV]  C=0.0316, gamma=0.0501, kernel=linear, score=0.750, total=   0.0s\n",
            "[CV] C=0.0316, gamma=0.0501, kernel=linear ...........................\n",
            "[CV]  C=0.0316, gamma=0.0501, kernel=linear, score=0.688, total=   0.0s\n",
            "[CV] C=0.0316, gamma=0.0501, kernel=linear ...........................\n",
            "[CV]  C=0.0316, gamma=0.0501, kernel=linear, score=0.812, total=   0.0s\n",
            "[CV] C=0.0316, gamma=0.0501, kernel=linear ...........................\n",
            "[CV]  C=0.0316, gamma=0.0501, kernel=linear, score=0.562, total=   0.0s\n",
            "[CV] C=0.0316, gamma=0.0501, kernel=poly .............................\n",
            "[CV] . C=0.0316, gamma=0.0501, kernel=poly, score=0.750, total=   0.0s\n",
            "[CV] C=0.0316, gamma=0.0501, kernel=poly .............................\n"
          ]
        },
        {
          "output_type": "stream",
          "name": "stderr",
          "text": [
            "[Parallel(n_jobs=1)]: Using backend SequentialBackend with 1 concurrent workers.\n",
            "[Parallel(n_jobs=1)]: Done   1 out of   1 | elapsed:    0.0s remaining:    0.0s\n",
            "[Parallel(n_jobs=1)]: Done   2 out of   2 | elapsed:    0.0s remaining:    0.0s\n",
            "[Parallel(n_jobs=1)]: Done   3 out of   3 | elapsed:    0.0s remaining:    0.0s\n",
            "[Parallel(n_jobs=1)]: Done   4 out of   4 | elapsed:    0.0s remaining:    0.0s\n"
          ]
        },
        {
          "output_type": "stream",
          "name": "stdout",
          "text": [
            "[CV] . C=0.0316, gamma=0.0501, kernel=poly, score=0.750, total=   0.0s\n",
            "[CV] C=0.0316, gamma=0.0501, kernel=poly .............................\n",
            "[CV] . C=0.0316, gamma=0.0501, kernel=poly, score=0.688, total=   0.0s\n",
            "[CV] C=0.0316, gamma=0.0501, kernel=poly .............................\n",
            "[CV] . C=0.0316, gamma=0.0501, kernel=poly, score=0.812, total=   0.0s\n",
            "[CV] C=0.0316, gamma=0.0501, kernel=poly .............................\n",
            "[CV] . C=0.0316, gamma=0.0501, kernel=poly, score=0.562, total=   0.0s\n",
            "[CV] C=0.0316, gamma=0.0501, kernel=sigmoid ..........................\n",
            "[CV]  C=0.0316, gamma=0.0501, kernel=sigmoid, score=0.500, total=   0.0s\n",
            "[CV] C=0.0316, gamma=0.0501, kernel=sigmoid ..........................\n",
            "[CV]  C=0.0316, gamma=0.0501, kernel=sigmoid, score=0.500, total=   0.0s\n",
            "[CV] C=0.0316, gamma=0.0501, kernel=sigmoid ..........................\n",
            "[CV]  C=0.0316, gamma=0.0501, kernel=sigmoid, score=0.500, total=   0.0s\n",
            "[CV] C=0.0316, gamma=0.0501, kernel=sigmoid ..........................\n",
            "[CV]  C=0.0316, gamma=0.0501, kernel=sigmoid, score=0.500, total=   0.0s\n",
            "[CV] C=0.0316, gamma=0.0501, kernel=sigmoid ..........................\n",
            "[CV]  C=0.0316, gamma=0.0501, kernel=sigmoid, score=0.562, total=   0.0s\n",
            "[CV] C=0.0316, gamma=0.0501, kernel=rbf ..............................\n",
            "[CV] .. C=0.0316, gamma=0.0501, kernel=rbf, score=0.500, total=   0.0s\n",
            "[CV] C=0.0316, gamma=0.0501, kernel=rbf ..............................\n",
            "[CV] .. C=0.0316, gamma=0.0501, kernel=rbf, score=0.500, total=   0.0s\n",
            "[CV] C=0.0316, gamma=0.0501, kernel=rbf ..............................\n",
            "[CV] .. C=0.0316, gamma=0.0501, kernel=rbf, score=0.500, total=   0.0s\n",
            "[CV] C=0.0316, gamma=0.0501, kernel=rbf ..............................\n",
            "[CV] .. C=0.0316, gamma=0.0501, kernel=rbf, score=0.500, total=   0.0s\n",
            "[CV] C=0.0316, gamma=0.0501, kernel=rbf ..............................\n",
            "[CV] .. C=0.0316, gamma=0.0501, kernel=rbf, score=0.562, total=   0.0s\n",
            "[CV] C=0.0316, gamma=0.0631, kernel=linear ...........................\n",
            "[CV]  C=0.0316, gamma=0.0631, kernel=linear, score=0.750, total=   0.0s\n",
            "[CV] C=0.0316, gamma=0.0631, kernel=linear ...........................\n",
            "[CV]  C=0.0316, gamma=0.0631, kernel=linear, score=0.750, total=   0.0s\n",
            "[CV] C=0.0316, gamma=0.0631, kernel=linear ...........................\n",
            "[CV]  C=0.0316, gamma=0.0631, kernel=linear, score=0.688, total=   0.0s\n",
            "[CV] C=0.0316, gamma=0.0631, kernel=linear ...........................\n",
            "[CV]  C=0.0316, gamma=0.0631, kernel=linear, score=0.812, total=   0.0s\n",
            "[CV] C=0.0316, gamma=0.0631, kernel=linear ...........................\n",
            "[CV]  C=0.0316, gamma=0.0631, kernel=linear, score=0.562, total=   0.0s\n",
            "[CV] C=0.0316, gamma=0.0631, kernel=poly .............................\n",
            "[CV] . C=0.0316, gamma=0.0631, kernel=poly, score=0.750, total=   0.0s\n",
            "[CV] C=0.0316, gamma=0.0631, kernel=poly .............................\n",
            "[CV] . C=0.0316, gamma=0.0631, kernel=poly, score=0.750, total=   0.0s\n",
            "[CV] C=0.0316, gamma=0.0631, kernel=poly .............................\n",
            "[CV] . C=0.0316, gamma=0.0631, kernel=poly, score=0.562, total=   0.0s\n",
            "[CV] C=0.0316, gamma=0.0631, kernel=poly .............................\n",
            "[CV] . C=0.0316, gamma=0.0631, kernel=poly, score=0.812, total=   0.0s\n",
            "[CV] C=0.0316, gamma=0.0631, kernel=poly .............................\n",
            "[CV] . C=0.0316, gamma=0.0631, kernel=poly, score=0.688, total=   0.0s\n",
            "[CV] C=0.0316, gamma=0.0631, kernel=sigmoid ..........................\n",
            "[CV]  C=0.0316, gamma=0.0631, kernel=sigmoid, score=0.500, total=   0.0s\n",
            "[CV] C=0.0316, gamma=0.0631, kernel=sigmoid ..........................\n",
            "[CV]  C=0.0316, gamma=0.0631, kernel=sigmoid, score=0.500, total=   0.0s\n",
            "[CV] C=0.0316, gamma=0.0631, kernel=sigmoid ..........................\n",
            "[CV]  C=0.0316, gamma=0.0631, kernel=sigmoid, score=0.500, total=   0.0s\n",
            "[CV] C=0.0316, gamma=0.0631, kernel=sigmoid ..........................\n",
            "[CV]  C=0.0316, gamma=0.0631, kernel=sigmoid, score=0.500, total=   0.0s\n",
            "[CV] C=0.0316, gamma=0.0631, kernel=sigmoid ..........................\n",
            "[CV]  C=0.0316, gamma=0.0631, kernel=sigmoid, score=0.562, total=   0.0s\n",
            "[CV] C=0.0316, gamma=0.0631, kernel=rbf ..............................\n",
            "[CV] .. C=0.0316, gamma=0.0631, kernel=rbf, score=0.500, total=   0.0s\n",
            "[CV] C=0.0316, gamma=0.0631, kernel=rbf ..............................\n",
            "[CV] .. C=0.0316, gamma=0.0631, kernel=rbf, score=0.500, total=   0.0s\n",
            "[CV] C=0.0316, gamma=0.0631, kernel=rbf ..............................\n",
            "[CV] .. C=0.0316, gamma=0.0631, kernel=rbf, score=0.500, total=   0.0s\n",
            "[CV] C=0.0316, gamma=0.0631, kernel=rbf ..............................\n",
            "[CV] .. C=0.0316, gamma=0.0631, kernel=rbf, score=0.500, total=   0.0s\n",
            "[CV] C=0.0316, gamma=0.0631, kernel=rbf ..............................\n",
            "[CV] .. C=0.0316, gamma=0.0631, kernel=rbf, score=0.562, total=   0.0s\n",
            "[CV] C=0.0316, gamma=0.0794, kernel=linear ...........................\n",
            "[CV]  C=0.0316, gamma=0.0794, kernel=linear, score=0.750, total=   0.0s\n",
            "[CV] C=0.0316, gamma=0.0794, kernel=linear ...........................\n",
            "[CV]  C=0.0316, gamma=0.0794, kernel=linear, score=0.750, total=   0.0s\n",
            "[CV] C=0.0316, gamma=0.0794, kernel=linear ...........................\n",
            "[CV]  C=0.0316, gamma=0.0794, kernel=linear, score=0.688, total=   0.0s\n",
            "[CV] C=0.0316, gamma=0.0794, kernel=linear ...........................\n",
            "[CV]  C=0.0316, gamma=0.0794, kernel=linear, score=0.812, total=   0.0s\n",
            "[CV] C=0.0316, gamma=0.0794, kernel=linear ...........................\n",
            "[CV]  C=0.0316, gamma=0.0794, kernel=linear, score=0.562, total=   0.0s\n",
            "[CV] C=0.0316, gamma=0.0794, kernel=poly .............................\n",
            "[CV] . C=0.0316, gamma=0.0794, kernel=poly, score=0.750, total=   0.0s\n",
            "[CV] C=0.0316, gamma=0.0794, kernel=poly .............................\n",
            "[CV] . C=0.0316, gamma=0.0794, kernel=poly, score=0.750, total=   0.0s\n",
            "[CV] C=0.0316, gamma=0.0794, kernel=poly .............................\n",
            "[CV] . C=0.0316, gamma=0.0794, kernel=poly, score=0.625, total=   0.0s\n",
            "[CV] C=0.0316, gamma=0.0794, kernel=poly .............................\n",
            "[CV] . C=0.0316, gamma=0.0794, kernel=poly, score=0.812, total=   0.0s\n",
            "[CV] C=0.0316, gamma=0.0794, kernel=poly .............................\n",
            "[CV] . C=0.0316, gamma=0.0794, kernel=poly, score=0.688, total=   0.0s\n",
            "[CV] C=0.0316, gamma=0.0794, kernel=sigmoid ..........................\n",
            "[CV]  C=0.0316, gamma=0.0794, kernel=sigmoid, score=0.500, total=   0.0s\n",
            "[CV] C=0.0316, gamma=0.0794, kernel=sigmoid ..........................\n",
            "[CV]  C=0.0316, gamma=0.0794, kernel=sigmoid, score=0.500, total=   0.0s\n",
            "[CV] C=0.0316, gamma=0.0794, kernel=sigmoid ..........................\n",
            "[CV]  C=0.0316, gamma=0.0794, kernel=sigmoid, score=0.500, total=   0.0s\n",
            "[CV] C=0.0316, gamma=0.0794, kernel=sigmoid ..........................\n",
            "[CV]  C=0.0316, gamma=0.0794, kernel=sigmoid, score=0.500, total=   0.0s\n",
            "[CV] C=0.0316, gamma=0.0794, kernel=sigmoid ..........................\n",
            "[CV]  C=0.0316, gamma=0.0794, kernel=sigmoid, score=0.562, total=   0.0s\n",
            "[CV] C=0.0316, gamma=0.0794, kernel=rbf ..............................\n",
            "[CV] .. C=0.0316, gamma=0.0794, kernel=rbf, score=0.500, total=   0.0s\n",
            "[CV] C=0.0316, gamma=0.0794, kernel=rbf ..............................\n",
            "[CV] .. C=0.0316, gamma=0.0794, kernel=rbf, score=0.500, total=   0.0s\n",
            "[CV] C=0.0316, gamma=0.0794, kernel=rbf ..............................\n",
            "[CV] .. C=0.0316, gamma=0.0794, kernel=rbf, score=0.500, total=   0.0s\n",
            "[CV] C=0.0316, gamma=0.0794, kernel=rbf ..............................\n",
            "[CV] .. C=0.0316, gamma=0.0794, kernel=rbf, score=0.500, total=   0.0s\n",
            "[CV] C=0.0316, gamma=0.0794, kernel=rbf ..............................\n",
            "[CV] .. C=0.0316, gamma=0.0794, kernel=rbf, score=0.562, total=   0.0s\n",
            "[CV] C=0.0316, gamma=0.3162, kernel=linear ...........................\n",
            "[CV]  C=0.0316, gamma=0.3162, kernel=linear, score=0.750, total=   0.0s\n",
            "[CV] C=0.0316, gamma=0.3162, kernel=linear ...........................\n",
            "[CV]  C=0.0316, gamma=0.3162, kernel=linear, score=0.750, total=   0.0s\n",
            "[CV] C=0.0316, gamma=0.3162, kernel=linear ...........................\n",
            "[CV]  C=0.0316, gamma=0.3162, kernel=linear, score=0.688, total=   0.0s\n",
            "[CV] C=0.0316, gamma=0.3162, kernel=linear ...........................\n",
            "[CV]  C=0.0316, gamma=0.3162, kernel=linear, score=0.812, total=   0.0s\n",
            "[CV] C=0.0316, gamma=0.3162, kernel=linear ...........................\n",
            "[CV]  C=0.0316, gamma=0.3162, kernel=linear, score=0.562, total=   0.0s\n",
            "[CV] C=0.0316, gamma=0.3162, kernel=poly .............................\n",
            "[CV] . C=0.0316, gamma=0.3162, kernel=poly, score=0.750, total=   0.0s\n",
            "[CV] C=0.0316, gamma=0.3162, kernel=poly .............................\n",
            "[CV] . C=0.0316, gamma=0.3162, kernel=poly, score=0.750, total=   0.0s\n",
            "[CV] C=0.0316, gamma=0.3162, kernel=poly .............................\n",
            "[CV] . C=0.0316, gamma=0.3162, kernel=poly, score=0.688, total=   0.0s\n",
            "[CV] C=0.0316, gamma=0.3162, kernel=poly .............................\n",
            "[CV] . C=0.0316, gamma=0.3162, kernel=poly, score=0.812, total=   0.0s\n",
            "[CV] C=0.0316, gamma=0.3162, kernel=poly .............................\n",
            "[CV] . C=0.0316, gamma=0.3162, kernel=poly, score=0.688, total=   0.0s\n",
            "[CV] C=0.0316, gamma=0.3162, kernel=sigmoid ..........................\n",
            "[CV]  C=0.0316, gamma=0.3162, kernel=sigmoid, score=0.500, total=   0.0s\n",
            "[CV] C=0.0316, gamma=0.3162, kernel=sigmoid ..........................\n",
            "[CV]  C=0.0316, gamma=0.3162, kernel=sigmoid, score=0.500, total=   0.0s\n",
            "[CV] C=0.0316, gamma=0.3162, kernel=sigmoid ..........................\n",
            "[CV]  C=0.0316, gamma=0.3162, kernel=sigmoid, score=0.500, total=   0.0s\n",
            "[CV] C=0.0316, gamma=0.3162, kernel=sigmoid ..........................\n",
            "[CV]  C=0.0316, gamma=0.3162, kernel=sigmoid, score=0.500, total=   0.0s\n",
            "[CV] C=0.0316, gamma=0.3162, kernel=sigmoid ..........................\n",
            "[CV]  C=0.0316, gamma=0.3162, kernel=sigmoid, score=0.562, total=   0.0s\n",
            "[CV] C=0.0316, gamma=0.3162, kernel=rbf ..............................\n",
            "[CV] .. C=0.0316, gamma=0.3162, kernel=rbf, score=0.500, total=   0.0s\n",
            "[CV] C=0.0316, gamma=0.3162, kernel=rbf ..............................\n",
            "[CV] .. C=0.0316, gamma=0.3162, kernel=rbf, score=0.500, total=   0.0s\n",
            "[CV] C=0.0316, gamma=0.3162, kernel=rbf ..............................\n",
            "[CV] .. C=0.0316, gamma=0.3162, kernel=rbf, score=0.500, total=   0.0s\n",
            "[CV] C=0.0316, gamma=0.3162, kernel=rbf ..............................\n",
            "[CV] .. C=0.0316, gamma=0.3162, kernel=rbf, score=0.500, total=   0.0s\n",
            "[CV] C=0.0316, gamma=0.3162, kernel=rbf ..............................\n",
            "[CV] .. C=0.0316, gamma=0.3162, kernel=rbf, score=0.562, total=   0.0s\n",
            "[CV] C=0.0316, gamma=0.3981, kernel=linear ...........................\n",
            "[CV]  C=0.0316, gamma=0.3981, kernel=linear, score=0.750, total=   0.0s\n",
            "[CV] C=0.0316, gamma=0.3981, kernel=linear ...........................\n",
            "[CV]  C=0.0316, gamma=0.3981, kernel=linear, score=0.750, total=   0.0s\n",
            "[CV] C=0.0316, gamma=0.3981, kernel=linear ...........................\n",
            "[CV]  C=0.0316, gamma=0.3981, kernel=linear, score=0.688, total=   0.0s\n",
            "[CV] C=0.0316, gamma=0.3981, kernel=linear ...........................\n",
            "[CV]  C=0.0316, gamma=0.3981, kernel=linear, score=0.812, total=   0.0s\n",
            "[CV] C=0.0316, gamma=0.3981, kernel=linear ...........................\n",
            "[CV]  C=0.0316, gamma=0.3981, kernel=linear, score=0.562, total=   0.0s\n",
            "[CV] C=0.0316, gamma=0.3981, kernel=poly .............................\n",
            "[CV] . C=0.0316, gamma=0.3981, kernel=poly, score=0.750, total=   0.0s\n",
            "[CV] C=0.0316, gamma=0.3981, kernel=poly .............................\n",
            "[CV] . C=0.0316, gamma=0.3981, kernel=poly, score=0.750, total=   0.0s\n",
            "[CV] C=0.0316, gamma=0.3981, kernel=poly .............................\n",
            "[CV] . C=0.0316, gamma=0.3981, kernel=poly, score=0.688, total=   0.0s\n",
            "[CV] C=0.0316, gamma=0.3981, kernel=poly .............................\n",
            "[CV] . C=0.0316, gamma=0.3981, kernel=poly, score=0.812, total=   0.0s\n",
            "[CV] C=0.0316, gamma=0.3981, kernel=poly .............................\n",
            "[CV] . C=0.0316, gamma=0.3981, kernel=poly, score=0.688, total=   0.0s\n",
            "[CV] C=0.0316, gamma=0.3981, kernel=sigmoid ..........................\n",
            "[CV]  C=0.0316, gamma=0.3981, kernel=sigmoid, score=0.500, total=   0.0s\n",
            "[CV] C=0.0316, gamma=0.3981, kernel=sigmoid ..........................\n",
            "[CV]  C=0.0316, gamma=0.3981, kernel=sigmoid, score=0.500, total=   0.0s\n",
            "[CV] C=0.0316, gamma=0.3981, kernel=sigmoid ..........................\n",
            "[CV]  C=0.0316, gamma=0.3981, kernel=sigmoid, score=0.500, total=   0.0s\n",
            "[CV] C=0.0316, gamma=0.3981, kernel=sigmoid ..........................\n",
            "[CV]  C=0.0316, gamma=0.3981, kernel=sigmoid, score=0.500, total=   0.0s\n",
            "[CV] C=0.0316, gamma=0.3981, kernel=sigmoid ..........................\n",
            "[CV]  C=0.0316, gamma=0.3981, kernel=sigmoid, score=0.562, total=   0.0s\n",
            "[CV] C=0.0316, gamma=0.3981, kernel=rbf ..............................\n",
            "[CV] .. C=0.0316, gamma=0.3981, kernel=rbf, score=0.500, total=   0.0s\n",
            "[CV] C=0.0316, gamma=0.3981, kernel=rbf ..............................\n",
            "[CV] .. C=0.0316, gamma=0.3981, kernel=rbf, score=0.500, total=   0.0s\n",
            "[CV] C=0.0316, gamma=0.3981, kernel=rbf ..............................\n",
            "[CV] .. C=0.0316, gamma=0.3981, kernel=rbf, score=0.500, total=   0.0s\n",
            "[CV] C=0.0316, gamma=0.3981, kernel=rbf ..............................\n",
            "[CV] .. C=0.0316, gamma=0.3981, kernel=rbf, score=0.500, total=   0.0s\n",
            "[CV] C=0.0316, gamma=0.3981, kernel=rbf ..............................\n",
            "[CV] .. C=0.0316, gamma=0.3981, kernel=rbf, score=0.562, total=   0.0s\n",
            "[CV] C=0.0316, gamma=0.5, kernel=linear ..............................\n",
            "[CV] .. C=0.0316, gamma=0.5, kernel=linear, score=0.750, total=   0.0s\n",
            "[CV] C=0.0316, gamma=0.5, kernel=linear ..............................\n",
            "[CV] .. C=0.0316, gamma=0.5, kernel=linear, score=0.750, total=   0.0s\n",
            "[CV] C=0.0316, gamma=0.5, kernel=linear ..............................\n",
            "[CV] .. C=0.0316, gamma=0.5, kernel=linear, score=0.688, total=   0.0s\n",
            "[CV] C=0.0316, gamma=0.5, kernel=linear ..............................\n",
            "[CV] .. C=0.0316, gamma=0.5, kernel=linear, score=0.812, total=   0.0s\n",
            "[CV] C=0.0316, gamma=0.5, kernel=linear ..............................\n",
            "[CV] .. C=0.0316, gamma=0.5, kernel=linear, score=0.562, total=   0.0s\n",
            "[CV] C=0.0316, gamma=0.5, kernel=poly ................................\n"
          ]
        }
      ]
    },
    {
      "cell_type": "code",
      "metadata": {
        "id": "0xtDw1ei6eaw"
      },
      "source": [
        "# Melhores parâmetros para o SVM\n",
        "\n",
        "#SVC(C=100, break_ties=False, cache_size=200, class_weight=None, coef0=0.0,\n",
        "#    decision_function_shape='ovr', degree=3, gamma=1,  kernel='rbf', max_iter=-1,\n",
        "#    probability=False, random_state=None, shrinking=True, tol=0.001,\n",
        "#    verbose=False)\n",
        "\n",
        "#SVC(C=31.6228, break_ties=False, cache_size=200, class_weight=None, coef0=0.0,\n",
        "#    decision_function_shape='ovr', degree=3, gamma=6.0, kernel='rbf',\n",
        "#    max_iter=-1, probability=False, random_state=None, shrinking=True,\n",
        "#    tol=0.001, verbose=False)"
      ],
      "execution_count": null,
      "outputs": []
    },
    {
      "cell_type": "code",
      "metadata": {
        "id": "AlNW3jjE_rBS"
      },
      "source": [
        "grid_predictions = grid.predict(X_test_mixed)\n",
        "print(metrics.confusion_matrix(y_test_mixed, grid_predictions))\n",
        "print(metrics.classification_report(y_test_mixed, grid_predictions))\n",
        "print(\"Acurácia:\",metrics.accuracy_score(y_test_mixed, grid_predictions))"
      ],
      "execution_count": null,
      "outputs": []
    },
    {
      "cell_type": "code",
      "metadata": {
        "id": "ZMLRX17fBS5n"
      },
      "source": [
        "# ANN\n",
        "\n",
        "from keras.models import Sequential\n",
        "from keras.layers import Dense\n",
        "from keras.wrappers.scikit_learn import KerasClassifier\n",
        "from sklearn.model_selection import cross_val_score\n",
        "from sklearn.preprocessing import LabelEncoder\n",
        "from sklearn.model_selection import StratifiedKFold\n",
        "from sklearn.preprocessing import StandardScaler\n",
        "from sklearn.pipeline import Pipeline\n",
        "\n",
        "# convertendo as classes de strings para inteiros\n",
        "encoder = LabelEncoder()\n",
        "encoder.fit(y)\n",
        "encoded_Y = encoder.transform(y)\n",
        "\n",
        "def creat_baseline():\n",
        "  model_ANN = Sequential()\n",
        "  model_ANN.add(Dense(12, input_dim=8, activation='relu'))\n",
        "  model_ANN.add(Dense(1, activation='sigmoid'))\n",
        "  model_ANN.compile(loss='binary_crossentropy', optimizer='adam', metrics=['accuracy'])\n",
        "  return model_ANN\n",
        "\n",
        "estimatior = KerasClassifier(build_fn=create_baseline, epochs=100, batch_size=5, verbose=2)\n",
        "kfold = StratifiedKFold(n_splits=10, shuffle=True)\n",
        "results = cross_val_score(estimator, X, encoded_Y, cv=kfold)\n",
        "print(\"Baseline: %.2f%% (%.2f%%)\" % (results.mean()*100, results.std()*100))"
      ],
      "execution_count": null,
      "outputs": []
    }
  ]
}