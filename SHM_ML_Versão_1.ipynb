{
  "nbformat": 4,
  "nbformat_minor": 0,
  "metadata": {
    "colab": {
      "name": "SHM - ML - Versão 1.ipynb",
      "provenance": [],
      "include_colab_link": true
    },
    "kernelspec": {
      "name": "python3",
      "display_name": "Python 3"
    },
    "language_info": {
      "name": "python"
    }
  },
  "cells": [
    {
      "cell_type": "markdown",
      "metadata": {
        "id": "view-in-github",
        "colab_type": "text"
      },
      "source": [
        "<a href=\"https://colab.research.google.com/github/OtavioCarvalho1/Time_Series/blob/main/SHM_ML_Vers%C3%A3o_1.ipynb\" target=\"_parent\"><img src=\"https://colab.research.google.com/assets/colab-badge.svg\" alt=\"Open In Colab\"/></a>"
      ]
    },
    {
      "cell_type": "code",
      "metadata": {
        "colab": {
          "base_uri": "https://localhost:8080/"
        },
        "id": "ehC31qeXUpRn",
        "outputId": "baf0d53a-5f7d-4935-f8de-b4b1a1e7e7e0"
      },
      "source": [
        "!git clone https://github.com/OtavioCarvalho1/Time_Series.git"
      ],
      "execution_count": null,
      "outputs": [
        {
          "output_type": "stream",
          "text": [
            "Cloning into 'Time_Series'...\n",
            "remote: Enumerating objects: 1250, done.\u001b[K\n",
            "remote: Counting objects: 100% (6/6), done.\u001b[K\n",
            "remote: Compressing objects: 100% (6/6), done.\u001b[K\n",
            "remote: Total 1250 (delta 2), reused 0 (delta 0), pack-reused 1244\u001b[K\n",
            "Receiving objects: 100% (1250/1250), 169.35 MiB | 19.12 MiB/s, done.\n",
            "Resolving deltas: 100% (18/18), done.\n",
            "Checking out files: 100% (1208/1208), done.\n"
          ],
          "name": "stdout"
        }
      ]
    },
    {
      "cell_type": "code",
      "metadata": {
        "colab": {
          "base_uri": "https://localhost:8080/"
        },
        "id": "8mQ2uoUzXLRK",
        "outputId": "9b38e6f8-ef1b-41e6-9127-202c70438194"
      },
      "source": [
        "!pip install statsmodels --upgrade"
      ],
      "execution_count": null,
      "outputs": [
        {
          "output_type": "stream",
          "text": [
            "Requirement already satisfied: statsmodels in /usr/local/lib/python3.7/dist-packages (0.10.2)\n",
            "Collecting statsmodels\n",
            "  Downloading statsmodels-0.12.2-cp37-cp37m-manylinux1_x86_64.whl (9.5 MB)\n",
            "\u001b[K     |████████████████████████████████| 9.5 MB 29.9 MB/s \n",
            "\u001b[?25hRequirement already satisfied: scipy>=1.1 in /usr/local/lib/python3.7/dist-packages (from statsmodels) (1.4.1)\n",
            "Requirement already satisfied: pandas>=0.21 in /usr/local/lib/python3.7/dist-packages (from statsmodels) (1.1.5)\n",
            "Requirement already satisfied: patsy>=0.5 in /usr/local/lib/python3.7/dist-packages (from statsmodels) (0.5.1)\n",
            "Requirement already satisfied: numpy>=1.15 in /usr/local/lib/python3.7/dist-packages (from statsmodels) (1.19.5)\n",
            "Requirement already satisfied: pytz>=2017.2 in /usr/local/lib/python3.7/dist-packages (from pandas>=0.21->statsmodels) (2018.9)\n",
            "Requirement already satisfied: python-dateutil>=2.7.3 in /usr/local/lib/python3.7/dist-packages (from pandas>=0.21->statsmodels) (2.8.2)\n",
            "Requirement already satisfied: six in /usr/local/lib/python3.7/dist-packages (from patsy>=0.5->statsmodels) (1.15.0)\n",
            "Installing collected packages: statsmodels\n",
            "  Attempting uninstall: statsmodels\n",
            "    Found existing installation: statsmodels 0.10.2\n",
            "    Uninstalling statsmodels-0.10.2:\n",
            "      Successfully uninstalled statsmodels-0.10.2\n",
            "Successfully installed statsmodels-0.12.2\n"
          ],
          "name": "stdout"
        }
      ]
    },
    {
      "cell_type": "code",
      "metadata": {
        "id": "mkOC2T2GXUHV"
      },
      "source": [
        "import numpy as np\n",
        "\n",
        "import pandas as pd\n",
        "\n",
        "import matplotlib.pyplot as plt\n",
        "\n",
        "from scipy.stats import kurtosis, skew\n",
        "\n",
        "from sklearn.preprocessing import StandardScaler\n",
        "\n",
        "from math import sqrt\n",
        "\n",
        "from statsmodels.tsa.ar_model import AutoReg\n",
        "\n",
        "from statistics import stdev"
      ],
      "execution_count": null,
      "outputs": []
    },
    {
      "cell_type": "markdown",
      "metadata": {
        "id": "dbaEzRlqtnFh"
      },
      "source": [
        "# **Importação dos Sinais**"
      ]
    },
    {
      "cell_type": "code",
      "metadata": {
        "id": "9Pu41ZUsgeCN"
      },
      "source": [
        "sem_dano = get_features(\"/content/Time_Series/Dataset-LambWave-Wagner/PL0402_Ref/PL0402_Ref2_1_150KHz__5ciclos_B3_A3.csv\")\n",
        "\n",
        "dano_1 = get_features(\"/content/Time_Series/Dataset-LambWave-Wagner/PL0402_Dn1/PL0402_Dn12_1_150KHz__5ciclos_B3_A3.csv\")\n",
        "\n",
        "dano_2 = get_features(\"/content/Time_Series/Dataset-LambWave-Wagner/PL0402_Dn2/PL0402_Dn22_1_150KHz__5ciclos_B3_A3.csv\")\n",
        "\n",
        "dano_3 = get_features(\"/content/Time_Series/Dataset-LambWave-Wagner/PL0402_Dn3/PL0402_Dn32_1_150KHz__5ciclos_B3_A3.csv\")\n",
        "\n",
        "dano_4 = get_features(\"/content/Time_Series/Dataset-LambWave-Wagner/PL0402_Dn4/PL0402_Dn42_1_150KHz__5ciclos_B3_A3.csv\")"
      ],
      "execution_count": null,
      "outputs": []
    },
    {
      "cell_type": "markdown",
      "metadata": {
        "id": "QviAa6dpQV2u"
      },
      "source": [
        "# **Métricas de dano**"
      ]
    },
    {
      "cell_type": "code",
      "metadata": {
        "id": "dfjR9A4cddhX"
      },
      "source": [
        "def get_features(arquivo):\n",
        "    names = ['Tempo [s]', 'Amplitude PZT Atuador', 'Amplitude PZT Sensor']\n",
        "    df = pd.read_csv(arquivo, names=names)\n",
        "    peak = np.max(df['Amplitude PZT Sensor']) #1 - peak\n",
        "    mean = df['Amplitude PZT Sensor'].mean() #2 - mean\n",
        "    ms = np.square(mean) #3 - mean square\n",
        "    rms = np.sqrt(ms) #4 - root mean square\n",
        "    var = df['Amplitude PZT Sensor'].var() #5 - variance\n",
        "    std = stdev(df['Amplitude PZT Sensor']) #6 - standard deviation\n",
        "    skw = skew(df['Amplitude PZT Sensor']) #7 - skewness\n",
        "    kurt = kurtosis(df['Amplitude PZT Sensor']) #8 - kurtosis\n",
        "    crest_f = peak/rms #9 - crest factor\n",
        "    K_f = peak*rms #10 - K-Factor\n",
        "    md = pd.DataFrame([peak, mean, ms, rms, var, std, skw, kurt, crest_f, K_f])\n",
        "    return md"
      ],
      "execution_count": null,
      "outputs": []
    },
    {
      "cell_type": "code",
      "metadata": {
        "colab": {
          "base_uri": "https://localhost:8080/",
          "height": 355
        },
        "id": "vRh6MeUH8EgR",
        "outputId": "6a0f343f-5e9b-4f63-e237-88dad942ef72"
      },
      "source": [
        "frames = [sem_dano,dano_1,dano_2,dano_3,dano_4]\n",
        "\n",
        "features = pd.concat(frames, axis=1)\n",
        "\n",
        "features"
      ],
      "execution_count": null,
      "outputs": [
        {
          "output_type": "execute_result",
          "data": {
            "text/html": [
              "<div>\n",
              "<style scoped>\n",
              "    .dataframe tbody tr th:only-of-type {\n",
              "        vertical-align: middle;\n",
              "    }\n",
              "\n",
              "    .dataframe tbody tr th {\n",
              "        vertical-align: top;\n",
              "    }\n",
              "\n",
              "    .dataframe thead th {\n",
              "        text-align: right;\n",
              "    }\n",
              "</style>\n",
              "<table border=\"1\" class=\"dataframe\">\n",
              "  <thead>\n",
              "    <tr style=\"text-align: right;\">\n",
              "      <th></th>\n",
              "      <th>0</th>\n",
              "      <th>0</th>\n",
              "      <th>0</th>\n",
              "      <th>0</th>\n",
              "      <th>0</th>\n",
              "    </tr>\n",
              "  </thead>\n",
              "  <tbody>\n",
              "    <tr>\n",
              "      <th>0</th>\n",
              "      <td>1.123057e-02</td>\n",
              "      <td>1.199896e-02</td>\n",
              "      <td>1.286964e-02</td>\n",
              "      <td>1.391785e-02</td>\n",
              "      <td>1.517050e-02</td>\n",
              "    </tr>\n",
              "    <tr>\n",
              "      <th>1</th>\n",
              "      <td>-1.152493e-07</td>\n",
              "      <td>-4.716260e-07</td>\n",
              "      <td>-2.854587e-07</td>\n",
              "      <td>-2.894220e-07</td>\n",
              "      <td>-1.540067e-08</td>\n",
              "    </tr>\n",
              "    <tr>\n",
              "      <th>2</th>\n",
              "      <td>1.328241e-14</td>\n",
              "      <td>2.224311e-13</td>\n",
              "      <td>8.148665e-14</td>\n",
              "      <td>8.376509e-14</td>\n",
              "      <td>2.371805e-16</td>\n",
              "    </tr>\n",
              "    <tr>\n",
              "      <th>3</th>\n",
              "      <td>1.152493e-07</td>\n",
              "      <td>4.716260e-07</td>\n",
              "      <td>2.854587e-07</td>\n",
              "      <td>2.894220e-07</td>\n",
              "      <td>1.540067e-08</td>\n",
              "    </tr>\n",
              "    <tr>\n",
              "      <th>4</th>\n",
              "      <td>3.207258e-06</td>\n",
              "      <td>3.592699e-06</td>\n",
              "      <td>3.648665e-06</td>\n",
              "      <td>3.927971e-06</td>\n",
              "      <td>4.227067e-06</td>\n",
              "    </tr>\n",
              "    <tr>\n",
              "      <th>5</th>\n",
              "      <td>1.790882e-03</td>\n",
              "      <td>1.895442e-03</td>\n",
              "      <td>1.910148e-03</td>\n",
              "      <td>1.981911e-03</td>\n",
              "      <td>2.055983e-03</td>\n",
              "    </tr>\n",
              "    <tr>\n",
              "      <th>6</th>\n",
              "      <td>7.012031e-04</td>\n",
              "      <td>9.708261e-04</td>\n",
              "      <td>5.890596e-04</td>\n",
              "      <td>1.178199e-03</td>\n",
              "      <td>8.088033e-04</td>\n",
              "    </tr>\n",
              "    <tr>\n",
              "      <th>7</th>\n",
              "      <td>9.654932e+00</td>\n",
              "      <td>1.042437e+01</td>\n",
              "      <td>1.169644e+01</td>\n",
              "      <td>1.155114e+01</td>\n",
              "      <td>1.181413e+01</td>\n",
              "    </tr>\n",
              "    <tr>\n",
              "      <th>8</th>\n",
              "      <td>9.744586e+04</td>\n",
              "      <td>2.544168e+04</td>\n",
              "      <td>4.508408e+04</td>\n",
              "      <td>4.808843e+04</td>\n",
              "      <td>9.850548e+05</td>\n",
              "    </tr>\n",
              "    <tr>\n",
              "      <th>9</th>\n",
              "      <td>1.294316e-09</td>\n",
              "      <td>5.659022e-09</td>\n",
              "      <td>3.673750e-09</td>\n",
              "      <td>4.028132e-09</td>\n",
              "      <td>2.336358e-10</td>\n",
              "    </tr>\n",
              "  </tbody>\n",
              "</table>\n",
              "</div>"
            ],
            "text/plain": [
              "              0             0             0             0             0\n",
              "0  1.123057e-02  1.199896e-02  1.286964e-02  1.391785e-02  1.517050e-02\n",
              "1 -1.152493e-07 -4.716260e-07 -2.854587e-07 -2.894220e-07 -1.540067e-08\n",
              "2  1.328241e-14  2.224311e-13  8.148665e-14  8.376509e-14  2.371805e-16\n",
              "3  1.152493e-07  4.716260e-07  2.854587e-07  2.894220e-07  1.540067e-08\n",
              "4  3.207258e-06  3.592699e-06  3.648665e-06  3.927971e-06  4.227067e-06\n",
              "5  1.790882e-03  1.895442e-03  1.910148e-03  1.981911e-03  2.055983e-03\n",
              "6  7.012031e-04  9.708261e-04  5.890596e-04  1.178199e-03  8.088033e-04\n",
              "7  9.654932e+00  1.042437e+01  1.169644e+01  1.155114e+01  1.181413e+01\n",
              "8  9.744586e+04  2.544168e+04  4.508408e+04  4.808843e+04  9.850548e+05\n",
              "9  1.294316e-09  5.659022e-09  3.673750e-09  4.028132e-09  2.336358e-10"
            ]
          },
          "metadata": {},
          "execution_count": 34
        }
      ]
    },
    {
      "cell_type": "code",
      "metadata": {
        "id": "6fMSg7rd6-X4"
      },
      "source": [
        "#1 peak amplitude\n",
        "peak = np.max(df_train['Amplitude PZT Sensor'])\n",
        "\n",
        "peak"
      ],
      "execution_count": null,
      "outputs": []
    },
    {
      "cell_type": "code",
      "metadata": {
        "id": "bOy9Sp5naMVF"
      },
      "source": [
        "#2 mean\n",
        "mean = df_train['Amplitude PZT Sensor'].mean()\n",
        "\n",
        "mean"
      ],
      "execution_count": null,
      "outputs": []
    },
    {
      "cell_type": "code",
      "metadata": {
        "id": "funDC9oP7hhJ"
      },
      "source": [
        "#3 mean square\n",
        "mean_square = np.square(mean)\n",
        "\n",
        "mean_square"
      ],
      "execution_count": null,
      "outputs": []
    },
    {
      "cell_type": "code",
      "metadata": {
        "id": "7cB_b7z-7kvY"
      },
      "source": [
        "#4 root mean square\n",
        "rms = np.sqrt(mean_square)\n",
        "\n",
        "rms"
      ],
      "execution_count": null,
      "outputs": []
    },
    {
      "cell_type": "code",
      "metadata": {
        "id": "EpWwXJNNdaf8"
      },
      "source": [
        "#5 variance\n",
        "df_train['Amplitude PZT Sensor'].var()"
      ],
      "execution_count": null,
      "outputs": []
    },
    {
      "cell_type": "code",
      "metadata": {
        "id": "KWmx8RsdZLbk"
      },
      "source": [
        "#6 standard deviation\n",
        "stdev(df_train['Amplitude PZT Sensor'])"
      ],
      "execution_count": null,
      "outputs": []
    },
    {
      "cell_type": "code",
      "metadata": {
        "id": "FNYFV2al6cBi"
      },
      "source": [
        "#7 skewness\n",
        "skew(df_train['Amplitude PZT Sensor'])"
      ],
      "execution_count": null,
      "outputs": []
    },
    {
      "cell_type": "code",
      "metadata": {
        "id": "0SZB5q3c7xE3"
      },
      "source": [
        "#8 kurtosis\n",
        "kurtosis(df_train['Amplitude PZT Sensor'])"
      ],
      "execution_count": null,
      "outputs": []
    },
    {
      "cell_type": "code",
      "metadata": {
        "id": "PCj9b6hL76_Y"
      },
      "source": [
        "#9 crest factor\n",
        "peak/rms"
      ],
      "execution_count": null,
      "outputs": []
    },
    {
      "cell_type": "code",
      "metadata": {
        "id": "QfC0qM0a8B9X"
      },
      "source": [
        "#10 K-factor\n",
        "peak*rms"
      ],
      "execution_count": null,
      "outputs": []
    }
  ]
}