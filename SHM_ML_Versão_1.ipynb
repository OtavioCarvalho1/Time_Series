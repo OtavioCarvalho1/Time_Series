{
  "nbformat": 4,
  "nbformat_minor": 0,
  "metadata": {
    "colab": {
      "name": "SHM - ML - Versão 1.ipynb",
      "provenance": [],
      "include_colab_link": true
    },
    "kernelspec": {
      "name": "python3",
      "display_name": "Python 3"
    },
    "language_info": {
      "name": "python"
    }
  },
  "cells": [
    {
      "cell_type": "markdown",
      "metadata": {
        "id": "view-in-github",
        "colab_type": "text"
      },
      "source": [
        "<a href=\"https://colab.research.google.com/github/OtavioCarvalho1/Time_Series/blob/main/SHM_ML_Vers%C3%A3o_1.ipynb\" target=\"_parent\"><img src=\"https://colab.research.google.com/assets/colab-badge.svg\" alt=\"Open In Colab\"/></a>"
      ]
    },
    {
      "cell_type": "code",
      "metadata": {
        "id": "ehC31qeXUpRn",
        "colab": {
          "base_uri": "https://localhost:8080/"
        },
        "outputId": "bf395889-2929-437e-cdb9-c770b29c8929"
      },
      "source": [
        "!git clone https://github.com/OtavioCarvalho1/Time_Series.git"
      ],
      "execution_count": 1,
      "outputs": [
        {
          "output_type": "stream",
          "name": "stdout",
          "text": [
            "fatal: destination path 'Time_Series' already exists and is not an empty directory.\n"
          ]
        }
      ]
    },
    {
      "cell_type": "code",
      "metadata": {
        "id": "8mQ2uoUzXLRK",
        "colab": {
          "base_uri": "https://localhost:8080/"
        },
        "outputId": "3d55952f-0cfb-459a-d9fa-182c99aa9afb"
      },
      "source": [
        "!pip install statsmodels --upgrade"
      ],
      "execution_count": 2,
      "outputs": [
        {
          "output_type": "stream",
          "name": "stdout",
          "text": [
            "Requirement already satisfied: statsmodels in /usr/local/lib/python3.7/dist-packages (0.12.2)\n",
            "Requirement already satisfied: numpy>=1.15 in /usr/local/lib/python3.7/dist-packages (from statsmodels) (1.19.5)\n",
            "Requirement already satisfied: pandas>=0.21 in /usr/local/lib/python3.7/dist-packages (from statsmodels) (1.1.5)\n",
            "Requirement already satisfied: scipy>=1.1 in /usr/local/lib/python3.7/dist-packages (from statsmodels) (1.4.1)\n",
            "Requirement already satisfied: patsy>=0.5 in /usr/local/lib/python3.7/dist-packages (from statsmodels) (0.5.1)\n",
            "Requirement already satisfied: pytz>=2017.2 in /usr/local/lib/python3.7/dist-packages (from pandas>=0.21->statsmodels) (2018.9)\n",
            "Requirement already satisfied: python-dateutil>=2.7.3 in /usr/local/lib/python3.7/dist-packages (from pandas>=0.21->statsmodels) (2.8.2)\n",
            "Requirement already satisfied: six in /usr/local/lib/python3.7/dist-packages (from patsy>=0.5->statsmodels) (1.15.0)\n"
          ]
        }
      ]
    },
    {
      "cell_type": "code",
      "metadata": {
        "id": "mkOC2T2GXUHV"
      },
      "source": [
        "import numpy as np\n",
        "\n",
        "from numpy import mean, square, sqrt\n",
        "\n",
        "import pandas as pd\n",
        "\n",
        "import matplotlib.pyplot as plt\n",
        "\n",
        "from scipy.stats import kurtosis, skew\n",
        "\n",
        "from sklearn.preprocessing import StandardScaler\n",
        "\n",
        "from math import sqrt\n",
        "\n",
        "from statsmodels.tsa.ar_model import AutoReg\n",
        "\n",
        "from statistics import stdev\n",
        "\n",
        "from sklearn.model_selection import train_test_split\n",
        "\n",
        "import seaborn as sns"
      ],
      "execution_count": 3,
      "outputs": []
    },
    {
      "cell_type": "markdown",
      "metadata": {
        "id": "QviAa6dpQV2u"
      },
      "source": [
        "# **Extração de Features**"
      ]
    },
    {
      "cell_type": "code",
      "metadata": {
        "id": "dfjR9A4cddhX"
      },
      "source": [
        "# função para extração de features dos sinais mas sem colocar ruído\n",
        "\n",
        "def get_features(arquivo):\n",
        "    names = ['Tempo [s]', 'Amplitude PZT Atuador', 'Amplitude PZT Sensor']\n",
        "    df = pd.read_csv(arquivo, names=names)\n",
        "    peak = np.max(df['Amplitude PZT Sensor']) #1 - peak\n",
        "    mean = df['Amplitude PZT Sensor'].mean() #2 - mean\n",
        "    ms = np.mean(np.square(df['Amplitude PZT Sensor'])) #3 - mean square\n",
        "    rms = np.sqrt(ms) #4 - root mean square\n",
        "    var = df['Amplitude PZT Sensor'].var() #5 - variance\n",
        "    std = stdev(df['Amplitude PZT Sensor']) #6 - standard deviation\n",
        "    skw = skew(df['Amplitude PZT Sensor']) #7 - skewness\n",
        "    kurt = kurtosis(df['Amplitude PZT Sensor']) #8 - kurtosis\n",
        "    crest_f = peak/rms #9 - crest factor\n",
        "    K_f = peak*rms #10 - K-Factor\n",
        "    md = pd.DataFrame([[peak, mean, ms, rms, var, std, skw, kurt, crest_f, K_f]], columns=['Peak', 'Mean', 'Mean²', 'RMS', 'Variance', 'Std Deviation', 'Skewness', 'Kurtosis', 'Crest Factor', 'K-Factor']) \n",
        "    return md"
      ],
      "execution_count": 4,
      "outputs": []
    },
    {
      "cell_type": "code",
      "metadata": {
        "id": "s6-gCEFYv03g"
      },
      "source": [
        "# função que coloca ruído no sinal de 80 dB e extrai as features dele\n",
        "\n",
        "def get_features_noise_80(arquivo):\n",
        "\n",
        "    names = ['Tempo [s]', 'Amplitude PZT Atuador', 'Amplitude PZT Sensor']\n",
        "    df = pd.read_csv(arquivo, names=names)\n",
        "\n",
        "    x_watts = df['Amplitude PZT Sensor']**2\n",
        "    x_dB = 10 * np.log10(x_watts)\n",
        "    target_SNR_dB = 80\n",
        "    sig_avg_watts = np.mean(x_watts)\n",
        "    sig_avg_db = 10 * np.log10(sig_avg_watts)\n",
        "    noise_avg_db = sig_avg_db - target_SNR_dB\n",
        "    noise_avg_watts = 10 ** (noise_avg_db / 10)\n",
        "    mean_noise = 0\n",
        "    noise_volts = np.random.normal(mean_noise, np.sqrt(noise_avg_watts), len(x_watts))\n",
        "    y_volts = df['Amplitude PZT Sensor'] + noise_volts\n",
        "    noise_data = y_volts\n",
        "\n",
        "    peak = np.max(noise_data) #1 - peak\n",
        "    mean = noise_data.mean() #2 - mean\n",
        "    ms = np.mean(np.square(noise_data)) #3 - mean square\n",
        "    rms = np.sqrt(ms) #4 - root mean square\n",
        "    var = noise_data.var() #5 - variance\n",
        "    std = stdev(noise_data) #6 - standard deviation\n",
        "    skw = skew(noise_data) #7 - skewness\n",
        "    kurt = kurtosis(noise_data) #8 - kurtosis\n",
        "    crest_f = peak/rms #9 - crest factor\n",
        "    K_f = peak*rms #10 - K-Factor\n",
        "\n",
        "    md = pd.DataFrame([[peak, mean, ms, rms, var, std, skw, kurt, crest_f, K_f]], columns=['Peak', 'Mean', 'Mean²', 'RMS', 'Variance', 'Std Deviation', 'Skewness', 'Kurtosis', 'Crest Factor', 'K-Factor']) # esta função retorna um dataframe do pandas com 10 linhas contendo todas as features extraídas\n",
        "    \n",
        "    return md"
      ],
      "execution_count": 5,
      "outputs": []
    },
    {
      "cell_type": "code",
      "metadata": {
        "id": "1g9qpYKb6-Hi"
      },
      "source": [
        "# função que coloca ruído no sinal de 120 dB e extrai as features dele\n",
        "\n",
        "def get_features_noise_120(arquivo):\n",
        "\n",
        "    names = ['Tempo [s]', 'Amplitude PZT Atuador', 'Amplitude PZT Sensor']\n",
        "    df = pd.read_csv(arquivo, names=names)\n",
        "\n",
        "    x_watts = df['Amplitude PZT Sensor']**2\n",
        "    x_dB = 10 * np.log10(x_watts)\n",
        "    target_SNR_dB = 120\n",
        "    sig_avg_watts = np.mean(x_watts)\n",
        "    sig_avg_db = 10 * np.log10(sig_avg_watts)\n",
        "    noise_avg_db = sig_avg_db - target_SNR_dB\n",
        "    noise_avg_watts = 10 ** (noise_avg_db / 10)\n",
        "    mean_noise = 0\n",
        "    noise_volts = np.random.normal(mean_noise, np.sqrt(noise_avg_watts), len(x_watts))\n",
        "    y_volts = df['Amplitude PZT Sensor'] + noise_volts\n",
        "    noise_data = y_volts\n",
        "\n",
        "    peak = np.max(noise_data) #1 - peak\n",
        "    mean = noise_data.mean() #2 - mean\n",
        "    ms = np.mean(np.square(noise_data)) #3 - mean square\n",
        "    rms = np.sqrt(ms) #4 - root mean square\n",
        "    var = noise_data.var() #5 - variance\n",
        "    std = stdev(noise_data) #6 - standard deviation\n",
        "    skw = skew(noise_data) #7 - skewness\n",
        "    kurt = kurtosis(noise_data) #8 - kurtosis\n",
        "    crest_f = peak/rms #9 - crest factor\n",
        "    K_f = peak*rms #10 - K-Factor\n",
        "\n",
        "    md = pd.DataFrame([[peak, mean, ms, rms, var, std, skw, kurt, crest_f, K_f]], columns=['Peak', 'Mean', 'Mean²', 'RMS', 'Variance', 'Std Deviation', 'Skewness', 'Kurtosis', 'Crest Factor', 'K-Factor']) # esta função retorna um dataframe do pandas com 10 linhas contendo todas as features extraídas\n",
        "    \n",
        "    return md"
      ],
      "execution_count": 6,
      "outputs": []
    },
    {
      "cell_type": "code",
      "metadata": {
        "id": "9Pu41ZUsgeCN",
        "colab": {
          "base_uri": "https://localhost:8080/"
        },
        "outputId": "e0846927-a3c3-4645-bb96-f5270ce28334"
      },
      "source": [
        "# 100 kHz\n",
        "\n",
        "sem_dano_100 = get_features(\"/content/Time_Series/Dataset-LambWave-Wagner/PL0402_Ref/PL0402_Ref2_1_100KHz__5ciclos_B3_A3.csv\")\n",
        "\n",
        "dano_1_100 = get_features(\"/content/Time_Series/Dataset-LambWave-Wagner/PL0402_Dn1/PL0402_Dn12_1_100KHz__5ciclos_B3_A3.csv\")\n",
        "\n",
        "dano_2_100 = get_features(\"/content/Time_Series/Dataset-LambWave-Wagner/PL0402_Dn2/PL0402_Dn22_1_100KHz__5ciclos_B3_A3.csv\")\n",
        "\n",
        "dano_3_100 = get_features(\"/content/Time_Series/Dataset-LambWave-Wagner/PL0402_Dn3/PL0402_Dn32_1_100KHz__5ciclos_B3_A3.csv\")\n",
        "\n",
        "dano_4_100 = get_features(\"/content/Time_Series/Dataset-LambWave-Wagner/PL0402_Dn4/PL0402_Dn42_1_100KHz__5ciclos_B3_A3.csv\")\n",
        "\n",
        "\n",
        "sem_dano_100_80dB = get_features_noise_80(\"/content/Time_Series/Dataset-LambWave-Wagner/PL0402_Ref/PL0402_Ref2_1_100KHz__5ciclos_B3_A3.csv\")\n",
        "\n",
        "dano_1_100_80dB = get_features_noise_80(\"/content/Time_Series/Dataset-LambWave-Wagner/PL0402_Dn1/PL0402_Dn12_1_100KHz__5ciclos_B3_A3.csv\")\n",
        "\n",
        "dano_2_100_80dB = get_features_noise_80(\"/content/Time_Series/Dataset-LambWave-Wagner/PL0402_Dn2/PL0402_Dn22_1_100KHz__5ciclos_B3_A3.csv\")\n",
        "\n",
        "dano_3_100_80dB = get_features_noise_80(\"/content/Time_Series/Dataset-LambWave-Wagner/PL0402_Dn3/PL0402_Dn32_1_100KHz__5ciclos_B3_A3.csv\")\n",
        "\n",
        "dano_4_100_80dB = get_features_noise_80(\"/content/Time_Series/Dataset-LambWave-Wagner/PL0402_Dn4/PL0402_Dn42_1_100KHz__5ciclos_B3_A3.csv\")\n",
        "\n",
        "\n",
        "sem_dano_100_120dB = get_features_noise_120(\"/content/Time_Series/Dataset-LambWave-Wagner/PL0402_Ref/PL0402_Ref2_1_100KHz__5ciclos_B3_A3.csv\")\n",
        "\n",
        "dano_1_100_120dB = get_features_noise_120(\"/content/Time_Series/Dataset-LambWave-Wagner/PL0402_Dn1/PL0402_Dn12_1_100KHz__5ciclos_B3_A3.csv\")\n",
        "\n",
        "dano_2_100_120dB = get_features_noise_120(\"/content/Time_Series/Dataset-LambWave-Wagner/PL0402_Dn2/PL0402_Dn22_1_100KHz__5ciclos_B3_A3.csv\")\n",
        "\n",
        "dano_3_100_120dB = get_features_noise_120(\"/content/Time_Series/Dataset-LambWave-Wagner/PL0402_Dn3/PL0402_Dn32_1_100KHz__5ciclos_B3_A3.csv\")\n",
        "\n",
        "dano_4_100_120dB = get_features_noise_120(\"/content/Time_Series/Dataset-LambWave-Wagner/PL0402_Dn4/PL0402_Dn42_1_100KHz__5ciclos_B3_A3.csv\")\n",
        "\n",
        "\n",
        "df_100 = [sem_dano_100, dano_1_100, dano_2_100, dano_3_100, dano_4_100, \n",
        "          sem_dano_100_80dB, dano_1_100_80dB, dano_2_100_80dB, dano_3_100_80dB, dano_4_100_80dB, \n",
        "          sem_dano_100_120dB, dano_1_100_120dB, dano_2_100_120dB, dano_3_100_120dB, dano_4_100_120dB]\n",
        "\n",
        "# 150 kHz\n",
        "\n",
        "sem_dano_150 = get_features(\"/content/Time_Series/Dataset-LambWave-Wagner/PL0402_Ref/PL0402_Ref2_1_150KHz__5ciclos_B3_A3.csv\")\n",
        "\n",
        "dano_1_150 = get_features(\"/content/Time_Series/Dataset-LambWave-Wagner/PL0402_Dn1/PL0402_Dn12_1_150KHz__5ciclos_B3_A3.csv\")\n",
        "\n",
        "dano_2_150 = get_features(\"/content/Time_Series/Dataset-LambWave-Wagner/PL0402_Dn2/PL0402_Dn22_1_150KHz__5ciclos_B3_A3.csv\")\n",
        "\n",
        "dano_3_150 = get_features(\"/content/Time_Series/Dataset-LambWave-Wagner/PL0402_Dn3/PL0402_Dn32_1_150KHz__5ciclos_B3_A3.csv\")\n",
        "\n",
        "dano_4_150 = get_features(\"/content/Time_Series/Dataset-LambWave-Wagner/PL0402_Dn4/PL0402_Dn42_1_150KHz__5ciclos_B3_A3.csv\")\n",
        "\n",
        "\n",
        "sem_dano_150_80dB = get_features_noise_80(\"/content/Time_Series/Dataset-LambWave-Wagner/PL0402_Ref/PL0402_Ref2_1_150KHz__5ciclos_B3_A3.csv\")\n",
        "\n",
        "dano_1_150_80dB = get_features_noise_80(\"/content/Time_Series/Dataset-LambWave-Wagner/PL0402_Dn1/PL0402_Dn12_1_150KHz__5ciclos_B3_A3.csv\")\n",
        "\n",
        "dano_2_150_80dB = get_features_noise_80(\"/content/Time_Series/Dataset-LambWave-Wagner/PL0402_Dn2/PL0402_Dn22_1_150KHz__5ciclos_B3_A3.csv\")\n",
        "\n",
        "dano_3_150_80dB = get_features_noise_80(\"/content/Time_Series/Dataset-LambWave-Wagner/PL0402_Dn3/PL0402_Dn32_1_150KHz__5ciclos_B3_A3.csv\")\n",
        "\n",
        "dano_4_150_80dB = get_features_noise_80(\"/content/Time_Series/Dataset-LambWave-Wagner/PL0402_Dn4/PL0402_Dn42_1_150KHz__5ciclos_B3_A3.csv\")\n",
        "\n",
        "\n",
        "sem_dano_150_120dB = get_features_noise_120(\"/content/Time_Series/Dataset-LambWave-Wagner/PL0402_Ref/PL0402_Ref2_1_150KHz__5ciclos_B3_A3.csv\")\n",
        "\n",
        "dano_1_150_120dB = get_features_noise_120(\"/content/Time_Series/Dataset-LambWave-Wagner/PL0402_Dn1/PL0402_Dn12_1_150KHz__5ciclos_B3_A3.csv\")\n",
        "\n",
        "dano_2_150_120dB = get_features_noise_120(\"/content/Time_Series/Dataset-LambWave-Wagner/PL0402_Dn2/PL0402_Dn22_1_150KHz__5ciclos_B3_A3.csv\")\n",
        "\n",
        "dano_3_150_120dB = get_features_noise_120(\"/content/Time_Series/Dataset-LambWave-Wagner/PL0402_Dn3/PL0402_Dn32_1_150KHz__5ciclos_B3_A3.csv\")\n",
        "\n",
        "dano_4_150_120dB = get_features_noise_120(\"/content/Time_Series/Dataset-LambWave-Wagner/PL0402_Dn4/PL0402_Dn42_1_150KHz__5ciclos_B3_A3.csv\")\n",
        "\n",
        "df_150 = [sem_dano_150, dano_1_150, dano_2_150, dano_3_150, dano_4_150, \n",
        "          sem_dano_150_80dB, dano_1_150_80dB, dano_2_150_80dB, dano_3_150_80dB, dano_4_150_80dB, \n",
        "          sem_dano_150_120dB, dano_1_150_120dB, dano_2_150_120dB, dano_3_150_120dB, dano_4_150_120dB]\n",
        "\n",
        "\n",
        "# 200 kHz \n",
        "\n",
        "sem_dano_200 = get_features(\"/content/Time_Series/Dataset-LambWave-Wagner/PL0402_Ref/PL0402_Ref2_1_200KHz__5ciclos_B3_A3.csv\")\n",
        "\n",
        "dano_1_200 = get_features(\"/content/Time_Series/Dataset-LambWave-Wagner/PL0402_Dn1/PL0402_Dn12_1_200KHz__5ciclos_B3_A3.csv\")\n",
        "\n",
        "dano_2_200 = get_features(\"/content/Time_Series/Dataset-LambWave-Wagner/PL0402_Dn2/PL0402_Dn22_1_200KHz__5ciclos_B3_A3.csv\")\n",
        "\n",
        "dano_3_200 = get_features(\"/content/Time_Series/Dataset-LambWave-Wagner/PL0402_Dn3/PL0402_Dn32_1_200KHz__5ciclos_B3_A3.csv\")\n",
        "\n",
        "dano_4_200 = get_features(\"/content/Time_Series/Dataset-LambWave-Wagner/PL0402_Dn4/PL0402_Dn42_1_200KHz__5ciclos_B3_A3.csv\")\n",
        "\n",
        "\n",
        "sem_dano_200_80dB = get_features_noise_80(\"/content/Time_Series/Dataset-LambWave-Wagner/PL0402_Ref/PL0402_Ref2_1_200KHz__5ciclos_B3_A3.csv\")\n",
        "\n",
        "dano_1_200_80dB = get_features_noise_80(\"/content/Time_Series/Dataset-LambWave-Wagner/PL0402_Dn1/PL0402_Dn12_1_200KHz__5ciclos_B3_A3.csv\")\n",
        "\n",
        "dano_2_200_80dB = get_features_noise_80(\"/content/Time_Series/Dataset-LambWave-Wagner/PL0402_Dn2/PL0402_Dn22_1_200KHz__5ciclos_B3_A3.csv\")\n",
        "\n",
        "dano_3_200_80dB = get_features_noise_80(\"/content/Time_Series/Dataset-LambWave-Wagner/PL0402_Dn3/PL0402_Dn32_1_200KHz__5ciclos_B3_A3.csv\")\n",
        "\n",
        "dano_4_200_80dB = get_features_noise_80(\"/content/Time_Series/Dataset-LambWave-Wagner/PL0402_Dn4/PL0402_Dn42_1_200KHz__5ciclos_B3_A3.csv\")\n",
        "\n",
        "\n",
        "sem_dano_200_120dB = get_features_noise_120(\"/content/Time_Series/Dataset-LambWave-Wagner/PL0402_Ref/PL0402_Ref2_1_200KHz__5ciclos_B3_A3.csv\")\n",
        "\n",
        "dano_1_200_120dB = get_features_noise_120(\"/content/Time_Series/Dataset-LambWave-Wagner/PL0402_Dn1/PL0402_Dn12_1_200KHz__5ciclos_B3_A3.csv\")\n",
        "\n",
        "dano_2_200_120dB = get_features_noise_120(\"/content/Time_Series/Dataset-LambWave-Wagner/PL0402_Dn2/PL0402_Dn22_1_200KHz__5ciclos_B3_A3.csv\")\n",
        "\n",
        "dano_3_200_120dB = get_features_noise_120(\"/content/Time_Series/Dataset-LambWave-Wagner/PL0402_Dn3/PL0402_Dn32_1_200KHz__5ciclos_B3_A3.csv\")\n",
        "\n",
        "dano_4_200_120dB = get_features_noise_120(\"/content/Time_Series/Dataset-LambWave-Wagner/PL0402_Dn4/PL0402_Dn42_1_200KHz__5ciclos_B3_A3.csv\")\n",
        "\n",
        "df_200 = [sem_dano_200, dano_1_200, dano_2_200, dano_3_200, dano_4_200, \n",
        "          sem_dano_200_80dB, dano_1_200_80dB, dano_2_200_80dB, dano_3_200_80dB, dano_4_200_80dB, \n",
        "          sem_dano_200_120dB, dano_1_200_120dB, dano_2_200_120dB, dano_3_200_120dB, dano_4_200_120dB]\n",
        "\n",
        "# 250 kHz\n",
        "\n",
        "sem_dano_250 = get_features(\"/content/Time_Series/Dataset-LambWave-Wagner/PL0402_Ref/PL0402_Ref2_1_250KHz__5ciclos_B3_A3.csv\")\n",
        "\n",
        "dano_1_250 = get_features(\"/content/Time_Series/Dataset-LambWave-Wagner/PL0402_Dn1/PL0402_Dn12_1_250KHz__5ciclos_B3_A3.csv\")\n",
        "\n",
        "dano_2_250 = get_features(\"/content/Time_Series/Dataset-LambWave-Wagner/PL0402_Dn2/PL0402_Dn22_1_250KHz__5ciclos_B3_A3.csv\")\n",
        "\n",
        "dano_3_250 = get_features(\"/content/Time_Series/Dataset-LambWave-Wagner/PL0402_Dn3/PL0402_Dn32_1_250KHz__5ciclos_B3_A3.csv\")\n",
        "\n",
        "dano_4_250 = get_features(\"/content/Time_Series/Dataset-LambWave-Wagner/PL0402_Dn4/PL0402_Dn42_1_250KHz__5ciclos_B3_A3.csv\")\n",
        "\n",
        "\n",
        "sem_dano_250_80dB = get_features_noise_80(\"/content/Time_Series/Dataset-LambWave-Wagner/PL0402_Ref/PL0402_Ref2_1_250KHz__5ciclos_B3_A3.csv\")\n",
        "\n",
        "dano_1_250_80dB = get_features_noise_80(\"/content/Time_Series/Dataset-LambWave-Wagner/PL0402_Dn1/PL0402_Dn12_1_250KHz__5ciclos_B3_A3.csv\")\n",
        "\n",
        "dano_2_250_80dB = get_features_noise_80(\"/content/Time_Series/Dataset-LambWave-Wagner/PL0402_Dn2/PL0402_Dn22_1_250KHz__5ciclos_B3_A3.csv\")\n",
        "\n",
        "dano_3_250_80dB = get_features_noise_80(\"/content/Time_Series/Dataset-LambWave-Wagner/PL0402_Dn3/PL0402_Dn32_1_250KHz__5ciclos_B3_A3.csv\")\n",
        "\n",
        "dano_4_250_80dB = get_features_noise_80(\"/content/Time_Series/Dataset-LambWave-Wagner/PL0402_Dn4/PL0402_Dn42_1_250KHz__5ciclos_B3_A3.csv\")\n",
        "\n",
        "\n",
        "sem_dano_250_120dB = get_features_noise_120(\"/content/Time_Series/Dataset-LambWave-Wagner/PL0402_Ref/PL0402_Ref2_1_250KHz__5ciclos_B3_A3.csv\")\n",
        "\n",
        "dano_1_250_120dB = get_features_noise_120(\"/content/Time_Series/Dataset-LambWave-Wagner/PL0402_Dn1/PL0402_Dn12_1_250KHz__5ciclos_B3_A3.csv\")\n",
        "\n",
        "dano_2_250_120dB = get_features_noise_120(\"/content/Time_Series/Dataset-LambWave-Wagner/PL0402_Dn2/PL0402_Dn22_1_250KHz__5ciclos_B3_A3.csv\")\n",
        "\n",
        "dano_3_250_120dB = get_features_noise_120(\"/content/Time_Series/Dataset-LambWave-Wagner/PL0402_Dn3/PL0402_Dn32_1_250KHz__5ciclos_B3_A3.csv\")\n",
        "\n",
        "dano_4_250_120dB = get_features_noise_120(\"/content/Time_Series/Dataset-LambWave-Wagner/PL0402_Dn4/PL0402_Dn42_1_250KHz__5ciclos_B3_A3.csv\")\n",
        "\n",
        "df_250 = [sem_dano_250, dano_1_250, dano_2_250, dano_3_250, dano_4_250, \n",
        "          sem_dano_250_80dB, dano_1_250_80dB, dano_2_250_80dB, dano_3_250_80dB, dano_4_250_80dB, \n",
        "          sem_dano_250_120dB, dano_1_250_120dB, dano_2_250_120dB, dano_3_250_120dB, dano_4_250_120dB]\n",
        "\n",
        "# 300 kHz\n",
        "\n",
        "sem_dano_300 = get_features(\"/content/Time_Series/Dataset-LambWave-Wagner/PL0402_Ref/PL0402_Ref2_1_300KHz__5ciclos_B3_A3.csv\")\n",
        "\n",
        "dano_1_300 = get_features(\"/content/Time_Series/Dataset-LambWave-Wagner/PL0402_Dn1/PL0402_Dn12_1_300KHz__5ciclos_B3_A3.csv\")\n",
        "\n",
        "dano_2_300 = get_features(\"/content/Time_Series/Dataset-LambWave-Wagner/PL0402_Dn2/PL0402_Dn22_1_300KHz__5ciclos_B3_A3.csv\")\n",
        "\n",
        "dano_3_300 = get_features(\"/content/Time_Series/Dataset-LambWave-Wagner/PL0402_Dn3/PL0402_Dn32_1_300KHz__5ciclos_B3_A3.csv\")\n",
        "\n",
        "dano_4_300 = get_features(\"/content/Time_Series/Dataset-LambWave-Wagner/PL0402_Dn4/PL0402_Dn42_1_300KHz__5ciclos_B3_A3.csv\")\n",
        "\n",
        "\n",
        "sem_dano_300_80dB = get_features_noise_80(\"/content/Time_Series/Dataset-LambWave-Wagner/PL0402_Ref/PL0402_Ref2_1_300KHz__5ciclos_B3_A3.csv\")\n",
        "\n",
        "dano_1_300_80dB = get_features_noise_80(\"/content/Time_Series/Dataset-LambWave-Wagner/PL0402_Dn1/PL0402_Dn12_1_300KHz__5ciclos_B3_A3.csv\")\n",
        "\n",
        "dano_2_300_80dB = get_features_noise_80(\"/content/Time_Series/Dataset-LambWave-Wagner/PL0402_Dn2/PL0402_Dn22_1_300KHz__5ciclos_B3_A3.csv\")\n",
        "\n",
        "dano_3_300_80dB = get_features_noise_80(\"/content/Time_Series/Dataset-LambWave-Wagner/PL0402_Dn3/PL0402_Dn32_1_300KHz__5ciclos_B3_A3.csv\")\n",
        "\n",
        "dano_4_300_80dB = get_features_noise_80(\"/content/Time_Series/Dataset-LambWave-Wagner/PL0402_Dn4/PL0402_Dn42_1_300KHz__5ciclos_B3_A3.csv\")\n",
        "\n",
        "\n",
        "sem_dano_300_120dB = get_features_noise_120(\"/content/Time_Series/Dataset-LambWave-Wagner/PL0402_Ref/PL0402_Ref2_1_300KHz__5ciclos_B3_A3.csv\")\n",
        "\n",
        "dano_1_300_120dB = get_features_noise_120(\"/content/Time_Series/Dataset-LambWave-Wagner/PL0402_Dn1/PL0402_Dn12_1_300KHz__5ciclos_B3_A3.csv\")\n",
        "\n",
        "dano_2_300_120dB = get_features_noise_120(\"/content/Time_Series/Dataset-LambWave-Wagner/PL0402_Dn2/PL0402_Dn22_1_300KHz__5ciclos_B3_A3.csv\")\n",
        "\n",
        "dano_3_300_120dB = get_features_noise_120(\"/content/Time_Series/Dataset-LambWave-Wagner/PL0402_Dn3/PL0402_Dn32_1_300KHz__5ciclos_B3_A3.csv\")\n",
        "\n",
        "dano_4_300_120dB = get_features_noise_120(\"/content/Time_Series/Dataset-LambWave-Wagner/PL0402_Dn4/PL0402_Dn42_1_300KHz__5ciclos_B3_A3.csv\")\n",
        "\n",
        "df_300 = [sem_dano_300, dano_1_300, dano_2_300, dano_3_300, dano_4_300, \n",
        "          sem_dano_300_80dB, dano_1_300_80dB, dano_2_300_80dB, dano_3_300_80dB, dano_4_300_80dB, \n",
        "          sem_dano_300_120dB, dano_1_300_120dB, dano_2_300_120dB, dano_3_300_120dB, dano_4_300_120dB]"
      ],
      "execution_count": 7,
      "outputs": [
        {
          "output_type": "stream",
          "name": "stderr",
          "text": [
            "/usr/local/lib/python3.7/dist-packages/pandas/core/series.py:726: RuntimeWarning: divide by zero encountered in log10\n",
            "  result = getattr(ufunc, method)(*inputs, **kwargs)\n"
          ]
        }
      ]
    },
    {
      "cell_type": "code",
      "metadata": {
        "id": "3y8hb9wAf3Pm",
        "colab": {
          "base_uri": "https://localhost:8080/",
          "height": 80
        },
        "outputId": "166ced03-9621-4ead-c1ab-3ef73eb98cd9"
      },
      "source": [
        "get_features(\"/content/Time_Series/Dataset-LambWave-Wagner/PL0402_Ref/PL0402_Ref2_1_100KHz__5ciclos_B3_A3.csv\")"
      ],
      "execution_count": 8,
      "outputs": [
        {
          "output_type": "execute_result",
          "data": {
            "text/html": [
              "<div>\n",
              "<style scoped>\n",
              "    .dataframe tbody tr th:only-of-type {\n",
              "        vertical-align: middle;\n",
              "    }\n",
              "\n",
              "    .dataframe tbody tr th {\n",
              "        vertical-align: top;\n",
              "    }\n",
              "\n",
              "    .dataframe thead th {\n",
              "        text-align: right;\n",
              "    }\n",
              "</style>\n",
              "<table border=\"1\" class=\"dataframe\">\n",
              "  <thead>\n",
              "    <tr style=\"text-align: right;\">\n",
              "      <th></th>\n",
              "      <th>Peak</th>\n",
              "      <th>Mean</th>\n",
              "      <th>Mean²</th>\n",
              "      <th>RMS</th>\n",
              "      <th>Variance</th>\n",
              "      <th>Std Deviation</th>\n",
              "      <th>Skewness</th>\n",
              "      <th>Kurtosis</th>\n",
              "      <th>Crest Factor</th>\n",
              "      <th>K-Factor</th>\n",
              "    </tr>\n",
              "  </thead>\n",
              "  <tbody>\n",
              "    <tr>\n",
              "      <th>0</th>\n",
              "      <td>0.013217</td>\n",
              "      <td>0.000001</td>\n",
              "      <td>0.000005</td>\n",
              "      <td>0.002156</td>\n",
              "      <td>0.000005</td>\n",
              "      <td>0.002156</td>\n",
              "      <td>-0.003725</td>\n",
              "      <td>7.184161</td>\n",
              "      <td>6.13008</td>\n",
              "      <td>0.000028</td>\n",
              "    </tr>\n",
              "  </tbody>\n",
              "</table>\n",
              "</div>"
            ],
            "text/plain": [
              "       Peak      Mean     Mean²  ...  Kurtosis  Crest Factor  K-Factor\n",
              "0  0.013217  0.000001  0.000005  ...  7.184161       6.13008  0.000028\n",
              "\n",
              "[1 rows x 10 columns]"
            ]
          },
          "metadata": {},
          "execution_count": 8
        }
      ]
    },
    {
      "cell_type": "code",
      "metadata": {
        "id": "42hVtoPjks3e",
        "colab": {
          "base_uri": "https://localhost:8080/",
          "height": 419
        },
        "outputId": "18571d85-c000-4cf0-fded-4ca7fdaed8a8"
      },
      "source": [
        "df = [pd.concat(df_100, ignore_index=True), \n",
        "      pd.concat(df_150, ignore_index=True), \n",
        "      pd.concat(df_200, ignore_index=True), \n",
        "      pd.concat(df_250, ignore_index=True), \n",
        "      pd.concat(df_300, ignore_index=True)]\n",
        "\n",
        "dataset = pd.concat(df, ignore_index=True)\n",
        "\n",
        "dataset\n"
      ],
      "execution_count": 9,
      "outputs": [
        {
          "output_type": "execute_result",
          "data": {
            "text/html": [
              "<div>\n",
              "<style scoped>\n",
              "    .dataframe tbody tr th:only-of-type {\n",
              "        vertical-align: middle;\n",
              "    }\n",
              "\n",
              "    .dataframe tbody tr th {\n",
              "        vertical-align: top;\n",
              "    }\n",
              "\n",
              "    .dataframe thead th {\n",
              "        text-align: right;\n",
              "    }\n",
              "</style>\n",
              "<table border=\"1\" class=\"dataframe\">\n",
              "  <thead>\n",
              "    <tr style=\"text-align: right;\">\n",
              "      <th></th>\n",
              "      <th>Peak</th>\n",
              "      <th>Mean</th>\n",
              "      <th>Mean²</th>\n",
              "      <th>RMS</th>\n",
              "      <th>Variance</th>\n",
              "      <th>Std Deviation</th>\n",
              "      <th>Skewness</th>\n",
              "      <th>Kurtosis</th>\n",
              "      <th>Crest Factor</th>\n",
              "      <th>K-Factor</th>\n",
              "    </tr>\n",
              "  </thead>\n",
              "  <tbody>\n",
              "    <tr>\n",
              "      <th>0</th>\n",
              "      <td>0.013217</td>\n",
              "      <td>1.140910e-06</td>\n",
              "      <td>0.000005</td>\n",
              "      <td>0.002156</td>\n",
              "      <td>0.000005</td>\n",
              "      <td>0.002156</td>\n",
              "      <td>-0.003725</td>\n",
              "      <td>7.184161</td>\n",
              "      <td>6.130080</td>\n",
              "      <td>0.000028</td>\n",
              "    </tr>\n",
              "    <tr>\n",
              "      <th>1</th>\n",
              "      <td>0.014850</td>\n",
              "      <td>1.145254e-06</td>\n",
              "      <td>0.000005</td>\n",
              "      <td>0.002207</td>\n",
              "      <td>0.000005</td>\n",
              "      <td>0.002207</td>\n",
              "      <td>-0.003353</td>\n",
              "      <td>9.070766</td>\n",
              "      <td>6.728206</td>\n",
              "      <td>0.000033</td>\n",
              "    </tr>\n",
              "    <tr>\n",
              "      <th>2</th>\n",
              "      <td>0.014542</td>\n",
              "      <td>1.364255e-06</td>\n",
              "      <td>0.000005</td>\n",
              "      <td>0.002204</td>\n",
              "      <td>0.000005</td>\n",
              "      <td>0.002204</td>\n",
              "      <td>-0.003578</td>\n",
              "      <td>8.161078</td>\n",
              "      <td>6.598925</td>\n",
              "      <td>0.000032</td>\n",
              "    </tr>\n",
              "    <tr>\n",
              "      <th>3</th>\n",
              "      <td>0.014745</td>\n",
              "      <td>1.334253e-06</td>\n",
              "      <td>0.000005</td>\n",
              "      <td>0.002311</td>\n",
              "      <td>0.000005</td>\n",
              "      <td>0.002311</td>\n",
              "      <td>-0.003451</td>\n",
              "      <td>7.951149</td>\n",
              "      <td>6.381176</td>\n",
              "      <td>0.000034</td>\n",
              "    </tr>\n",
              "    <tr>\n",
              "      <th>4</th>\n",
              "      <td>0.014802</td>\n",
              "      <td>1.114455e-06</td>\n",
              "      <td>0.000006</td>\n",
              "      <td>0.002400</td>\n",
              "      <td>0.000006</td>\n",
              "      <td>0.002400</td>\n",
              "      <td>-0.003782</td>\n",
              "      <td>8.299823</td>\n",
              "      <td>6.167727</td>\n",
              "      <td>0.000036</td>\n",
              "    </tr>\n",
              "    <tr>\n",
              "      <th>...</th>\n",
              "      <td>...</td>\n",
              "      <td>...</td>\n",
              "      <td>...</td>\n",
              "      <td>...</td>\n",
              "      <td>...</td>\n",
              "      <td>...</td>\n",
              "      <td>...</td>\n",
              "      <td>...</td>\n",
              "      <td>...</td>\n",
              "      <td>...</td>\n",
              "    </tr>\n",
              "    <tr>\n",
              "      <th>70</th>\n",
              "      <td>0.016768</td>\n",
              "      <td>1.122384e-07</td>\n",
              "      <td>0.000005</td>\n",
              "      <td>0.002193</td>\n",
              "      <td>0.000005</td>\n",
              "      <td>0.002193</td>\n",
              "      <td>0.000028</td>\n",
              "      <td>8.859584</td>\n",
              "      <td>7.647280</td>\n",
              "      <td>0.000037</td>\n",
              "    </tr>\n",
              "    <tr>\n",
              "      <th>71</th>\n",
              "      <td>0.023097</td>\n",
              "      <td>2.767526e-08</td>\n",
              "      <td>0.000006</td>\n",
              "      <td>0.002498</td>\n",
              "      <td>0.000006</td>\n",
              "      <td>0.002498</td>\n",
              "      <td>0.000993</td>\n",
              "      <td>15.502414</td>\n",
              "      <td>9.245664</td>\n",
              "      <td>0.000058</td>\n",
              "    </tr>\n",
              "    <tr>\n",
              "      <th>72</th>\n",
              "      <td>0.017213</td>\n",
              "      <td>5.053474e-08</td>\n",
              "      <td>0.000005</td>\n",
              "      <td>0.002204</td>\n",
              "      <td>0.000005</td>\n",
              "      <td>0.002204</td>\n",
              "      <td>0.000434</td>\n",
              "      <td>9.672322</td>\n",
              "      <td>7.809434</td>\n",
              "      <td>0.000038</td>\n",
              "    </tr>\n",
              "    <tr>\n",
              "      <th>73</th>\n",
              "      <td>0.016947</td>\n",
              "      <td>2.806458e-08</td>\n",
              "      <td>0.000005</td>\n",
              "      <td>0.002165</td>\n",
              "      <td>0.000005</td>\n",
              "      <td>0.002165</td>\n",
              "      <td>0.000148</td>\n",
              "      <td>9.444686</td>\n",
              "      <td>7.827944</td>\n",
              "      <td>0.000037</td>\n",
              "    </tr>\n",
              "    <tr>\n",
              "      <th>74</th>\n",
              "      <td>0.015402</td>\n",
              "      <td>7.475412e-08</td>\n",
              "      <td>0.000005</td>\n",
              "      <td>0.002256</td>\n",
              "      <td>0.000005</td>\n",
              "      <td>0.002256</td>\n",
              "      <td>0.000179</td>\n",
              "      <td>7.609363</td>\n",
              "      <td>6.828072</td>\n",
              "      <td>0.000035</td>\n",
              "    </tr>\n",
              "  </tbody>\n",
              "</table>\n",
              "<p>75 rows × 10 columns</p>\n",
              "</div>"
            ],
            "text/plain": [
              "        Peak          Mean     Mean²  ...   Kurtosis  Crest Factor  K-Factor\n",
              "0   0.013217  1.140910e-06  0.000005  ...   7.184161      6.130080  0.000028\n",
              "1   0.014850  1.145254e-06  0.000005  ...   9.070766      6.728206  0.000033\n",
              "2   0.014542  1.364255e-06  0.000005  ...   8.161078      6.598925  0.000032\n",
              "3   0.014745  1.334253e-06  0.000005  ...   7.951149      6.381176  0.000034\n",
              "4   0.014802  1.114455e-06  0.000006  ...   8.299823      6.167727  0.000036\n",
              "..       ...           ...       ...  ...        ...           ...       ...\n",
              "70  0.016768  1.122384e-07  0.000005  ...   8.859584      7.647280  0.000037\n",
              "71  0.023097  2.767526e-08  0.000006  ...  15.502414      9.245664  0.000058\n",
              "72  0.017213  5.053474e-08  0.000005  ...   9.672322      7.809434  0.000038\n",
              "73  0.016947  2.806458e-08  0.000005  ...   9.444686      7.827944  0.000037\n",
              "74  0.015402  7.475412e-08  0.000005  ...   7.609363      6.828072  0.000035\n",
              "\n",
              "[75 rows x 10 columns]"
            ]
          },
          "metadata": {},
          "execution_count": 9
        }
      ]
    },
    {
      "cell_type": "code",
      "metadata": {
        "id": "1oxByW_hTNsN"
      },
      "source": [
        "# criando outputs\n",
        "\n",
        "estado_estrutural = ['Sem dano', 'Danificado', 'Danificado', 'Danificado', 'Danificado',\n",
        "                     'Sem dano', 'Danificado', 'Danificado', 'Danificado', 'Danificado',\n",
        "                     'Sem dano', 'Danificado', 'Danificado', 'Danificado', 'Danificado',\n",
        "                     'Sem dano', 'Danificado', 'Danificado', 'Danificado', 'Danificado',\n",
        "                     'Sem dano', 'Danificado', 'Danificado', 'Danificado', 'Danificado',\n",
        "                     'Sem dano', 'Danificado', 'Danificado', 'Danificado', 'Danificado',\n",
        "                     'Sem dano', 'Danificado', 'Danificado', 'Danificado', 'Danificado',\n",
        "                     'Sem dano', 'Danificado', 'Danificado', 'Danificado', 'Danificado',\n",
        "                     'Sem dano', 'Danificado', 'Danificado', 'Danificado', 'Danificado',\n",
        "                     'Sem dano', 'Danificado', 'Danificado', 'Danificado', 'Danificado',\n",
        "                     'Sem dano', 'Danificado', 'Danificado', 'Danificado', 'Danificado',\n",
        "                     'Sem dano', 'Danificado', 'Danificado', 'Danificado', 'Danificado',\n",
        "                     'Sem dano', 'Danificado', 'Danificado', 'Danificado', 'Danificado',\n",
        "                     'Sem dano', 'Danificado', 'Danificado', 'Danificado', 'Danificado',\n",
        "                     'Sem dano', 'Danificado', 'Danificado', 'Danificado', 'Danificado',]"
      ],
      "execution_count": 10,
      "outputs": []
    },
    {
      "cell_type": "code",
      "metadata": {
        "id": "qc0PAqcHX6dy",
        "colab": {
          "base_uri": "https://localhost:8080/",
          "height": 419
        },
        "outputId": "a9f9887e-a440-4b27-f6df-73e01ab069dd"
      },
      "source": [
        "# adicionando os outputs ao dataset\n",
        "\n",
        "dataset['Condição'] = estado_estrutural\n",
        "\n",
        "dataset"
      ],
      "execution_count": 11,
      "outputs": [
        {
          "output_type": "execute_result",
          "data": {
            "text/html": [
              "<div>\n",
              "<style scoped>\n",
              "    .dataframe tbody tr th:only-of-type {\n",
              "        vertical-align: middle;\n",
              "    }\n",
              "\n",
              "    .dataframe tbody tr th {\n",
              "        vertical-align: top;\n",
              "    }\n",
              "\n",
              "    .dataframe thead th {\n",
              "        text-align: right;\n",
              "    }\n",
              "</style>\n",
              "<table border=\"1\" class=\"dataframe\">\n",
              "  <thead>\n",
              "    <tr style=\"text-align: right;\">\n",
              "      <th></th>\n",
              "      <th>Peak</th>\n",
              "      <th>Mean</th>\n",
              "      <th>Mean²</th>\n",
              "      <th>RMS</th>\n",
              "      <th>Variance</th>\n",
              "      <th>Std Deviation</th>\n",
              "      <th>Skewness</th>\n",
              "      <th>Kurtosis</th>\n",
              "      <th>Crest Factor</th>\n",
              "      <th>K-Factor</th>\n",
              "      <th>Condição</th>\n",
              "    </tr>\n",
              "  </thead>\n",
              "  <tbody>\n",
              "    <tr>\n",
              "      <th>0</th>\n",
              "      <td>0.013217</td>\n",
              "      <td>1.140910e-06</td>\n",
              "      <td>0.000005</td>\n",
              "      <td>0.002156</td>\n",
              "      <td>0.000005</td>\n",
              "      <td>0.002156</td>\n",
              "      <td>-0.003725</td>\n",
              "      <td>7.184161</td>\n",
              "      <td>6.130080</td>\n",
              "      <td>0.000028</td>\n",
              "      <td>Sem dano</td>\n",
              "    </tr>\n",
              "    <tr>\n",
              "      <th>1</th>\n",
              "      <td>0.014850</td>\n",
              "      <td>1.145254e-06</td>\n",
              "      <td>0.000005</td>\n",
              "      <td>0.002207</td>\n",
              "      <td>0.000005</td>\n",
              "      <td>0.002207</td>\n",
              "      <td>-0.003353</td>\n",
              "      <td>9.070766</td>\n",
              "      <td>6.728206</td>\n",
              "      <td>0.000033</td>\n",
              "      <td>Danificado</td>\n",
              "    </tr>\n",
              "    <tr>\n",
              "      <th>2</th>\n",
              "      <td>0.014542</td>\n",
              "      <td>1.364255e-06</td>\n",
              "      <td>0.000005</td>\n",
              "      <td>0.002204</td>\n",
              "      <td>0.000005</td>\n",
              "      <td>0.002204</td>\n",
              "      <td>-0.003578</td>\n",
              "      <td>8.161078</td>\n",
              "      <td>6.598925</td>\n",
              "      <td>0.000032</td>\n",
              "      <td>Danificado</td>\n",
              "    </tr>\n",
              "    <tr>\n",
              "      <th>3</th>\n",
              "      <td>0.014745</td>\n",
              "      <td>1.334253e-06</td>\n",
              "      <td>0.000005</td>\n",
              "      <td>0.002311</td>\n",
              "      <td>0.000005</td>\n",
              "      <td>0.002311</td>\n",
              "      <td>-0.003451</td>\n",
              "      <td>7.951149</td>\n",
              "      <td>6.381176</td>\n",
              "      <td>0.000034</td>\n",
              "      <td>Danificado</td>\n",
              "    </tr>\n",
              "    <tr>\n",
              "      <th>4</th>\n",
              "      <td>0.014802</td>\n",
              "      <td>1.114455e-06</td>\n",
              "      <td>0.000006</td>\n",
              "      <td>0.002400</td>\n",
              "      <td>0.000006</td>\n",
              "      <td>0.002400</td>\n",
              "      <td>-0.003782</td>\n",
              "      <td>8.299823</td>\n",
              "      <td>6.167727</td>\n",
              "      <td>0.000036</td>\n",
              "      <td>Danificado</td>\n",
              "    </tr>\n",
              "    <tr>\n",
              "      <th>...</th>\n",
              "      <td>...</td>\n",
              "      <td>...</td>\n",
              "      <td>...</td>\n",
              "      <td>...</td>\n",
              "      <td>...</td>\n",
              "      <td>...</td>\n",
              "      <td>...</td>\n",
              "      <td>...</td>\n",
              "      <td>...</td>\n",
              "      <td>...</td>\n",
              "      <td>...</td>\n",
              "    </tr>\n",
              "    <tr>\n",
              "      <th>70</th>\n",
              "      <td>0.016768</td>\n",
              "      <td>1.122384e-07</td>\n",
              "      <td>0.000005</td>\n",
              "      <td>0.002193</td>\n",
              "      <td>0.000005</td>\n",
              "      <td>0.002193</td>\n",
              "      <td>0.000028</td>\n",
              "      <td>8.859584</td>\n",
              "      <td>7.647280</td>\n",
              "      <td>0.000037</td>\n",
              "      <td>Sem dano</td>\n",
              "    </tr>\n",
              "    <tr>\n",
              "      <th>71</th>\n",
              "      <td>0.023097</td>\n",
              "      <td>2.767526e-08</td>\n",
              "      <td>0.000006</td>\n",
              "      <td>0.002498</td>\n",
              "      <td>0.000006</td>\n",
              "      <td>0.002498</td>\n",
              "      <td>0.000993</td>\n",
              "      <td>15.502414</td>\n",
              "      <td>9.245664</td>\n",
              "      <td>0.000058</td>\n",
              "      <td>Danificado</td>\n",
              "    </tr>\n",
              "    <tr>\n",
              "      <th>72</th>\n",
              "      <td>0.017213</td>\n",
              "      <td>5.053474e-08</td>\n",
              "      <td>0.000005</td>\n",
              "      <td>0.002204</td>\n",
              "      <td>0.000005</td>\n",
              "      <td>0.002204</td>\n",
              "      <td>0.000434</td>\n",
              "      <td>9.672322</td>\n",
              "      <td>7.809434</td>\n",
              "      <td>0.000038</td>\n",
              "      <td>Danificado</td>\n",
              "    </tr>\n",
              "    <tr>\n",
              "      <th>73</th>\n",
              "      <td>0.016947</td>\n",
              "      <td>2.806458e-08</td>\n",
              "      <td>0.000005</td>\n",
              "      <td>0.002165</td>\n",
              "      <td>0.000005</td>\n",
              "      <td>0.002165</td>\n",
              "      <td>0.000148</td>\n",
              "      <td>9.444686</td>\n",
              "      <td>7.827944</td>\n",
              "      <td>0.000037</td>\n",
              "      <td>Danificado</td>\n",
              "    </tr>\n",
              "    <tr>\n",
              "      <th>74</th>\n",
              "      <td>0.015402</td>\n",
              "      <td>7.475412e-08</td>\n",
              "      <td>0.000005</td>\n",
              "      <td>0.002256</td>\n",
              "      <td>0.000005</td>\n",
              "      <td>0.002256</td>\n",
              "      <td>0.000179</td>\n",
              "      <td>7.609363</td>\n",
              "      <td>6.828072</td>\n",
              "      <td>0.000035</td>\n",
              "      <td>Danificado</td>\n",
              "    </tr>\n",
              "  </tbody>\n",
              "</table>\n",
              "<p>75 rows × 11 columns</p>\n",
              "</div>"
            ],
            "text/plain": [
              "        Peak          Mean     Mean²  ...  Crest Factor  K-Factor    Condição\n",
              "0   0.013217  1.140910e-06  0.000005  ...      6.130080  0.000028    Sem dano\n",
              "1   0.014850  1.145254e-06  0.000005  ...      6.728206  0.000033  Danificado\n",
              "2   0.014542  1.364255e-06  0.000005  ...      6.598925  0.000032  Danificado\n",
              "3   0.014745  1.334253e-06  0.000005  ...      6.381176  0.000034  Danificado\n",
              "4   0.014802  1.114455e-06  0.000006  ...      6.167727  0.000036  Danificado\n",
              "..       ...           ...       ...  ...           ...       ...         ...\n",
              "70  0.016768  1.122384e-07  0.000005  ...      7.647280  0.000037    Sem dano\n",
              "71  0.023097  2.767526e-08  0.000006  ...      9.245664  0.000058  Danificado\n",
              "72  0.017213  5.053474e-08  0.000005  ...      7.809434  0.000038  Danificado\n",
              "73  0.016947  2.806458e-08  0.000005  ...      7.827944  0.000037  Danificado\n",
              "74  0.015402  7.475412e-08  0.000005  ...      6.828072  0.000035  Danificado\n",
              "\n",
              "[75 rows x 11 columns]"
            ]
          },
          "metadata": {},
          "execution_count": 11
        }
      ]
    },
    {
      "cell_type": "code",
      "metadata": {
        "id": "A-fmkByBtLEt"
      },
      "source": [
        "# Separando inputs e outputs\n",
        "\n",
        "feature_names = ['Peak', 'Mean', 'Mean²', 'RMS', 'Variance', 'Std Deviation', 'Skewness', 'Kurtosis', 'Crest Factor', 'K-Factor']\n",
        "X = dataset[feature_names]\n",
        "y = dataset['Condição']"
      ],
      "execution_count": 12,
      "outputs": []
    },
    {
      "cell_type": "code",
      "metadata": {
        "id": "5TN-50-QCDkW",
        "colab": {
          "base_uri": "https://localhost:8080/",
          "height": 670
        },
        "outputId": "b36a9276-b5a0-4999-e1da-4b9b6f941ca6"
      },
      "source": [
        "# Correlação entre features\n",
        "\n",
        "corrMatrix = X.corr()\n",
        "plt.figure(figsize=(12, 10))\n",
        "sns.heatmap(corrMatrix, annot=True, vmin=-1, vmax=1, cmap='YlGnBu')\n"
      ],
      "execution_count": 13,
      "outputs": [
        {
          "output_type": "execute_result",
          "data": {
            "text/plain": [
              "<matplotlib.axes._subplots.AxesSubplot at 0x7f39030a45d0>"
            ]
          },
          "metadata": {},
          "execution_count": 13
        },
        {
          "output_type": "display_data",
          "data": {
            "image/png": "[encoded data removed]",
            "text/plain": [
              "<Figure size 864x720 with 2 Axes>"
            ]
          },
          "metadata": {
            "needs_background": "light"
          }
        }
      ]
    },
    {
      "cell_type": "code",
      "metadata": {
        "id": "fqFgi2k-SEV2",
        "colab": {
          "base_uri": "https://localhost:8080/",
          "height": 350
        },
        "outputId": "f62ea59a-f1f8-406c-86dc-1f2389415683"
      },
      "source": [
        "# quantidade de outputs por classe\n",
        "\n",
        "sns.countplot(y)"
      ],
      "execution_count": 14,
      "outputs": [
        {
          "output_type": "stream",
          "name": "stderr",
          "text": [
            "/usr/local/lib/python3.7/dist-packages/seaborn/_decorators.py:43: FutureWarning: Pass the following variable as a keyword arg: x. From version 0.12, the only valid positional argument will be `data`, and passing other arguments without an explicit keyword will result in an error or misinterpretation.\n",
            "  FutureWarning\n"
          ]
        },
        {
          "output_type": "execute_result",
          "data": {
            "text/plain": [
              "<matplotlib.axes._subplots.AxesSubplot at 0x7f38fa6babd0>"
            ]
          },
          "metadata": {},
          "execution_count": 14
        },
        {
          "output_type": "display_data",
          "data": {
            "image/png": "[encoded data removed]",
            "text/plain": [
              "<Figure size 432x288 with 1 Axes>"
            ]
          },
          "metadata": {
            "needs_background": "light"
          }
        }
      ]
    },
    {
      "cell_type": "code",
      "metadata": {
        "id": "z1RKFBz5fGnI",
        "colab": {
          "base_uri": "https://localhost:8080/"
        },
        "outputId": "2290c9f7-99f5-4efc-cd90-bcc2acdc16a9"
      },
      "source": [
        "# Dividindo dataset para treinamento e teste\n",
        "\n",
        "X_train, X_test, y_train, y_test = train_test_split(X, y, test_size=0.33, random_state=0)\n",
        "\n",
        "print(X_train.shape)\n",
        "print(X_test.shape)\n",
        "print(y_train.shape)\n",
        "y_test.shape"
      ],
      "execution_count": 15,
      "outputs": [
        {
          "output_type": "stream",
          "name": "stdout",
          "text": [
            "(50, 10)\n",
            "(25, 10)\n",
            "(50,)\n"
          ]
        },
        {
          "output_type": "execute_result",
          "data": {
            "text/plain": [
              "(25,)"
            ]
          },
          "metadata": {},
          "execution_count": 15
        }
      ]
    },
    {
      "cell_type": "code",
      "metadata": {
        "id": "f6D7QaqyeuSC",
        "colab": {
          "base_uri": "https://localhost:8080/"
        },
        "outputId": "7bcf936c-c81f-4284-8b49-3192b2670f4e"
      },
      "source": [
        "# aplicando SVM (sem otimização de parâmetros)\n",
        "\n",
        "from sklearn import svm\n",
        "\n",
        "clf = svm.SVC(kernel='linear')\n",
        "clf.fit(X_train, y_train)\n",
        "\n",
        "y_pred = clf.predict(X_test)\n",
        "\n",
        "from sklearn import metrics\n",
        "\n",
        "print(\"Acurácia:\",metrics.accuracy_score(y_test, y_pred))"
      ],
      "execution_count": 19,
      "outputs": [
        {
          "output_type": "stream",
          "name": "stdout",
          "text": [
            "Acurácia: 0.8\n"
          ]
        }
      ]
    }
  ]
}